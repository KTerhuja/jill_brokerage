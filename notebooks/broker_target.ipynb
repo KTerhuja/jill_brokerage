{
 "cells": [
  {
   "cell_type": "code",
   "execution_count": 1,
   "metadata": {},
   "outputs": [],
   "source": [
    "import pandas as pd\n",
    "import pandas as pd\n",
    "from darts import TimeSeries\n",
    "from darts.metrics.metrics import rmse\n",
    "from darts.dataprocessing.transformers import Scaler"
   ]
  },
  {
   "cell_type": "code",
   "execution_count": 2,
   "metadata": {},
   "outputs": [],
   "source": [
    "actuals = pd.read_excel('../data/filtered_actuals.xlsx')\n"
   ]
  },
  {
   "cell_type": "code",
   "execution_count": 3,
   "metadata": {},
   "outputs": [],
   "source": [
    "broker_target = pd.read_excel('../data/filtered_broker_target_filledna.xlsx')"
   ]
  },
  {
   "cell_type": "code",
   "execution_count": 5,
   "metadata": {},
   "outputs": [
    {
     "data": {
      "text/html": [
       "<div>\n",
       "<style scoped>\n",
       "    .dataframe tbody tr th:only-of-type {\n",
       "        vertical-align: middle;\n",
       "    }\n",
       "\n",
       "    .dataframe tbody tr th {\n",
       "        vertical-align: top;\n",
       "    }\n",
       "\n",
       "    .dataframe thead th {\n",
       "        text-align: right;\n",
       "    }\n",
       "</style>\n",
       "<table border=\"1\" class=\"dataframe\">\n",
       "  <thead>\n",
       "    <tr style=\"text-align: right;\">\n",
       "      <th></th>\n",
       "      <th>FiscalYear</th>\n",
       "      <th>Armstrong, Brooke</th>\n",
       "      <th>Breen, Daniel</th>\n",
       "      <th>Cosby, Russell</th>\n",
       "      <th>Curry, Ashley</th>\n",
       "      <th>Darrow, Terry</th>\n",
       "      <th>Eckert, Jeff</th>\n",
       "      <th>Esquivel, James</th>\n",
       "      <th>Forkner, Fiona</th>\n",
       "      <th>Haggar, James</th>\n",
       "      <th>...</th>\n",
       "      <th>Selner, Bradley</th>\n",
       "      <th>Sheehy, Ahnie</th>\n",
       "      <th>Shipley, Christopher</th>\n",
       "      <th>Smith, Jubal</th>\n",
       "      <th>Stout, Christopher</th>\n",
       "      <th>Taguwa, Andrew</th>\n",
       "      <th>Toon, Larry</th>\n",
       "      <th>Weatherby, Samuel</th>\n",
       "      <th>Whitman, Paul</th>\n",
       "      <th>Wood, Alan</th>\n",
       "    </tr>\n",
       "  </thead>\n",
       "  <tbody>\n",
       "    <tr>\n",
       "      <th>0</th>\n",
       "      <td>2014</td>\n",
       "      <td>1380583.55</td>\n",
       "      <td>171398.16</td>\n",
       "      <td>770342.33</td>\n",
       "      <td>88839.39</td>\n",
       "      <td>1003383.83</td>\n",
       "      <td>750000.05</td>\n",
       "      <td>750000.01</td>\n",
       "      <td>384698.30</td>\n",
       "      <td>301113.55</td>\n",
       "      <td>...</td>\n",
       "      <td>3188933.63</td>\n",
       "      <td>151.72</td>\n",
       "      <td>356160.84</td>\n",
       "      <td>1771504.76</td>\n",
       "      <td>102575.75</td>\n",
       "      <td>901100.59</td>\n",
       "      <td>2259899.50</td>\n",
       "      <td>637791.99</td>\n",
       "      <td>1562838.05</td>\n",
       "      <td>856670.45</td>\n",
       "    </tr>\n",
       "    <tr>\n",
       "      <th>1</th>\n",
       "      <td>2015</td>\n",
       "      <td>631544.09</td>\n",
       "      <td>2194829.40</td>\n",
       "      <td>463416.90</td>\n",
       "      <td>335981.55</td>\n",
       "      <td>815760.82</td>\n",
       "      <td>997785.67</td>\n",
       "      <td>997785.62</td>\n",
       "      <td>998910.44</td>\n",
       "      <td>525300.89</td>\n",
       "      <td>...</td>\n",
       "      <td>2209823.93</td>\n",
       "      <td>142877.89</td>\n",
       "      <td>633904.48</td>\n",
       "      <td>7359378.40</td>\n",
       "      <td>250876.09</td>\n",
       "      <td>1011467.41</td>\n",
       "      <td>983978.26</td>\n",
       "      <td>1043269.72</td>\n",
       "      <td>1997295.13</td>\n",
       "      <td>786498.94</td>\n",
       "    </tr>\n",
       "    <tr>\n",
       "      <th>2</th>\n",
       "      <td>2016</td>\n",
       "      <td>1125976.16</td>\n",
       "      <td>1492879.42</td>\n",
       "      <td>1897362.90</td>\n",
       "      <td>401767.00</td>\n",
       "      <td>360931.29</td>\n",
       "      <td>995381.26</td>\n",
       "      <td>990905.52</td>\n",
       "      <td>1301178.85</td>\n",
       "      <td>641300.49</td>\n",
       "      <td>...</td>\n",
       "      <td>2076925.86</td>\n",
       "      <td>218536.00</td>\n",
       "      <td>808734.66</td>\n",
       "      <td>2113433.76</td>\n",
       "      <td>439799.56</td>\n",
       "      <td>714371.11</td>\n",
       "      <td>68855.76</td>\n",
       "      <td>576363.95</td>\n",
       "      <td>1207541.71</td>\n",
       "      <td>608604.08</td>\n",
       "    </tr>\n",
       "    <tr>\n",
       "      <th>3</th>\n",
       "      <td>2017</td>\n",
       "      <td>1526556.11</td>\n",
       "      <td>2425068.14</td>\n",
       "      <td>216952.35</td>\n",
       "      <td>267907.45</td>\n",
       "      <td>588227.17</td>\n",
       "      <td>812467.24</td>\n",
       "      <td>807640.25</td>\n",
       "      <td>665690.49</td>\n",
       "      <td>533198.91</td>\n",
       "      <td>...</td>\n",
       "      <td>2135517.42</td>\n",
       "      <td>333502.62</td>\n",
       "      <td>1325188.67</td>\n",
       "      <td>1495679.59</td>\n",
       "      <td>439281.72</td>\n",
       "      <td>998930.30</td>\n",
       "      <td>7801514.26</td>\n",
       "      <td>683077.75</td>\n",
       "      <td>363890.00</td>\n",
       "      <td>626262.49</td>\n",
       "    </tr>\n",
       "    <tr>\n",
       "      <th>4</th>\n",
       "      <td>2018</td>\n",
       "      <td>1786851.61</td>\n",
       "      <td>1557403.06</td>\n",
       "      <td>1035997.29</td>\n",
       "      <td>506123.66</td>\n",
       "      <td>429284.82</td>\n",
       "      <td>939797.56</td>\n",
       "      <td>939452.24</td>\n",
       "      <td>701267.31</td>\n",
       "      <td>540839.62</td>\n",
       "      <td>...</td>\n",
       "      <td>837927.59</td>\n",
       "      <td>394708.13</td>\n",
       "      <td>1221506.39</td>\n",
       "      <td>1477429.31</td>\n",
       "      <td>439691.67</td>\n",
       "      <td>1171395.37</td>\n",
       "      <td>543049.64</td>\n",
       "      <td>1662274.72</td>\n",
       "      <td>947842.79</td>\n",
       "      <td>433940.03</td>\n",
       "    </tr>\n",
       "    <tr>\n",
       "      <th>5</th>\n",
       "      <td>2019</td>\n",
       "      <td>2927638.63</td>\n",
       "      <td>1966813.19</td>\n",
       "      <td>2630950.86</td>\n",
       "      <td>393480.17</td>\n",
       "      <td>500000.00</td>\n",
       "      <td>610360.97</td>\n",
       "      <td>610355.66</td>\n",
       "      <td>589002.22</td>\n",
       "      <td>776827.65</td>\n",
       "      <td>...</td>\n",
       "      <td>3435213.05</td>\n",
       "      <td>500000.00</td>\n",
       "      <td>875584.42</td>\n",
       "      <td>9027557.98</td>\n",
       "      <td>837256.10</td>\n",
       "      <td>500000.00</td>\n",
       "      <td>563242.34</td>\n",
       "      <td>542493.41</td>\n",
       "      <td>798450.78</td>\n",
       "      <td>676387.34</td>\n",
       "    </tr>\n",
       "    <tr>\n",
       "      <th>6</th>\n",
       "      <td>2020</td>\n",
       "      <td>2774229.05</td>\n",
       "      <td>694513.79</td>\n",
       "      <td>85726.02</td>\n",
       "      <td>226290.45</td>\n",
       "      <td>69027.42</td>\n",
       "      <td>555576.34</td>\n",
       "      <td>555576.49</td>\n",
       "      <td>585002.05</td>\n",
       "      <td>765932.58</td>\n",
       "      <td>...</td>\n",
       "      <td>5020462.00</td>\n",
       "      <td>303459.66</td>\n",
       "      <td>1030727.50</td>\n",
       "      <td>1858116.40</td>\n",
       "      <td>729262.65</td>\n",
       "      <td>826222.42</td>\n",
       "      <td>204838.14</td>\n",
       "      <td>128476.25</td>\n",
       "      <td>1288304.98</td>\n",
       "      <td>92353.73</td>\n",
       "    </tr>\n",
       "    <tr>\n",
       "      <th>7</th>\n",
       "      <td>2021</td>\n",
       "      <td>1521039.35</td>\n",
       "      <td>1176575.40</td>\n",
       "      <td>1734397.73</td>\n",
       "      <td>529705.03</td>\n",
       "      <td>890021.64</td>\n",
       "      <td>1162108.21</td>\n",
       "      <td>1121160.16</td>\n",
       "      <td>334546.52</td>\n",
       "      <td>293815.62</td>\n",
       "      <td>...</td>\n",
       "      <td>3908492.32</td>\n",
       "      <td>217530.65</td>\n",
       "      <td>1382872.15</td>\n",
       "      <td>4769175.02</td>\n",
       "      <td>888623.37</td>\n",
       "      <td>650988.56</td>\n",
       "      <td>3920452.28</td>\n",
       "      <td>513034.18</td>\n",
       "      <td>1154146.70</td>\n",
       "      <td>273606.92</td>\n",
       "    </tr>\n",
       "    <tr>\n",
       "      <th>8</th>\n",
       "      <td>2022</td>\n",
       "      <td>138760.99</td>\n",
       "      <td>243170.51</td>\n",
       "      <td>262885.16</td>\n",
       "      <td>557611.48</td>\n",
       "      <td>240795.18</td>\n",
       "      <td>1101099.99</td>\n",
       "      <td>1071926.24</td>\n",
       "      <td>750000.00</td>\n",
       "      <td>1310808.71</td>\n",
       "      <td>...</td>\n",
       "      <td>4545074.40</td>\n",
       "      <td>488972.28</td>\n",
       "      <td>3319633.14</td>\n",
       "      <td>584342.95</td>\n",
       "      <td>900358.85</td>\n",
       "      <td>1277070.87</td>\n",
       "      <td>26433.64</td>\n",
       "      <td>559862.94</td>\n",
       "      <td>363262.31</td>\n",
       "      <td>500000.00</td>\n",
       "    </tr>\n",
       "    <tr>\n",
       "      <th>9</th>\n",
       "      <td>2023</td>\n",
       "      <td>-10737.07</td>\n",
       "      <td>427007.70</td>\n",
       "      <td>15142.76</td>\n",
       "      <td>592223.29</td>\n",
       "      <td>9041.67</td>\n",
       "      <td>986421.71</td>\n",
       "      <td>846948.54</td>\n",
       "      <td>1319272.27</td>\n",
       "      <td>2250000.00</td>\n",
       "      <td>...</td>\n",
       "      <td>2703434.77</td>\n",
       "      <td>126778.85</td>\n",
       "      <td>1530226.11</td>\n",
       "      <td>758521.60</td>\n",
       "      <td>1331616.06</td>\n",
       "      <td>1417720.02</td>\n",
       "      <td>26137.89</td>\n",
       "      <td>1128375.68</td>\n",
       "      <td>334568.10</td>\n",
       "      <td>180236.10</td>\n",
       "    </tr>\n",
       "  </tbody>\n",
       "</table>\n",
       "<p>10 rows × 34 columns</p>\n",
       "</div>"
      ],
      "text/plain": [
       "   FiscalYear  Armstrong, Brooke  Breen, Daniel  Cosby, Russell  \\\n",
       "0        2014         1380583.55      171398.16       770342.33   \n",
       "1        2015          631544.09     2194829.40       463416.90   \n",
       "2        2016         1125976.16     1492879.42      1897362.90   \n",
       "3        2017         1526556.11     2425068.14       216952.35   \n",
       "4        2018         1786851.61     1557403.06      1035997.29   \n",
       "5        2019         2927638.63     1966813.19      2630950.86   \n",
       "6        2020         2774229.05      694513.79        85726.02   \n",
       "7        2021         1521039.35     1176575.40      1734397.73   \n",
       "8        2022          138760.99      243170.51       262885.16   \n",
       "9        2023          -10737.07      427007.70        15142.76   \n",
       "\n",
       "   Curry, Ashley  Darrow, Terry  Eckert, Jeff  Esquivel, James  \\\n",
       "0       88839.39     1003383.83     750000.05        750000.01   \n",
       "1      335981.55      815760.82     997785.67        997785.62   \n",
       "2      401767.00      360931.29     995381.26        990905.52   \n",
       "3      267907.45      588227.17     812467.24        807640.25   \n",
       "4      506123.66      429284.82     939797.56        939452.24   \n",
       "5      393480.17      500000.00     610360.97        610355.66   \n",
       "6      226290.45       69027.42     555576.34        555576.49   \n",
       "7      529705.03      890021.64    1162108.21       1121160.16   \n",
       "8      557611.48      240795.18    1101099.99       1071926.24   \n",
       "9      592223.29        9041.67     986421.71        846948.54   \n",
       "\n",
       "   Forkner, Fiona  Haggar, James  ...  Selner, Bradley  Sheehy, Ahnie  \\\n",
       "0       384698.30      301113.55  ...       3188933.63         151.72   \n",
       "1       998910.44      525300.89  ...       2209823.93      142877.89   \n",
       "2      1301178.85      641300.49  ...       2076925.86      218536.00   \n",
       "3       665690.49      533198.91  ...       2135517.42      333502.62   \n",
       "4       701267.31      540839.62  ...        837927.59      394708.13   \n",
       "5       589002.22      776827.65  ...       3435213.05      500000.00   \n",
       "6       585002.05      765932.58  ...       5020462.00      303459.66   \n",
       "7       334546.52      293815.62  ...       3908492.32      217530.65   \n",
       "8       750000.00     1310808.71  ...       4545074.40      488972.28   \n",
       "9      1319272.27     2250000.00  ...       2703434.77      126778.85   \n",
       "\n",
       "   Shipley, Christopher  Smith, Jubal  Stout, Christopher  Taguwa, Andrew  \\\n",
       "0             356160.84    1771504.76           102575.75       901100.59   \n",
       "1             633904.48    7359378.40           250876.09      1011467.41   \n",
       "2             808734.66    2113433.76           439799.56       714371.11   \n",
       "3            1325188.67    1495679.59           439281.72       998930.30   \n",
       "4            1221506.39    1477429.31           439691.67      1171395.37   \n",
       "5             875584.42    9027557.98           837256.10       500000.00   \n",
       "6            1030727.50    1858116.40           729262.65       826222.42   \n",
       "7            1382872.15    4769175.02           888623.37       650988.56   \n",
       "8            3319633.14     584342.95           900358.85      1277070.87   \n",
       "9            1530226.11     758521.60          1331616.06      1417720.02   \n",
       "\n",
       "   Toon, Larry  Weatherby, Samuel  Whitman, Paul  Wood, Alan  \n",
       "0   2259899.50          637791.99     1562838.05   856670.45  \n",
       "1    983978.26         1043269.72     1997295.13   786498.94  \n",
       "2     68855.76          576363.95     1207541.71   608604.08  \n",
       "3   7801514.26          683077.75      363890.00   626262.49  \n",
       "4    543049.64         1662274.72      947842.79   433940.03  \n",
       "5    563242.34          542493.41      798450.78   676387.34  \n",
       "6    204838.14          128476.25     1288304.98    92353.73  \n",
       "7   3920452.28          513034.18     1154146.70   273606.92  \n",
       "8     26433.64          559862.94      363262.31   500000.00  \n",
       "9     26137.89         1128375.68      334568.10   180236.10  \n",
       "\n",
       "[10 rows x 34 columns]"
      ]
     },
     "execution_count": 5,
     "metadata": {},
     "output_type": "execute_result"
    }
   ],
   "source": [
    "actuals"
   ]
  },
  {
   "cell_type": "code",
   "execution_count": 4,
   "metadata": {},
   "outputs": [
    {
     "data": {
      "text/html": [
       "<div>\n",
       "<style scoped>\n",
       "    .dataframe tbody tr th:only-of-type {\n",
       "        vertical-align: middle;\n",
       "    }\n",
       "\n",
       "    .dataframe tbody tr th {\n",
       "        vertical-align: top;\n",
       "    }\n",
       "\n",
       "    .dataframe thead th {\n",
       "        text-align: right;\n",
       "    }\n",
       "</style>\n",
       "<table border=\"1\" class=\"dataframe\">\n",
       "  <thead>\n",
       "    <tr style=\"text-align: right;\">\n",
       "      <th></th>\n",
       "      <th>FiscalYear</th>\n",
       "      <th>Armstrong, Brooke</th>\n",
       "      <th>Breen, Daniel</th>\n",
       "      <th>Cosby, Russell</th>\n",
       "      <th>Curry, Ashley</th>\n",
       "      <th>Darrow, Terry</th>\n",
       "      <th>Eckert, Jeff</th>\n",
       "      <th>Esquivel, James</th>\n",
       "      <th>Forkner, Fiona</th>\n",
       "      <th>Haggar, James</th>\n",
       "      <th>...</th>\n",
       "      <th>Selner, Bradley</th>\n",
       "      <th>Sheehy, Ahnie</th>\n",
       "      <th>Shipley, Christopher</th>\n",
       "      <th>Smith, Jubal</th>\n",
       "      <th>Stout, Christopher</th>\n",
       "      <th>Taguwa, Andrew</th>\n",
       "      <th>Toon, Larry</th>\n",
       "      <th>Weatherby, Samuel</th>\n",
       "      <th>Whitman, Paul</th>\n",
       "      <th>Wood, Alan</th>\n",
       "    </tr>\n",
       "  </thead>\n",
       "  <tbody>\n",
       "    <tr>\n",
       "      <th>0</th>\n",
       "      <td>2014</td>\n",
       "      <td>1.200000e+06</td>\n",
       "      <td>5.000000e+05</td>\n",
       "      <td>1.000000e+06</td>\n",
       "      <td>0.000000e+00</td>\n",
       "      <td>2.100000e+06</td>\n",
       "      <td>1.400000e+06</td>\n",
       "      <td>1.400000e+06</td>\n",
       "      <td>1.300000e+06</td>\n",
       "      <td>3.500000e+05</td>\n",
       "      <td>...</td>\n",
       "      <td>1.750000e+06</td>\n",
       "      <td>0.000000e+00</td>\n",
       "      <td>4.000000e+05</td>\n",
       "      <td>1.200000e+06</td>\n",
       "      <td>2.000000e+05</td>\n",
       "      <td>7.500000e+05</td>\n",
       "      <td>1.500000e+06</td>\n",
       "      <td>5.000000e+05</td>\n",
       "      <td>1.500000e+06</td>\n",
       "      <td>6.000000e+05</td>\n",
       "    </tr>\n",
       "    <tr>\n",
       "      <th>1</th>\n",
       "      <td>2015</td>\n",
       "      <td>1.250000e+06</td>\n",
       "      <td>5.000000e+05</td>\n",
       "      <td>2.000000e+06</td>\n",
       "      <td>1.500000e+05</td>\n",
       "      <td>1.600000e+06</td>\n",
       "      <td>1.600000e+06</td>\n",
       "      <td>1.600000e+06</td>\n",
       "      <td>1.500000e+06</td>\n",
       "      <td>1.200000e+06</td>\n",
       "      <td>...</td>\n",
       "      <td>2.500000e+06</td>\n",
       "      <td>7.500000e+04</td>\n",
       "      <td>4.000000e+05</td>\n",
       "      <td>2.500000e+06</td>\n",
       "      <td>2.500000e+05</td>\n",
       "      <td>8.550000e+05</td>\n",
       "      <td>1.500000e+06</td>\n",
       "      <td>6.000000e+05</td>\n",
       "      <td>1.500000e+06</td>\n",
       "      <td>7.500000e+05</td>\n",
       "    </tr>\n",
       "    <tr>\n",
       "      <th>2</th>\n",
       "      <td>2016</td>\n",
       "      <td>1.000000e+06</td>\n",
       "      <td>1.500000e+06</td>\n",
       "      <td>1.500000e+06</td>\n",
       "      <td>4.000000e+05</td>\n",
       "      <td>1.400000e+06</td>\n",
       "      <td>7.000000e+05</td>\n",
       "      <td>7.000000e+05</td>\n",
       "      <td>9.666670e+05</td>\n",
       "      <td>6.000000e+05</td>\n",
       "      <td>...</td>\n",
       "      <td>2.200000e+06</td>\n",
       "      <td>1.600000e+05</td>\n",
       "      <td>5.000000e+05</td>\n",
       "      <td>3.000000e+06</td>\n",
       "      <td>5.000000e+05</td>\n",
       "      <td>9.666670e+05</td>\n",
       "      <td>1.500000e+06</td>\n",
       "      <td>1.633334e+06</td>\n",
       "      <td>1.500000e+06</td>\n",
       "      <td>8.000000e+05</td>\n",
       "    </tr>\n",
       "    <tr>\n",
       "      <th>3</th>\n",
       "      <td>2017</td>\n",
       "      <td>7.500000e+05</td>\n",
       "      <td>1.379000e+06</td>\n",
       "      <td>1.000000e+06</td>\n",
       "      <td>4.000000e+05</td>\n",
       "      <td>4.000000e+05</td>\n",
       "      <td>8.000000e+05</td>\n",
       "      <td>8.000000e+05</td>\n",
       "      <td>7.500000e+05</td>\n",
       "      <td>1.500000e+06</td>\n",
       "      <td>...</td>\n",
       "      <td>2.000000e+06</td>\n",
       "      <td>2.000000e+05</td>\n",
       "      <td>7.500000e+05</td>\n",
       "      <td>1.500000e+06</td>\n",
       "      <td>4.000000e+05</td>\n",
       "      <td>7.500000e+05</td>\n",
       "      <td>8.650000e+06</td>\n",
       "      <td>6.000000e+05</td>\n",
       "      <td>1.000000e+06</td>\n",
       "      <td>8.000000e+05</td>\n",
       "    </tr>\n",
       "    <tr>\n",
       "      <th>4</th>\n",
       "      <td>2018</td>\n",
       "      <td>1.250000e+06</td>\n",
       "      <td>2.218667e+06</td>\n",
       "      <td>1.000000e+06</td>\n",
       "      <td>4.000000e+05</td>\n",
       "      <td>7.000000e+05</td>\n",
       "      <td>2.400000e+06</td>\n",
       "      <td>2.400000e+06</td>\n",
       "      <td>2.250000e+06</td>\n",
       "      <td>1.000000e+06</td>\n",
       "      <td>...</td>\n",
       "      <td>1.750000e+06</td>\n",
       "      <td>2.000000e+05</td>\n",
       "      <td>1.800000e+06</td>\n",
       "      <td>2.218666e+06</td>\n",
       "      <td>1.200000e+06</td>\n",
       "      <td>1.000000e+06</td>\n",
       "      <td>2.000000e+06</td>\n",
       "      <td>8.500000e+05</td>\n",
       "      <td>3.000000e+06</td>\n",
       "      <td>2.400000e+06</td>\n",
       "    </tr>\n",
       "    <tr>\n",
       "      <th>5</th>\n",
       "      <td>2019</td>\n",
       "      <td>1.797766e+06</td>\n",
       "      <td>1.977076e+06</td>\n",
       "      <td>1.515785e+06</td>\n",
       "      <td>4.450111e+05</td>\n",
       "      <td>7.050786e+05</td>\n",
       "      <td>1.501899e+06</td>\n",
       "      <td>2.555989e+06</td>\n",
       "      <td>2.119291e+06</td>\n",
       "      <td>1.417596e+06</td>\n",
       "      <td>...</td>\n",
       "      <td>1.808278e+06</td>\n",
       "      <td>1.751064e+05</td>\n",
       "      <td>1.351294e+06</td>\n",
       "      <td>2.574303e+06</td>\n",
       "      <td>6.214291e+05</td>\n",
       "      <td>1.108331e+06</td>\n",
       "      <td>5.171692e+06</td>\n",
       "      <td>4.640914e+05</td>\n",
       "      <td>1.229895e+06</td>\n",
       "      <td>1.685388e+06</td>\n",
       "    </tr>\n",
       "    <tr>\n",
       "      <th>6</th>\n",
       "      <td>2020</td>\n",
       "      <td>2.500000e+06</td>\n",
       "      <td>2.347287e+06</td>\n",
       "      <td>2.000000e+06</td>\n",
       "      <td>3.514417e+05</td>\n",
       "      <td>8.218090e+05</td>\n",
       "      <td>7.387744e+05</td>\n",
       "      <td>1.489310e+06</td>\n",
       "      <td>1.800000e+06</td>\n",
       "      <td>1.232599e+06</td>\n",
       "      <td>...</td>\n",
       "      <td>2.500000e+06</td>\n",
       "      <td>1.438106e+05</td>\n",
       "      <td>1.642270e+06</td>\n",
       "      <td>2.405552e+06</td>\n",
       "      <td>1.397253e+06</td>\n",
       "      <td>2.000000e+06</td>\n",
       "      <td>6.000000e+05</td>\n",
       "      <td>5.500000e+05</td>\n",
       "      <td>8.000000e+05</td>\n",
       "      <td>8.000000e+05</td>\n",
       "    </tr>\n",
       "    <tr>\n",
       "      <th>7</th>\n",
       "      <td>2021</td>\n",
       "      <td>2.122976e+06</td>\n",
       "      <td>2.188235e+06</td>\n",
       "      <td>1.713554e+06</td>\n",
       "      <td>1.500000e+06</td>\n",
       "      <td>8.277283e+05</td>\n",
       "      <td>1.580360e+06</td>\n",
       "      <td>7.000000e+05</td>\n",
       "      <td>1.735445e+06</td>\n",
       "      <td>1.382997e+06</td>\n",
       "      <td>...</td>\n",
       "      <td>2.770005e+06</td>\n",
       "      <td>5.000000e+05</td>\n",
       "      <td>2.000000e+06</td>\n",
       "      <td>1.564799e+06</td>\n",
       "      <td>8.762097e+05</td>\n",
       "      <td>2.161284e+06</td>\n",
       "      <td>2.934364e+06</td>\n",
       "      <td>5.351797e+05</td>\n",
       "      <td>1.899507e+06</td>\n",
       "      <td>2.567850e+06</td>\n",
       "    </tr>\n",
       "    <tr>\n",
       "      <th>8</th>\n",
       "      <td>2022</td>\n",
       "      <td>1.633932e+06</td>\n",
       "      <td>1.290000e+06</td>\n",
       "      <td>1.241154e+06</td>\n",
       "      <td>1.090000e+06</td>\n",
       "      <td>3.150000e+05</td>\n",
       "      <td>1.630000e+06</td>\n",
       "      <td>1.630000e+06</td>\n",
       "      <td>2.168313e+06</td>\n",
       "      <td>1.250000e+06</td>\n",
       "      <td>...</td>\n",
       "      <td>2.728648e+06</td>\n",
       "      <td>9.000000e+05</td>\n",
       "      <td>1.265000e+06</td>\n",
       "      <td>1.540000e+06</td>\n",
       "      <td>1.260000e+06</td>\n",
       "      <td>2.010360e+06</td>\n",
       "      <td>2.911698e+06</td>\n",
       "      <td>5.808094e+05</td>\n",
       "      <td>1.636898e+06</td>\n",
       "      <td>1.696021e+06</td>\n",
       "    </tr>\n",
       "    <tr>\n",
       "      <th>9</th>\n",
       "      <td>2023</td>\n",
       "      <td>1.697376e+06</td>\n",
       "      <td>1.540000e+06</td>\n",
       "      <td>1.229080e+06</td>\n",
       "      <td>1.360000e+06</td>\n",
       "      <td>4.605749e+05</td>\n",
       "      <td>1.020000e+06</td>\n",
       "      <td>2.040000e+06</td>\n",
       "      <td>1.910000e+06</td>\n",
       "      <td>1.322577e+06</td>\n",
       "      <td>...</td>\n",
       "      <td>2.550000e+06</td>\n",
       "      <td>1.267266e+06</td>\n",
       "      <td>1.575000e+06</td>\n",
       "      <td>2.160000e+06</td>\n",
       "      <td>8.151310e+05</td>\n",
       "      <td>9.550000e+05</td>\n",
       "      <td>6.400000e+05</td>\n",
       "      <td>9.550000e+05</td>\n",
       "      <td>9.550000e+05</td>\n",
       "      <td>9.550000e+05</td>\n",
       "    </tr>\n",
       "  </tbody>\n",
       "</table>\n",
       "<p>10 rows × 34 columns</p>\n",
       "</div>"
      ],
      "text/plain": [
       "   FiscalYear  Armstrong, Brooke  Breen, Daniel  Cosby, Russell  \\\n",
       "0        2014       1.200000e+06   5.000000e+05    1.000000e+06   \n",
       "1        2015       1.250000e+06   5.000000e+05    2.000000e+06   \n",
       "2        2016       1.000000e+06   1.500000e+06    1.500000e+06   \n",
       "3        2017       7.500000e+05   1.379000e+06    1.000000e+06   \n",
       "4        2018       1.250000e+06   2.218667e+06    1.000000e+06   \n",
       "5        2019       1.797766e+06   1.977076e+06    1.515785e+06   \n",
       "6        2020       2.500000e+06   2.347287e+06    2.000000e+06   \n",
       "7        2021       2.122976e+06   2.188235e+06    1.713554e+06   \n",
       "8        2022       1.633932e+06   1.290000e+06    1.241154e+06   \n",
       "9        2023       1.697376e+06   1.540000e+06    1.229080e+06   \n",
       "\n",
       "   Curry, Ashley  Darrow, Terry  Eckert, Jeff  Esquivel, James  \\\n",
       "0   0.000000e+00   2.100000e+06  1.400000e+06     1.400000e+06   \n",
       "1   1.500000e+05   1.600000e+06  1.600000e+06     1.600000e+06   \n",
       "2   4.000000e+05   1.400000e+06  7.000000e+05     7.000000e+05   \n",
       "3   4.000000e+05   4.000000e+05  8.000000e+05     8.000000e+05   \n",
       "4   4.000000e+05   7.000000e+05  2.400000e+06     2.400000e+06   \n",
       "5   4.450111e+05   7.050786e+05  1.501899e+06     2.555989e+06   \n",
       "6   3.514417e+05   8.218090e+05  7.387744e+05     1.489310e+06   \n",
       "7   1.500000e+06   8.277283e+05  1.580360e+06     7.000000e+05   \n",
       "8   1.090000e+06   3.150000e+05  1.630000e+06     1.630000e+06   \n",
       "9   1.360000e+06   4.605749e+05  1.020000e+06     2.040000e+06   \n",
       "\n",
       "   Forkner, Fiona  Haggar, James  ...  Selner, Bradley  Sheehy, Ahnie  \\\n",
       "0    1.300000e+06   3.500000e+05  ...     1.750000e+06   0.000000e+00   \n",
       "1    1.500000e+06   1.200000e+06  ...     2.500000e+06   7.500000e+04   \n",
       "2    9.666670e+05   6.000000e+05  ...     2.200000e+06   1.600000e+05   \n",
       "3    7.500000e+05   1.500000e+06  ...     2.000000e+06   2.000000e+05   \n",
       "4    2.250000e+06   1.000000e+06  ...     1.750000e+06   2.000000e+05   \n",
       "5    2.119291e+06   1.417596e+06  ...     1.808278e+06   1.751064e+05   \n",
       "6    1.800000e+06   1.232599e+06  ...     2.500000e+06   1.438106e+05   \n",
       "7    1.735445e+06   1.382997e+06  ...     2.770005e+06   5.000000e+05   \n",
       "8    2.168313e+06   1.250000e+06  ...     2.728648e+06   9.000000e+05   \n",
       "9    1.910000e+06   1.322577e+06  ...     2.550000e+06   1.267266e+06   \n",
       "\n",
       "   Shipley, Christopher  Smith, Jubal  Stout, Christopher  Taguwa, Andrew  \\\n",
       "0          4.000000e+05  1.200000e+06        2.000000e+05    7.500000e+05   \n",
       "1          4.000000e+05  2.500000e+06        2.500000e+05    8.550000e+05   \n",
       "2          5.000000e+05  3.000000e+06        5.000000e+05    9.666670e+05   \n",
       "3          7.500000e+05  1.500000e+06        4.000000e+05    7.500000e+05   \n",
       "4          1.800000e+06  2.218666e+06        1.200000e+06    1.000000e+06   \n",
       "5          1.351294e+06  2.574303e+06        6.214291e+05    1.108331e+06   \n",
       "6          1.642270e+06  2.405552e+06        1.397253e+06    2.000000e+06   \n",
       "7          2.000000e+06  1.564799e+06        8.762097e+05    2.161284e+06   \n",
       "8          1.265000e+06  1.540000e+06        1.260000e+06    2.010360e+06   \n",
       "9          1.575000e+06  2.160000e+06        8.151310e+05    9.550000e+05   \n",
       "\n",
       "    Toon, Larry  Weatherby, Samuel  Whitman, Paul    Wood, Alan  \n",
       "0  1.500000e+06       5.000000e+05   1.500000e+06  6.000000e+05  \n",
       "1  1.500000e+06       6.000000e+05   1.500000e+06  7.500000e+05  \n",
       "2  1.500000e+06       1.633334e+06   1.500000e+06  8.000000e+05  \n",
       "3  8.650000e+06       6.000000e+05   1.000000e+06  8.000000e+05  \n",
       "4  2.000000e+06       8.500000e+05   3.000000e+06  2.400000e+06  \n",
       "5  5.171692e+06       4.640914e+05   1.229895e+06  1.685388e+06  \n",
       "6  6.000000e+05       5.500000e+05   8.000000e+05  8.000000e+05  \n",
       "7  2.934364e+06       5.351797e+05   1.899507e+06  2.567850e+06  \n",
       "8  2.911698e+06       5.808094e+05   1.636898e+06  1.696021e+06  \n",
       "9  6.400000e+05       9.550000e+05   9.550000e+05  9.550000e+05  \n",
       "\n",
       "[10 rows x 34 columns]"
      ]
     },
     "execution_count": 4,
     "metadata": {},
     "output_type": "execute_result"
    }
   ],
   "source": [
    "broker_target"
   ]
  },
  {
   "cell_type": "code",
   "execution_count": 4,
   "metadata": {},
   "outputs": [],
   "source": [
    "actuals_series = TimeSeries.from_dataframe(actuals, time_col=\"FiscalYear\")\n",
    "broker_target_series = TimeSeries.from_dataframe(broker_target, time_col=\"FiscalYear\")"
   ]
  },
  {
   "cell_type": "code",
   "execution_count": 5,
   "metadata": {},
   "outputs": [
    {
     "data": {
      "text/plain": [
       "<Axes: xlabel='FiscalYear'>"
      ]
     },
     "execution_count": 5,
     "metadata": {},
     "output_type": "execute_result"
    },
    {
     "data": {
      "image/png": "[encoded data removed]",
      "text/plain": [
       "<Figure size 640x480 with 1 Axes>"
      ]
     },
     "metadata": {},
     "output_type": "display_data"
    }
   ],
   "source": [
    "import random\n",
    "\n",
    "name = random.choices(actuals.columns[1:])\n",
    "actuals_series[name].plot()\n",
    "broker_target_series[name].plot(label='target')"
   ]
  },
  {
   "cell_type": "code",
   "execution_count": 7,
   "metadata": {},
   "outputs": [],
   "source": [
    "deficit_value = pd.read_excel('../data/adjusted_values.xlsx')"
   ]
  },
  {
   "cell_type": "code",
   "execution_count": 10,
   "metadata": {},
   "outputs": [],
   "source": [
    "deficit_value.set_index('FiscalYear',inplace=True)\n",
    "deficit_value['Avg Shortfall'] = deficit_value.apply(lambda x: x.mean(), axis=1)"
   ]
  },
  {
   "cell_type": "code",
   "execution_count": 27,
   "metadata": {},
   "outputs": [],
   "source": [
    "individual_broker = deficit_value.apply(lambda x: x.mean())"
   ]
  },
  {
   "cell_type": "code",
   "execution_count": 34,
   "metadata": {},
   "outputs": [
    {
     "data": {
      "text/plain": [
       "index                   4.500000e+00\n",
       "FiscalYear              2.018500e+03\n",
       "Armstrong, Brooke      -1.399608e+05\n",
       "Breen, Daniel          -3.090607e+05\n",
       "Cosby, Russell         -5.086398e+05\n",
       "Curry, Ashley          -2.196523e+05\n",
       "Darrow, Terry          -4.423717e+05\n",
       "Eckert, Jeff           -4.460034e+05\n",
       "Esquivel, James        -6.623548e+05\n",
       "Forkner, Fiona         -8.870148e+05\n",
       "Haggar, James          -3.316631e+05\n",
       "Halstedt, Lauren       -6.130988e+04\n",
       "Holcomb, Curtis        -4.601053e+05\n",
       "Holland, Melissa        1.237221e+05\n",
       "Hoobler, Howard         1.088983e+03\n",
       "Hull, Calvin           -8.719428e+04\n",
       "Jones, Elizabeth       -1.168676e+05\n",
       "Kackley, Kelley        -6.669809e+05\n",
       "Leatherman, Andrew      2.675861e+05\n",
       "Littlejohn, Torrey      7.525025e+04\n",
       "McCarthy, Conor        -1.072132e+06\n",
       "McCarthy, Thomas       -3.338034e+05\n",
       "McGown, Jeremy         -3.225880e+05\n",
       "McNeil, Jon            -7.318207e+04\n",
       "Mullin, Daryl          -6.037218e+05\n",
       "Selner, Bradley         7.504873e+05\n",
       "Sheehy, Ahnie          -8.946650e+04\n",
       "Shipley, Christopher    8.009747e+04\n",
       "Smith, Jubal            1.055182e+06\n",
       "Stout, Christopher     -1.160681e+05\n",
       "Taguwa, Andrew         -3.087375e+05\n",
       "Toon, Larry            -1.100935e+06\n",
       "Weatherby, Samuel       2.066062e+04\n",
       "Whitman, Paul          -5.003158e+05\n",
       "Wood, Alan             -8.019699e+05\n",
       "Overall Deficit        -2.511523e+05\n",
       "Avg Shortfall          -2.439188e+05\n",
       "dtype: float64"
      ]
     },
     "execution_count": 34,
     "metadata": {},
     "output_type": "execute_result"
    }
   ],
   "source": [
    "individual_broker"
   ]
  },
  {
   "cell_type": "code",
   "execution_count": 35,
   "metadata": {},
   "outputs": [],
   "source": [
    "import plotly.graph_objects as go\n"
   ]
  },
  {
   "cell_type": "code",
   "execution_count": 43,
   "metadata": {},
   "outputs": [
    {
     "data": {
      "application/vnd.plotly.v1+json": {
       "config": {
        "plotlyServerURL": "https://plot.ly"
       },
       "data": [
        {
         "line": {
          "color": "blue"
         },
         "mode": "lines",
         "name": "Average Shortfall of Individual Broker",
         "type": "scatter",
         "x": [
          "index",
          "FiscalYear",
          "Armstrong, Brooke",
          "Breen, Daniel",
          "Cosby, Russell",
          "Curry, Ashley",
          "Darrow, Terry",
          "Eckert, Jeff",
          "Esquivel, James",
          "Forkner, Fiona",
          "Haggar, James",
          "Halstedt, Lauren",
          "Holcomb, Curtis",
          "Holland, Melissa",
          "Hoobler, Howard",
          "Hull, Calvin",
          "Jones, Elizabeth",
          "Kackley, Kelley",
          "Leatherman, Andrew",
          "Littlejohn, Torrey",
          "McCarthy, Conor",
          "McCarthy, Thomas",
          "McGown, Jeremy",
          "McNeil, Jon",
          "Mullin, Daryl",
          "Selner, Bradley",
          "Sheehy, Ahnie",
          "Shipley, Christopher",
          "Smith, Jubal",
          "Stout, Christopher",
          "Taguwa, Andrew",
          "Toon, Larry",
          "Weatherby, Samuel",
          "Whitman, Paul",
          "Wood, Alan",
          "Overall Deficit",
          "Avg Shortfall"
         ],
         "y": [
          4.5,
          2018.5,
          -139960.7510674193,
          -309060.6690374576,
          -508639.8477772763,
          -219652.33696588269,
          -442371.7012835429,
          -446003.4460658513,
          -662354.7881566624,
          -887014.7563150342,
          -331663.1457555205,
          -61309.87517380051,
          -460105.2893917376,
          123722.1069052914,
          1088.9834566071338,
          -87194.28195626831,
          -116867.55257174652,
          -666980.9153034815,
          267586.10716902773,
          75250.25188713739,
          -1072131.8814045968,
          -333803.3885598881,
          -322587.972152095,
          -73182.07009695894,
          -603721.7901814765,
          750487.3428486414,
          -89466.50005617016,
          80097.46761655477,
          1055182.0497385368,
          -116068.09301090261,
          -308737.46818054083,
          -1100935.1956382198,
          20660.615282245566,
          -500315.83849221637,
          -801969.9277701646,
          -251152.25931699603,
          -243918.80905079615
         ]
        }
       ],
       "layout": {
        "template": {
         "data": {
          "bar": [
           {
            "error_x": {
             "color": "#2a3f5f"
            },
            "error_y": {
             "color": "#2a3f5f"
            },
            "marker": {
             "line": {
              "color": "#E5ECF6",
              "width": 0.5
             },
             "pattern": {
              "fillmode": "overlay",
              "size": 10,
              "solidity": 0.2
             }
            },
            "type": "bar"
           }
          ],
          "barpolar": [
           {
            "marker": {
             "line": {
              "color": "#E5ECF6",
              "width": 0.5
             },
             "pattern": {
              "fillmode": "overlay",
              "size": 10,
              "solidity": 0.2
             }
            },
            "type": "barpolar"
           }
          ],
          "carpet": [
           {
            "aaxis": {
             "endlinecolor": "#2a3f5f",
             "gridcolor": "white",
             "linecolor": "white",
             "minorgridcolor": "white",
             "startlinecolor": "#2a3f5f"
            },
            "baxis": {
             "endlinecolor": "#2a3f5f",
             "gridcolor": "white",
             "linecolor": "white",
             "minorgridcolor": "white",
             "startlinecolor": "#2a3f5f"
            },
            "type": "carpet"
           }
          ],
          "choropleth": [
           {
            "colorbar": {
             "outlinewidth": 0,
             "ticks": ""
            },
            "type": "choropleth"
           }
          ],
          "contour": [
           {
            "colorbar": {
             "outlinewidth": 0,
             "ticks": ""
            },
            "colorscale": [
             [
              0,
              "#0d0887"
             ],
             [
              0.1111111111111111,
              "#46039f"
             ],
             [
              0.2222222222222222,
              "#7201a8"
             ],
             [
              0.3333333333333333,
              "#9c179e"
             ],
             [
              0.4444444444444444,
              "#bd3786"
             ],
             [
              0.5555555555555556,
              "#d8576b"
             ],
             [
              0.6666666666666666,
              "#ed7953"
             ],
             [
              0.7777777777777778,
              "#fb9f3a"
             ],
             [
              0.8888888888888888,
              "#fdca26"
             ],
             [
              1,
              "#f0f921"
             ]
            ],
            "type": "contour"
           }
          ],
          "contourcarpet": [
           {
            "colorbar": {
             "outlinewidth": 0,
             "ticks": ""
            },
            "type": "contourcarpet"
           }
          ],
          "heatmap": [
           {
            "colorbar": {
             "outlinewidth": 0,
             "ticks": ""
            },
            "colorscale": [
             [
              0,
              "#0d0887"
             ],
             [
              0.1111111111111111,
              "#46039f"
             ],
             [
              0.2222222222222222,
              "#7201a8"
             ],
             [
              0.3333333333333333,
              "#9c179e"
             ],
             [
              0.4444444444444444,
              "#bd3786"
             ],
             [
              0.5555555555555556,
              "#d8576b"
             ],
             [
              0.6666666666666666,
              "#ed7953"
             ],
             [
              0.7777777777777778,
              "#fb9f3a"
             ],
             [
              0.8888888888888888,
              "#fdca26"
             ],
             [
              1,
              "#f0f921"
             ]
            ],
            "type": "heatmap"
           }
          ],
          "heatmapgl": [
           {
            "colorbar": {
             "outlinewidth": 0,
             "ticks": ""
            },
            "colorscale": [
             [
              0,
              "#0d0887"
             ],
             [
              0.1111111111111111,
              "#46039f"
             ],
             [
              0.2222222222222222,
              "#7201a8"
             ],
             [
              0.3333333333333333,
              "#9c179e"
             ],
             [
              0.4444444444444444,
              "#bd3786"
             ],
             [
              0.5555555555555556,
              "#d8576b"
             ],
             [
              0.6666666666666666,
              "#ed7953"
             ],
             [
              0.7777777777777778,
              "#fb9f3a"
             ],
             [
              0.8888888888888888,
              "#fdca26"
             ],
             [
              1,
              "#f0f921"
             ]
            ],
            "type": "heatmapgl"
           }
          ],
          "histogram": [
           {
            "marker": {
             "pattern": {
              "fillmode": "overlay",
              "size": 10,
              "solidity": 0.2
             }
            },
            "type": "histogram"
           }
          ],
          "histogram2d": [
           {
            "colorbar": {
             "outlinewidth": 0,
             "ticks": ""
            },
            "colorscale": [
             [
              0,
              "#0d0887"
             ],
             [
              0.1111111111111111,
              "#46039f"
             ],
             [
              0.2222222222222222,
              "#7201a8"
             ],
             [
              0.3333333333333333,
              "#9c179e"
             ],
             [
              0.4444444444444444,
              "#bd3786"
             ],
             [
              0.5555555555555556,
              "#d8576b"
             ],
             [
              0.6666666666666666,
              "#ed7953"
             ],
             [
              0.7777777777777778,
              "#fb9f3a"
             ],
             [
              0.8888888888888888,
              "#fdca26"
             ],
             [
              1,
              "#f0f921"
             ]
            ],
            "type": "histogram2d"
           }
          ],
          "histogram2dcontour": [
           {
            "colorbar": {
             "outlinewidth": 0,
             "ticks": ""
            },
            "colorscale": [
             [
              0,
              "#0d0887"
             ],
             [
              0.1111111111111111,
              "#46039f"
             ],
             [
              0.2222222222222222,
              "#7201a8"
             ],
             [
              0.3333333333333333,
              "#9c179e"
             ],
             [
              0.4444444444444444,
              "#bd3786"
             ],
             [
              0.5555555555555556,
              "#d8576b"
             ],
             [
              0.6666666666666666,
              "#ed7953"
             ],
             [
              0.7777777777777778,
              "#fb9f3a"
             ],
             [
              0.8888888888888888,
              "#fdca26"
             ],
             [
              1,
              "#f0f921"
             ]
            ],
            "type": "histogram2dcontour"
           }
          ],
          "mesh3d": [
           {
            "colorbar": {
             "outlinewidth": 0,
             "ticks": ""
            },
            "type": "mesh3d"
           }
          ],
          "parcoords": [
           {
            "line": {
             "colorbar": {
              "outlinewidth": 0,
              "ticks": ""
             }
            },
            "type": "parcoords"
           }
          ],
          "pie": [
           {
            "automargin": true,
            "type": "pie"
           }
          ],
          "scatter": [
           {
            "fillpattern": {
             "fillmode": "overlay",
             "size": 10,
             "solidity": 0.2
            },
            "type": "scatter"
           }
          ],
          "scatter3d": [
           {
            "line": {
             "colorbar": {
              "outlinewidth": 0,
              "ticks": ""
             }
            },
            "marker": {
             "colorbar": {
              "outlinewidth": 0,
              "ticks": ""
             }
            },
            "type": "scatter3d"
           }
          ],
          "scattercarpet": [
           {
            "marker": {
             "colorbar": {
              "outlinewidth": 0,
              "ticks": ""
             }
            },
            "type": "scattercarpet"
           }
          ],
          "scattergeo": [
           {
            "marker": {
             "colorbar": {
              "outlinewidth": 0,
              "ticks": ""
             }
            },
            "type": "scattergeo"
           }
          ],
          "scattergl": [
           {
            "marker": {
             "colorbar": {
              "outlinewidth": 0,
              "ticks": ""
             }
            },
            "type": "scattergl"
           }
          ],
          "scattermapbox": [
           {
            "marker": {
             "colorbar": {
              "outlinewidth": 0,
              "ticks": ""
             }
            },
            "type": "scattermapbox"
           }
          ],
          "scatterpolar": [
           {
            "marker": {
             "colorbar": {
              "outlinewidth": 0,
              "ticks": ""
             }
            },
            "type": "scatterpolar"
           }
          ],
          "scatterpolargl": [
           {
            "marker": {
             "colorbar": {
              "outlinewidth": 0,
              "ticks": ""
             }
            },
            "type": "scatterpolargl"
           }
          ],
          "scatterternary": [
           {
            "marker": {
             "colorbar": {
              "outlinewidth": 0,
              "ticks": ""
             }
            },
            "type": "scatterternary"
           }
          ],
          "surface": [
           {
            "colorbar": {
             "outlinewidth": 0,
             "ticks": ""
            },
            "colorscale": [
             [
              0,
              "#0d0887"
             ],
             [
              0.1111111111111111,
              "#46039f"
             ],
             [
              0.2222222222222222,
              "#7201a8"
             ],
             [
              0.3333333333333333,
              "#9c179e"
             ],
             [
              0.4444444444444444,
              "#bd3786"
             ],
             [
              0.5555555555555556,
              "#d8576b"
             ],
             [
              0.6666666666666666,
              "#ed7953"
             ],
             [
              0.7777777777777778,
              "#fb9f3a"
             ],
             [
              0.8888888888888888,
              "#fdca26"
             ],
             [
              1,
              "#f0f921"
             ]
            ],
            "type": "surface"
           }
          ],
          "table": [
           {
            "cells": {
             "fill": {
              "color": "#EBF0F8"
             },
             "line": {
              "color": "white"
             }
            },
            "header": {
             "fill": {
              "color": "#C8D4E3"
             },
             "line": {
              "color": "white"
             }
            },
            "type": "table"
           }
          ]
         },
         "layout": {
          "annotationdefaults": {
           "arrowcolor": "#2a3f5f",
           "arrowhead": 0,
           "arrowwidth": 1
          },
          "autotypenumbers": "strict",
          "coloraxis": {
           "colorbar": {
            "outlinewidth": 0,
            "ticks": ""
           }
          },
          "colorscale": {
           "diverging": [
            [
             0,
             "#8e0152"
            ],
            [
             0.1,
             "#c51b7d"
            ],
            [
             0.2,
             "#de77ae"
            ],
            [
             0.3,
             "#f1b6da"
            ],
            [
             0.4,
             "#fde0ef"
            ],
            [
             0.5,
             "#f7f7f7"
            ],
            [
             0.6,
             "#e6f5d0"
            ],
            [
             0.7,
             "#b8e186"
            ],
            [
             0.8,
             "#7fbc41"
            ],
            [
             0.9,
             "#4d9221"
            ],
            [
             1,
             "#276419"
            ]
           ],
           "sequential": [
            [
             0,
             "#0d0887"
            ],
            [
             0.1111111111111111,
             "#46039f"
            ],
            [
             0.2222222222222222,
             "#7201a8"
            ],
            [
             0.3333333333333333,
             "#9c179e"
            ],
            [
             0.4444444444444444,
             "#bd3786"
            ],
            [
             0.5555555555555556,
             "#d8576b"
            ],
            [
             0.6666666666666666,
             "#ed7953"
            ],
            [
             0.7777777777777778,
             "#fb9f3a"
            ],
            [
             0.8888888888888888,
             "#fdca26"
            ],
            [
             1,
             "#f0f921"
            ]
           ],
           "sequentialminus": [
            [
             0,
             "#0d0887"
            ],
            [
             0.1111111111111111,
             "#46039f"
            ],
            [
             0.2222222222222222,
             "#7201a8"
            ],
            [
             0.3333333333333333,
             "#9c179e"
            ],
            [
             0.4444444444444444,
             "#bd3786"
            ],
            [
             0.5555555555555556,
             "#d8576b"
            ],
            [
             0.6666666666666666,
             "#ed7953"
            ],
            [
             0.7777777777777778,
             "#fb9f3a"
            ],
            [
             0.8888888888888888,
             "#fdca26"
            ],
            [
             1,
             "#f0f921"
            ]
           ]
          },
          "colorway": [
           "#636efa",
           "#EF553B",
           "#00cc96",
           "#ab63fa",
           "#FFA15A",
           "#19d3f3",
           "#FF6692",
           "#B6E880",
           "#FF97FF",
           "#FECB52"
          ],
          "font": {
           "color": "#2a3f5f"
          },
          "geo": {
           "bgcolor": "white",
           "lakecolor": "white",
           "landcolor": "#E5ECF6",
           "showlakes": true,
           "showland": true,
           "subunitcolor": "white"
          },
          "hoverlabel": {
           "align": "left"
          },
          "hovermode": "closest",
          "mapbox": {
           "style": "light"
          },
          "paper_bgcolor": "white",
          "plot_bgcolor": "#E5ECF6",
          "polar": {
           "angularaxis": {
            "gridcolor": "white",
            "linecolor": "white",
            "ticks": ""
           },
           "bgcolor": "#E5ECF6",
           "radialaxis": {
            "gridcolor": "white",
            "linecolor": "white",
            "ticks": ""
           }
          },
          "scene": {
           "xaxis": {
            "backgroundcolor": "#E5ECF6",
            "gridcolor": "white",
            "gridwidth": 2,
            "linecolor": "white",
            "showbackground": true,
            "ticks": "",
            "zerolinecolor": "white"
           },
           "yaxis": {
            "backgroundcolor": "#E5ECF6",
            "gridcolor": "white",
            "gridwidth": 2,
            "linecolor": "white",
            "showbackground": true,
            "ticks": "",
            "zerolinecolor": "white"
           },
           "zaxis": {
            "backgroundcolor": "#E5ECF6",
            "gridcolor": "white",
            "gridwidth": 2,
            "linecolor": "white",
            "showbackground": true,
            "ticks": "",
            "zerolinecolor": "white"
           }
          },
          "shapedefaults": {
           "line": {
            "color": "#2a3f5f"
           }
          },
          "ternary": {
           "aaxis": {
            "gridcolor": "white",
            "linecolor": "white",
            "ticks": ""
           },
           "baxis": {
            "gridcolor": "white",
            "linecolor": "white",
            "ticks": ""
           },
           "bgcolor": "#E5ECF6",
           "caxis": {
            "gridcolor": "white",
            "linecolor": "white",
            "ticks": ""
           }
          },
          "title": {
           "x": 0.05
          },
          "xaxis": {
           "automargin": true,
           "gridcolor": "white",
           "linecolor": "white",
           "ticks": "",
           "title": {
            "standoff": 15
           },
           "zerolinecolor": "white",
           "zerolinewidth": 2
          },
          "yaxis": {
           "automargin": true,
           "gridcolor": "white",
           "linecolor": "white",
           "ticks": "",
           "title": {
            "standoff": 15
           },
           "zerolinecolor": "white",
           "zerolinewidth": 2
          }
         }
        }
       }
      },
      "text/html": [
       "<div>                            <div id=\"1482b70f-dafa-4279-9fdf-f154fcc48355\" class=\"plotly-graph-div\" style=\"height:525px; width:100%;\"></div>            <script type=\"text/javascript\">                require([\"plotly\"], function(Plotly) {                    window.PLOTLYENV=window.PLOTLYENV || {};                                    if (document.getElementById(\"1482b70f-dafa-4279-9fdf-f154fcc48355\")) {                    Plotly.newPlot(                        \"1482b70f-dafa-4279-9fdf-f154fcc48355\",                        [{\"line\":{\"color\":\"blue\"},\"mode\":\"lines\",\"name\":\"Average Shortfall of Individual Broker\",\"x\":[\"index\",\"FiscalYear\",\"Armstrong, Brooke\",\"Breen, Daniel\",\"Cosby, Russell\",\"Curry, Ashley\",\"Darrow, Terry\",\"Eckert, Jeff\",\"Esquivel, James\",\"Forkner, Fiona\",\"Haggar, James\",\"Halstedt, Lauren\",\"Holcomb, Curtis\",\"Holland, Melissa\",\"Hoobler, Howard\",\"Hull, Calvin\",\"Jones, Elizabeth\",\"Kackley, Kelley\",\"Leatherman, Andrew\",\"Littlejohn, Torrey\",\"McCarthy, Conor\",\"McCarthy, Thomas\",\"McGown, Jeremy\",\"McNeil, Jon\",\"Mullin, Daryl\",\"Selner, Bradley\",\"Sheehy, Ahnie\",\"Shipley, Christopher\",\"Smith, Jubal\",\"Stout, Christopher\",\"Taguwa, Andrew\",\"Toon, Larry\",\"Weatherby, Samuel\",\"Whitman, Paul\",\"Wood, Alan\",\"Overall Deficit\",\"Avg Shortfall\"],\"y\":[4.5,2018.5,-139960.7510674193,-309060.6690374576,-508639.8477772763,-219652.33696588269,-442371.7012835429,-446003.4460658513,-662354.7881566624,-887014.7563150342,-331663.1457555205,-61309.87517380051,-460105.2893917376,123722.1069052914,1088.9834566071338,-87194.28195626831,-116867.55257174652,-666980.9153034815,267586.10716902773,75250.25188713739,-1072131.8814045968,-333803.3885598881,-322587.972152095,-73182.07009695894,-603721.7901814765,750487.3428486414,-89466.50005617016,80097.46761655477,1055182.0497385368,-116068.09301090261,-308737.46818054083,-1100935.1956382198,20660.615282245566,-500315.83849221637,-801969.9277701646,-251152.25931699603,-243918.80905079615],\"type\":\"scatter\"}],                        {\"template\":{\"data\":{\"histogram2dcontour\":[{\"type\":\"histogram2dcontour\",\"colorbar\":{\"outlinewidth\":0,\"ticks\":\"\"},\"colorscale\":[[0.0,\"#0d0887\"],[0.1111111111111111,\"#46039f\"],[0.2222222222222222,\"#7201a8\"],[0.3333333333333333,\"#9c179e\"],[0.4444444444444444,\"#bd3786\"],[0.5555555555555556,\"#d8576b\"],[0.6666666666666666,\"#ed7953\"],[0.7777777777777778,\"#fb9f3a\"],[0.8888888888888888,\"#fdca26\"],[1.0,\"#f0f921\"]]}],\"choropleth\":[{\"type\":\"choropleth\",\"colorbar\":{\"outlinewidth\":0,\"ticks\":\"\"}}],\"histogram2d\":[{\"type\":\"histogram2d\",\"colorbar\":{\"outlinewidth\":0,\"ticks\":\"\"},\"colorscale\":[[0.0,\"#0d0887\"],[0.1111111111111111,\"#46039f\"],[0.2222222222222222,\"#7201a8\"],[0.3333333333333333,\"#9c179e\"],[0.4444444444444444,\"#bd3786\"],[0.5555555555555556,\"#d8576b\"],[0.6666666666666666,\"#ed7953\"],[0.7777777777777778,\"#fb9f3a\"],[0.8888888888888888,\"#fdca26\"],[1.0,\"#f0f921\"]]}],\"heatmap\":[{\"type\":\"heatmap\",\"colorbar\":{\"outlinewidth\":0,\"ticks\":\"\"},\"colorscale\":[[0.0,\"#0d0887\"],[0.1111111111111111,\"#46039f\"],[0.2222222222222222,\"#7201a8\"],[0.3333333333333333,\"#9c179e\"],[0.4444444444444444,\"#bd3786\"],[0.5555555555555556,\"#d8576b\"],[0.6666666666666666,\"#ed7953\"],[0.7777777777777778,\"#fb9f3a\"],[0.8888888888888888,\"#fdca26\"],[1.0,\"#f0f921\"]]}],\"heatmapgl\":[{\"type\":\"heatmapgl\",\"colorbar\":{\"outlinewidth\":0,\"ticks\":\"\"},\"colorscale\":[[0.0,\"#0d0887\"],[0.1111111111111111,\"#46039f\"],[0.2222222222222222,\"#7201a8\"],[0.3333333333333333,\"#9c179e\"],[0.4444444444444444,\"#bd3786\"],[0.5555555555555556,\"#d8576b\"],[0.6666666666666666,\"#ed7953\"],[0.7777777777777778,\"#fb9f3a\"],[0.8888888888888888,\"#fdca26\"],[1.0,\"#f0f921\"]]}],\"contourcarpet\":[{\"type\":\"contourcarpet\",\"colorbar\":{\"outlinewidth\":0,\"ticks\":\"\"}}],\"contour\":[{\"type\":\"contour\",\"colorbar\":{\"outlinewidth\":0,\"ticks\":\"\"},\"colorscale\":[[0.0,\"#0d0887\"],[0.1111111111111111,\"#46039f\"],[0.2222222222222222,\"#7201a8\"],[0.3333333333333333,\"#9c179e\"],[0.4444444444444444,\"#bd3786\"],[0.5555555555555556,\"#d8576b\"],[0.6666666666666666,\"#ed7953\"],[0.7777777777777778,\"#fb9f3a\"],[0.8888888888888888,\"#fdca26\"],[1.0,\"#f0f921\"]]}],\"surface\":[{\"type\":\"surface\",\"colorbar\":{\"outlinewidth\":0,\"ticks\":\"\"},\"colorscale\":[[0.0,\"#0d0887\"],[0.1111111111111111,\"#46039f\"],[0.2222222222222222,\"#7201a8\"],[0.3333333333333333,\"#9c179e\"],[0.4444444444444444,\"#bd3786\"],[0.5555555555555556,\"#d8576b\"],[0.6666666666666666,\"#ed7953\"],[0.7777777777777778,\"#fb9f3a\"],[0.8888888888888888,\"#fdca26\"],[1.0,\"#f0f921\"]]}],\"mesh3d\":[{\"type\":\"mesh3d\",\"colorbar\":{\"outlinewidth\":0,\"ticks\":\"\"}}],\"scatter\":[{\"fillpattern\":{\"fillmode\":\"overlay\",\"size\":10,\"solidity\":0.2},\"type\":\"scatter\"}],\"parcoords\":[{\"type\":\"parcoords\",\"line\":{\"colorbar\":{\"outlinewidth\":0,\"ticks\":\"\"}}}],\"scatterpolargl\":[{\"type\":\"scatterpolargl\",\"marker\":{\"colorbar\":{\"outlinewidth\":0,\"ticks\":\"\"}}}],\"bar\":[{\"error_x\":{\"color\":\"#2a3f5f\"},\"error_y\":{\"color\":\"#2a3f5f\"},\"marker\":{\"line\":{\"color\":\"#E5ECF6\",\"width\":0.5},\"pattern\":{\"fillmode\":\"overlay\",\"size\":10,\"solidity\":0.2}},\"type\":\"bar\"}],\"scattergeo\":[{\"type\":\"scattergeo\",\"marker\":{\"colorbar\":{\"outlinewidth\":0,\"ticks\":\"\"}}}],\"scatterpolar\":[{\"type\":\"scatterpolar\",\"marker\":{\"colorbar\":{\"outlinewidth\":0,\"ticks\":\"\"}}}],\"histogram\":[{\"marker\":{\"pattern\":{\"fillmode\":\"overlay\",\"size\":10,\"solidity\":0.2}},\"type\":\"histogram\"}],\"scattergl\":[{\"type\":\"scattergl\",\"marker\":{\"colorbar\":{\"outlinewidth\":0,\"ticks\":\"\"}}}],\"scatter3d\":[{\"type\":\"scatter3d\",\"line\":{\"colorbar\":{\"outlinewidth\":0,\"ticks\":\"\"}},\"marker\":{\"colorbar\":{\"outlinewidth\":0,\"ticks\":\"\"}}}],\"scattermapbox\":[{\"type\":\"scattermapbox\",\"marker\":{\"colorbar\":{\"outlinewidth\":0,\"ticks\":\"\"}}}],\"scatterternary\":[{\"type\":\"scatterternary\",\"marker\":{\"colorbar\":{\"outlinewidth\":0,\"ticks\":\"\"}}}],\"scattercarpet\":[{\"type\":\"scattercarpet\",\"marker\":{\"colorbar\":{\"outlinewidth\":0,\"ticks\":\"\"}}}],\"carpet\":[{\"aaxis\":{\"endlinecolor\":\"#2a3f5f\",\"gridcolor\":\"white\",\"linecolor\":\"white\",\"minorgridcolor\":\"white\",\"startlinecolor\":\"#2a3f5f\"},\"baxis\":{\"endlinecolor\":\"#2a3f5f\",\"gridcolor\":\"white\",\"linecolor\":\"white\",\"minorgridcolor\":\"white\",\"startlinecolor\":\"#2a3f5f\"},\"type\":\"carpet\"}],\"table\":[{\"cells\":{\"fill\":{\"color\":\"#EBF0F8\"},\"line\":{\"color\":\"white\"}},\"header\":{\"fill\":{\"color\":\"#C8D4E3\"},\"line\":{\"color\":\"white\"}},\"type\":\"table\"}],\"barpolar\":[{\"marker\":{\"line\":{\"color\":\"#E5ECF6\",\"width\":0.5},\"pattern\":{\"fillmode\":\"overlay\",\"size\":10,\"solidity\":0.2}},\"type\":\"barpolar\"}],\"pie\":[{\"automargin\":true,\"type\":\"pie\"}]},\"layout\":{\"autotypenumbers\":\"strict\",\"colorway\":[\"#636efa\",\"#EF553B\",\"#00cc96\",\"#ab63fa\",\"#FFA15A\",\"#19d3f3\",\"#FF6692\",\"#B6E880\",\"#FF97FF\",\"#FECB52\"],\"font\":{\"color\":\"#2a3f5f\"},\"hovermode\":\"closest\",\"hoverlabel\":{\"align\":\"left\"},\"paper_bgcolor\":\"white\",\"plot_bgcolor\":\"#E5ECF6\",\"polar\":{\"bgcolor\":\"#E5ECF6\",\"angularaxis\":{\"gridcolor\":\"white\",\"linecolor\":\"white\",\"ticks\":\"\"},\"radialaxis\":{\"gridcolor\":\"white\",\"linecolor\":\"white\",\"ticks\":\"\"}},\"ternary\":{\"bgcolor\":\"#E5ECF6\",\"aaxis\":{\"gridcolor\":\"white\",\"linecolor\":\"white\",\"ticks\":\"\"},\"baxis\":{\"gridcolor\":\"white\",\"linecolor\":\"white\",\"ticks\":\"\"},\"caxis\":{\"gridcolor\":\"white\",\"linecolor\":\"white\",\"ticks\":\"\"}},\"coloraxis\":{\"colorbar\":{\"outlinewidth\":0,\"ticks\":\"\"}},\"colorscale\":{\"sequential\":[[0.0,\"#0d0887\"],[0.1111111111111111,\"#46039f\"],[0.2222222222222222,\"#7201a8\"],[0.3333333333333333,\"#9c179e\"],[0.4444444444444444,\"#bd3786\"],[0.5555555555555556,\"#d8576b\"],[0.6666666666666666,\"#ed7953\"],[0.7777777777777778,\"#fb9f3a\"],[0.8888888888888888,\"#fdca26\"],[1.0,\"#f0f921\"]],\"sequentialminus\":[[0.0,\"#0d0887\"],[0.1111111111111111,\"#46039f\"],[0.2222222222222222,\"#7201a8\"],[0.3333333333333333,\"#9c179e\"],[0.4444444444444444,\"#bd3786\"],[0.5555555555555556,\"#d8576b\"],[0.6666666666666666,\"#ed7953\"],[0.7777777777777778,\"#fb9f3a\"],[0.8888888888888888,\"#fdca26\"],[1.0,\"#f0f921\"]],\"diverging\":[[0,\"#8e0152\"],[0.1,\"#c51b7d\"],[0.2,\"#de77ae\"],[0.3,\"#f1b6da\"],[0.4,\"#fde0ef\"],[0.5,\"#f7f7f7\"],[0.6,\"#e6f5d0\"],[0.7,\"#b8e186\"],[0.8,\"#7fbc41\"],[0.9,\"#4d9221\"],[1,\"#276419\"]]},\"xaxis\":{\"gridcolor\":\"white\",\"linecolor\":\"white\",\"ticks\":\"\",\"title\":{\"standoff\":15},\"zerolinecolor\":\"white\",\"automargin\":true,\"zerolinewidth\":2},\"yaxis\":{\"gridcolor\":\"white\",\"linecolor\":\"white\",\"ticks\":\"\",\"title\":{\"standoff\":15},\"zerolinecolor\":\"white\",\"automargin\":true,\"zerolinewidth\":2},\"scene\":{\"xaxis\":{\"backgroundcolor\":\"#E5ECF6\",\"gridcolor\":\"white\",\"linecolor\":\"white\",\"showbackground\":true,\"ticks\":\"\",\"zerolinecolor\":\"white\",\"gridwidth\":2},\"yaxis\":{\"backgroundcolor\":\"#E5ECF6\",\"gridcolor\":\"white\",\"linecolor\":\"white\",\"showbackground\":true,\"ticks\":\"\",\"zerolinecolor\":\"white\",\"gridwidth\":2},\"zaxis\":{\"backgroundcolor\":\"#E5ECF6\",\"gridcolor\":\"white\",\"linecolor\":\"white\",\"showbackground\":true,\"ticks\":\"\",\"zerolinecolor\":\"white\",\"gridwidth\":2}},\"shapedefaults\":{\"line\":{\"color\":\"#2a3f5f\"}},\"annotationdefaults\":{\"arrowcolor\":\"#2a3f5f\",\"arrowhead\":0,\"arrowwidth\":1},\"geo\":{\"bgcolor\":\"white\",\"landcolor\":\"#E5ECF6\",\"subunitcolor\":\"white\",\"showland\":true,\"showlakes\":true,\"lakecolor\":\"white\"},\"title\":{\"x\":0.05},\"mapbox\":{\"style\":\"light\"}}}},                        {\"responsive\": true}                    ).then(function(){\n",
       "                            \n",
       "var gd = document.getElementById('1482b70f-dafa-4279-9fdf-f154fcc48355');\n",
       "var x = new MutationObserver(function (mutations, observer) {{\n",
       "        var display = window.getComputedStyle(gd).display;\n",
       "        if (!display || display === 'none') {{\n",
       "            console.log([gd, 'removed!']);\n",
       "            Plotly.purge(gd);\n",
       "            observer.disconnect();\n",
       "        }}\n",
       "}});\n",
       "\n",
       "// Listen for the removal of the full notebook cells\n",
       "var notebookContainer = gd.closest('#notebook-container');\n",
       "if (notebookContainer) {{\n",
       "    x.observe(notebookContainer, {childList: true});\n",
       "}}\n",
       "\n",
       "// Listen for the clearing of the current output cell\n",
       "var outputEl = gd.closest('.output');\n",
       "if (outputEl) {{\n",
       "    x.observe(outputEl, {childList: true});\n",
       "}}\n",
       "\n",
       "                        })                };                });            </script>        </div>"
      ]
     },
     "metadata": {},
     "output_type": "display_data"
    }
   ],
   "source": [
    "individual_shortfall_yoy = go.Figure()\n",
    "individual_shortfall_yoy.add_trace(go.Scatter(x=individual_broker.index, y=individual_broker.values, mode='lines', line_color = 'blue', name='Average Shortfall of Individual Broker'))"
   ]
  },
  {
   "cell_type": "code",
   "execution_count": 45,
   "metadata": {},
   "outputs": [
    {
     "data": {
      "text/plain": [
       "index                   4.500000e+00\n",
       "FiscalYear              2.018500e+03\n",
       "Armstrong, Brooke      -1.399608e+05\n",
       "Breen, Daniel          -3.090607e+05\n",
       "Cosby, Russell         -5.086398e+05\n",
       "Curry, Ashley          -2.196523e+05\n",
       "Darrow, Terry          -4.423717e+05\n",
       "Eckert, Jeff           -4.460034e+05\n",
       "Esquivel, James        -6.623548e+05\n",
       "Forkner, Fiona         -8.870148e+05\n",
       "Haggar, James          -3.316631e+05\n",
       "Halstedt, Lauren       -6.130988e+04\n",
       "Holcomb, Curtis        -4.601053e+05\n",
       "Holland, Melissa        1.237221e+05\n",
       "Hoobler, Howard         1.088983e+03\n",
       "Hull, Calvin           -8.719428e+04\n",
       "Jones, Elizabeth       -1.168676e+05\n",
       "Kackley, Kelley        -6.669809e+05\n",
       "Leatherman, Andrew      2.675861e+05\n",
       "Littlejohn, Torrey      7.525025e+04\n",
       "McCarthy, Conor        -1.072132e+06\n",
       "McCarthy, Thomas       -3.338034e+05\n",
       "McGown, Jeremy         -3.225880e+05\n",
       "McNeil, Jon            -7.318207e+04\n",
       "Mullin, Daryl          -6.037218e+05\n",
       "Selner, Bradley         7.504873e+05\n",
       "Sheehy, Ahnie          -8.946650e+04\n",
       "Shipley, Christopher    8.009747e+04\n",
       "Smith, Jubal            1.055182e+06\n",
       "Stout, Christopher     -1.160681e+05\n",
       "Taguwa, Andrew         -3.087375e+05\n",
       "Toon, Larry            -1.100935e+06\n",
       "Weatherby, Samuel       2.066062e+04\n",
       "Whitman, Paul          -5.003158e+05\n",
       "Wood, Alan             -8.019699e+05\n",
       "Overall Deficit        -2.511523e+05\n",
       "dtype: float64"
      ]
     },
     "execution_count": 45,
     "metadata": {},
     "output_type": "execute_result"
    }
   ],
   "source": [
    "individual_broker.drop('Avg Shortfall')"
   ]
  },
  {
   "cell_type": "code",
   "execution_count": 42,
   "metadata": {},
   "outputs": [
    {
     "data": {
      "application/vnd.plotly.v1+json": {
       "config": {
        "plotlyServerURL": "https://plot.ly"
       },
       "data": [
        {
         "marker": {
          "color": "blue"
         },
         "name": "Average Shortfall YoY",
         "type": "bar",
         "x": [
          "index",
          "FiscalYear",
          "Armstrong, Brooke",
          "Breen, Daniel",
          "Cosby, Russell",
          "Curry, Ashley",
          "Darrow, Terry",
          "Eckert, Jeff",
          "Esquivel, James",
          "Forkner, Fiona",
          "Haggar, James",
          "Halstedt, Lauren",
          "Holcomb, Curtis",
          "Holland, Melissa",
          "Hoobler, Howard",
          "Hull, Calvin",
          "Jones, Elizabeth",
          "Kackley, Kelley",
          "Leatherman, Andrew",
          "Littlejohn, Torrey",
          "McCarthy, Conor",
          "McCarthy, Thomas",
          "McGown, Jeremy",
          "McNeil, Jon",
          "Mullin, Daryl",
          "Selner, Bradley",
          "Sheehy, Ahnie",
          "Shipley, Christopher",
          "Smith, Jubal",
          "Stout, Christopher",
          "Taguwa, Andrew",
          "Toon, Larry",
          "Weatherby, Samuel",
          "Whitman, Paul",
          "Wood, Alan",
          "Overall Deficit",
          "Avg Shortfall"
         ],
         "y": [
          4.5,
          2018.5,
          -139960.7510674193,
          -309060.6690374576,
          -508639.8477772763,
          -219652.33696588269,
          -442371.7012835429,
          -446003.4460658513,
          -662354.7881566624,
          -887014.7563150342,
          -331663.1457555205,
          -61309.87517380051,
          -460105.2893917376,
          123722.1069052914,
          1088.9834566071338,
          -87194.28195626831,
          -116867.55257174652,
          -666980.9153034815,
          267586.10716902773,
          75250.25188713739,
          -1072131.8814045968,
          -333803.3885598881,
          -322587.972152095,
          -73182.07009695894,
          -603721.7901814765,
          750487.3428486414,
          -89466.50005617016,
          80097.46761655477,
          1055182.0497385368,
          -116068.09301090261,
          -308737.46818054083,
          -1100935.1956382198,
          20660.615282245566,
          -500315.83849221637,
          -801969.9277701646,
          -251152.25931699603,
          -243918.80905079615
         ]
        }
       ],
       "layout": {
        "paper_bgcolor": "rgba(0, 0, 0, 0)",
        "plot_bgcolor": "rgba(0, 0, 0, 0)",
        "template": {
         "data": {
          "bar": [
           {
            "error_x": {
             "color": "#f2f5fa"
            },
            "error_y": {
             "color": "#f2f5fa"
            },
            "marker": {
             "line": {
              "color": "rgb(17,17,17)",
              "width": 0.5
             },
             "pattern": {
              "fillmode": "overlay",
              "size": 10,
              "solidity": 0.2
             }
            },
            "type": "bar"
           }
          ],
          "barpolar": [
           {
            "marker": {
             "line": {
              "color": "rgb(17,17,17)",
              "width": 0.5
             },
             "pattern": {
              "fillmode": "overlay",
              "size": 10,
              "solidity": 0.2
             }
            },
            "type": "barpolar"
           }
          ],
          "carpet": [
           {
            "aaxis": {
             "endlinecolor": "#A2B1C6",
             "gridcolor": "#506784",
             "linecolor": "#506784",
             "minorgridcolor": "#506784",
             "startlinecolor": "#A2B1C6"
            },
            "baxis": {
             "endlinecolor": "#A2B1C6",
             "gridcolor": "#506784",
             "linecolor": "#506784",
             "minorgridcolor": "#506784",
             "startlinecolor": "#A2B1C6"
            },
            "type": "carpet"
           }
          ],
          "choropleth": [
           {
            "colorbar": {
             "outlinewidth": 0,
             "ticks": ""
            },
            "type": "choropleth"
           }
          ],
          "contour": [
           {
            "colorbar": {
             "outlinewidth": 0,
             "ticks": ""
            },
            "colorscale": [
             [
              0,
              "#0d0887"
             ],
             [
              0.1111111111111111,
              "#46039f"
             ],
             [
              0.2222222222222222,
              "#7201a8"
             ],
             [
              0.3333333333333333,
              "#9c179e"
             ],
             [
              0.4444444444444444,
              "#bd3786"
             ],
             [
              0.5555555555555556,
              "#d8576b"
             ],
             [
              0.6666666666666666,
              "#ed7953"
             ],
             [
              0.7777777777777778,
              "#fb9f3a"
             ],
             [
              0.8888888888888888,
              "#fdca26"
             ],
             [
              1,
              "#f0f921"
             ]
            ],
            "type": "contour"
           }
          ],
          "contourcarpet": [
           {
            "colorbar": {
             "outlinewidth": 0,
             "ticks": ""
            },
            "type": "contourcarpet"
           }
          ],
          "heatmap": [
           {
            "colorbar": {
             "outlinewidth": 0,
             "ticks": ""
            },
            "colorscale": [
             [
              0,
              "#0d0887"
             ],
             [
              0.1111111111111111,
              "#46039f"
             ],
             [
              0.2222222222222222,
              "#7201a8"
             ],
             [
              0.3333333333333333,
              "#9c179e"
             ],
             [
              0.4444444444444444,
              "#bd3786"
             ],
             [
              0.5555555555555556,
              "#d8576b"
             ],
             [
              0.6666666666666666,
              "#ed7953"
             ],
             [
              0.7777777777777778,
              "#fb9f3a"
             ],
             [
              0.8888888888888888,
              "#fdca26"
             ],
             [
              1,
              "#f0f921"
             ]
            ],
            "type": "heatmap"
           }
          ],
          "heatmapgl": [
           {
            "colorbar": {
             "outlinewidth": 0,
             "ticks": ""
            },
            "colorscale": [
             [
              0,
              "#0d0887"
             ],
             [
              0.1111111111111111,
              "#46039f"
             ],
             [
              0.2222222222222222,
              "#7201a8"
             ],
             [
              0.3333333333333333,
              "#9c179e"
             ],
             [
              0.4444444444444444,
              "#bd3786"
             ],
             [
              0.5555555555555556,
              "#d8576b"
             ],
             [
              0.6666666666666666,
              "#ed7953"
             ],
             [
              0.7777777777777778,
              "#fb9f3a"
             ],
             [
              0.8888888888888888,
              "#fdca26"
             ],
             [
              1,
              "#f0f921"
             ]
            ],
            "type": "heatmapgl"
           }
          ],
          "histogram": [
           {
            "marker": {
             "pattern": {
              "fillmode": "overlay",
              "size": 10,
              "solidity": 0.2
             }
            },
            "type": "histogram"
           }
          ],
          "histogram2d": [
           {
            "colorbar": {
             "outlinewidth": 0,
             "ticks": ""
            },
            "colorscale": [
             [
              0,
              "#0d0887"
             ],
             [
              0.1111111111111111,
              "#46039f"
             ],
             [
              0.2222222222222222,
              "#7201a8"
             ],
             [
              0.3333333333333333,
              "#9c179e"
             ],
             [
              0.4444444444444444,
              "#bd3786"
             ],
             [
              0.5555555555555556,
              "#d8576b"
             ],
             [
              0.6666666666666666,
              "#ed7953"
             ],
             [
              0.7777777777777778,
              "#fb9f3a"
             ],
             [
              0.8888888888888888,
              "#fdca26"
             ],
             [
              1,
              "#f0f921"
             ]
            ],
            "type": "histogram2d"
           }
          ],
          "histogram2dcontour": [
           {
            "colorbar": {
             "outlinewidth": 0,
             "ticks": ""
            },
            "colorscale": [
             [
              0,
              "#0d0887"
             ],
             [
              0.1111111111111111,
              "#46039f"
             ],
             [
              0.2222222222222222,
              "#7201a8"
             ],
             [
              0.3333333333333333,
              "#9c179e"
             ],
             [
              0.4444444444444444,
              "#bd3786"
             ],
             [
              0.5555555555555556,
              "#d8576b"
             ],
             [
              0.6666666666666666,
              "#ed7953"
             ],
             [
              0.7777777777777778,
              "#fb9f3a"
             ],
             [
              0.8888888888888888,
              "#fdca26"
             ],
             [
              1,
              "#f0f921"
             ]
            ],
            "type": "histogram2dcontour"
           }
          ],
          "mesh3d": [
           {
            "colorbar": {
             "outlinewidth": 0,
             "ticks": ""
            },
            "type": "mesh3d"
           }
          ],
          "parcoords": [
           {
            "line": {
             "colorbar": {
              "outlinewidth": 0,
              "ticks": ""
             }
            },
            "type": "parcoords"
           }
          ],
          "pie": [
           {
            "automargin": true,
            "type": "pie"
           }
          ],
          "scatter": [
           {
            "marker": {
             "line": {
              "color": "#283442"
             }
            },
            "type": "scatter"
           }
          ],
          "scatter3d": [
           {
            "line": {
             "colorbar": {
              "outlinewidth": 0,
              "ticks": ""
             }
            },
            "marker": {
             "colorbar": {
              "outlinewidth": 0,
              "ticks": ""
             }
            },
            "type": "scatter3d"
           }
          ],
          "scattercarpet": [
           {
            "marker": {
             "colorbar": {
              "outlinewidth": 0,
              "ticks": ""
             }
            },
            "type": "scattercarpet"
           }
          ],
          "scattergeo": [
           {
            "marker": {
             "colorbar": {
              "outlinewidth": 0,
              "ticks": ""
             }
            },
            "type": "scattergeo"
           }
          ],
          "scattergl": [
           {
            "marker": {
             "line": {
              "color": "#283442"
             }
            },
            "type": "scattergl"
           }
          ],
          "scattermapbox": [
           {
            "marker": {
             "colorbar": {
              "outlinewidth": 0,
              "ticks": ""
             }
            },
            "type": "scattermapbox"
           }
          ],
          "scatterpolar": [
           {
            "marker": {
             "colorbar": {
              "outlinewidth": 0,
              "ticks": ""
             }
            },
            "type": "scatterpolar"
           }
          ],
          "scatterpolargl": [
           {
            "marker": {
             "colorbar": {
              "outlinewidth": 0,
              "ticks": ""
             }
            },
            "type": "scatterpolargl"
           }
          ],
          "scatterternary": [
           {
            "marker": {
             "colorbar": {
              "outlinewidth": 0,
              "ticks": ""
             }
            },
            "type": "scatterternary"
           }
          ],
          "surface": [
           {
            "colorbar": {
             "outlinewidth": 0,
             "ticks": ""
            },
            "colorscale": [
             [
              0,
              "#0d0887"
             ],
             [
              0.1111111111111111,
              "#46039f"
             ],
             [
              0.2222222222222222,
              "#7201a8"
             ],
             [
              0.3333333333333333,
              "#9c179e"
             ],
             [
              0.4444444444444444,
              "#bd3786"
             ],
             [
              0.5555555555555556,
              "#d8576b"
             ],
             [
              0.6666666666666666,
              "#ed7953"
             ],
             [
              0.7777777777777778,
              "#fb9f3a"
             ],
             [
              0.8888888888888888,
              "#fdca26"
             ],
             [
              1,
              "#f0f921"
             ]
            ],
            "type": "surface"
           }
          ],
          "table": [
           {
            "cells": {
             "fill": {
              "color": "#506784"
             },
             "line": {
              "color": "rgb(17,17,17)"
             }
            },
            "header": {
             "fill": {
              "color": "#2a3f5f"
             },
             "line": {
              "color": "rgb(17,17,17)"
             }
            },
            "type": "table"
           }
          ]
         },
         "layout": {
          "annotationdefaults": {
           "arrowcolor": "#f2f5fa",
           "arrowhead": 0,
           "arrowwidth": 1
          },
          "autotypenumbers": "strict",
          "coloraxis": {
           "colorbar": {
            "outlinewidth": 0,
            "ticks": ""
           }
          },
          "colorscale": {
           "diverging": [
            [
             0,
             "#8e0152"
            ],
            [
             0.1,
             "#c51b7d"
            ],
            [
             0.2,
             "#de77ae"
            ],
            [
             0.3,
             "#f1b6da"
            ],
            [
             0.4,
             "#fde0ef"
            ],
            [
             0.5,
             "#f7f7f7"
            ],
            [
             0.6,
             "#e6f5d0"
            ],
            [
             0.7,
             "#b8e186"
            ],
            [
             0.8,
             "#7fbc41"
            ],
            [
             0.9,
             "#4d9221"
            ],
            [
             1,
             "#276419"
            ]
           ],
           "sequential": [
            [
             0,
             "#0d0887"
            ],
            [
             0.1111111111111111,
             "#46039f"
            ],
            [
             0.2222222222222222,
             "#7201a8"
            ],
            [
             0.3333333333333333,
             "#9c179e"
            ],
            [
             0.4444444444444444,
             "#bd3786"
            ],
            [
             0.5555555555555556,
             "#d8576b"
            ],
            [
             0.6666666666666666,
             "#ed7953"
            ],
            [
             0.7777777777777778,
             "#fb9f3a"
            ],
            [
             0.8888888888888888,
             "#fdca26"
            ],
            [
             1,
             "#f0f921"
            ]
           ],
           "sequentialminus": [
            [
             0,
             "#0d0887"
            ],
            [
             0.1111111111111111,
             "#46039f"
            ],
            [
             0.2222222222222222,
             "#7201a8"
            ],
            [
             0.3333333333333333,
             "#9c179e"
            ],
            [
             0.4444444444444444,
             "#bd3786"
            ],
            [
             0.5555555555555556,
             "#d8576b"
            ],
            [
             0.6666666666666666,
             "#ed7953"
            ],
            [
             0.7777777777777778,
             "#fb9f3a"
            ],
            [
             0.8888888888888888,
             "#fdca26"
            ],
            [
             1,
             "#f0f921"
            ]
           ]
          },
          "colorway": [
           "#636efa",
           "#EF553B",
           "#00cc96",
           "#ab63fa",
           "#FFA15A",
           "#19d3f3",
           "#FF6692",
           "#B6E880",
           "#FF97FF",
           "#FECB52"
          ],
          "font": {
           "color": "#f2f5fa"
          },
          "geo": {
           "bgcolor": "rgb(17,17,17)",
           "lakecolor": "rgb(17,17,17)",
           "landcolor": "rgb(17,17,17)",
           "showlakes": true,
           "showland": true,
           "subunitcolor": "#506784"
          },
          "hoverlabel": {
           "align": "left"
          },
          "hovermode": "closest",
          "mapbox": {
           "style": "dark"
          },
          "paper_bgcolor": "rgb(17,17,17)",
          "plot_bgcolor": "rgb(17,17,17)",
          "polar": {
           "angularaxis": {
            "gridcolor": "#506784",
            "linecolor": "#506784",
            "ticks": ""
           },
           "bgcolor": "rgb(17,17,17)",
           "radialaxis": {
            "gridcolor": "#506784",
            "linecolor": "#506784",
            "ticks": ""
           }
          },
          "scene": {
           "xaxis": {
            "backgroundcolor": "rgb(17,17,17)",
            "gridcolor": "#506784",
            "gridwidth": 2,
            "linecolor": "#506784",
            "showbackground": true,
            "ticks": "",
            "zerolinecolor": "#C8D4E3"
           },
           "yaxis": {
            "backgroundcolor": "rgb(17,17,17)",
            "gridcolor": "#506784",
            "gridwidth": 2,
            "linecolor": "#506784",
            "showbackground": true,
            "ticks": "",
            "zerolinecolor": "#C8D4E3"
           },
           "zaxis": {
            "backgroundcolor": "rgb(17,17,17)",
            "gridcolor": "#506784",
            "gridwidth": 2,
            "linecolor": "#506784",
            "showbackground": true,
            "ticks": "",
            "zerolinecolor": "#C8D4E3"
           }
          },
          "shapedefaults": {
           "line": {
            "color": "#f2f5fa"
           }
          },
          "sliderdefaults": {
           "bgcolor": "#C8D4E3",
           "bordercolor": "rgb(17,17,17)",
           "borderwidth": 1,
           "tickwidth": 0
          },
          "ternary": {
           "aaxis": {
            "gridcolor": "#506784",
            "linecolor": "#506784",
            "ticks": ""
           },
           "baxis": {
            "gridcolor": "#506784",
            "linecolor": "#506784",
            "ticks": ""
           },
           "bgcolor": "rgb(17,17,17)",
           "caxis": {
            "gridcolor": "#506784",
            "linecolor": "#506784",
            "ticks": ""
           }
          },
          "title": {
           "x": 0.05
          },
          "updatemenudefaults": {
           "bgcolor": "#506784",
           "borderwidth": 0
          },
          "xaxis": {
           "automargin": true,
           "gridcolor": "#283442",
           "linecolor": "#506784",
           "ticks": "",
           "title": {
            "standoff": 15
           },
           "zerolinecolor": "#283442",
           "zerolinewidth": 2
          },
          "yaxis": {
           "automargin": true,
           "gridcolor": "#283442",
           "linecolor": "#506784",
           "ticks": "",
           "title": {
            "standoff": 15
           },
           "zerolinecolor": "#283442",
           "zerolinewidth": 2
          }
         }
        },
        "title": {
         "text": "Average Shortfall YoY"
        },
        "xaxis": {
         "title": {
          "text": "Year"
         }
        },
        "yaxis": {
         "title": {
          "text": "Shortfall"
         }
        }
       }
      },
      "text/html": [
       "<div>                            <div id=\"90d19c1b-cd54-4e3c-9ac4-70b0c7746ffc\" class=\"plotly-graph-div\" style=\"height:525px; width:100%;\"></div>            <script type=\"text/javascript\">                require([\"plotly\"], function(Plotly) {                    window.PLOTLYENV=window.PLOTLYENV || {};                                    if (document.getElementById(\"90d19c1b-cd54-4e3c-9ac4-70b0c7746ffc\")) {                    Plotly.newPlot(                        \"90d19c1b-cd54-4e3c-9ac4-70b0c7746ffc\",                        [{\"marker\":{\"color\":\"blue\"},\"name\":\"Average Shortfall YoY\",\"x\":[\"index\",\"FiscalYear\",\"Armstrong, Brooke\",\"Breen, Daniel\",\"Cosby, Russell\",\"Curry, Ashley\",\"Darrow, Terry\",\"Eckert, Jeff\",\"Esquivel, James\",\"Forkner, Fiona\",\"Haggar, James\",\"Halstedt, Lauren\",\"Holcomb, Curtis\",\"Holland, Melissa\",\"Hoobler, Howard\",\"Hull, Calvin\",\"Jones, Elizabeth\",\"Kackley, Kelley\",\"Leatherman, Andrew\",\"Littlejohn, Torrey\",\"McCarthy, Conor\",\"McCarthy, Thomas\",\"McGown, Jeremy\",\"McNeil, Jon\",\"Mullin, Daryl\",\"Selner, Bradley\",\"Sheehy, Ahnie\",\"Shipley, Christopher\",\"Smith, Jubal\",\"Stout, Christopher\",\"Taguwa, Andrew\",\"Toon, Larry\",\"Weatherby, Samuel\",\"Whitman, Paul\",\"Wood, Alan\",\"Overall Deficit\",\"Avg Shortfall\"],\"y\":[4.5,2018.5,-139960.7510674193,-309060.6690374576,-508639.8477772763,-219652.33696588269,-442371.7012835429,-446003.4460658513,-662354.7881566624,-887014.7563150342,-331663.1457555205,-61309.87517380051,-460105.2893917376,123722.1069052914,1088.9834566071338,-87194.28195626831,-116867.55257174652,-666980.9153034815,267586.10716902773,75250.25188713739,-1072131.8814045968,-333803.3885598881,-322587.972152095,-73182.07009695894,-603721.7901814765,750487.3428486414,-89466.50005617016,80097.46761655477,1055182.0497385368,-116068.09301090261,-308737.46818054083,-1100935.1956382198,20660.615282245566,-500315.83849221637,-801969.9277701646,-251152.25931699603,-243918.80905079615],\"type\":\"bar\"}],                        {\"template\":{\"data\":{\"barpolar\":[{\"marker\":{\"line\":{\"color\":\"rgb(17,17,17)\",\"width\":0.5},\"pattern\":{\"fillmode\":\"overlay\",\"size\":10,\"solidity\":0.2}},\"type\":\"barpolar\"}],\"bar\":[{\"error_x\":{\"color\":\"#f2f5fa\"},\"error_y\":{\"color\":\"#f2f5fa\"},\"marker\":{\"line\":{\"color\":\"rgb(17,17,17)\",\"width\":0.5},\"pattern\":{\"fillmode\":\"overlay\",\"size\":10,\"solidity\":0.2}},\"type\":\"bar\"}],\"carpet\":[{\"aaxis\":{\"endlinecolor\":\"#A2B1C6\",\"gridcolor\":\"#506784\",\"linecolor\":\"#506784\",\"minorgridcolor\":\"#506784\",\"startlinecolor\":\"#A2B1C6\"},\"baxis\":{\"endlinecolor\":\"#A2B1C6\",\"gridcolor\":\"#506784\",\"linecolor\":\"#506784\",\"minorgridcolor\":\"#506784\",\"startlinecolor\":\"#A2B1C6\"},\"type\":\"carpet\"}],\"choropleth\":[{\"colorbar\":{\"outlinewidth\":0,\"ticks\":\"\"},\"type\":\"choropleth\"}],\"contourcarpet\":[{\"colorbar\":{\"outlinewidth\":0,\"ticks\":\"\"},\"type\":\"contourcarpet\"}],\"contour\":[{\"colorbar\":{\"outlinewidth\":0,\"ticks\":\"\"},\"colorscale\":[[0.0,\"#0d0887\"],[0.1111111111111111,\"#46039f\"],[0.2222222222222222,\"#7201a8\"],[0.3333333333333333,\"#9c179e\"],[0.4444444444444444,\"#bd3786\"],[0.5555555555555556,\"#d8576b\"],[0.6666666666666666,\"#ed7953\"],[0.7777777777777778,\"#fb9f3a\"],[0.8888888888888888,\"#fdca26\"],[1.0,\"#f0f921\"]],\"type\":\"contour\"}],\"heatmapgl\":[{\"colorbar\":{\"outlinewidth\":0,\"ticks\":\"\"},\"colorscale\":[[0.0,\"#0d0887\"],[0.1111111111111111,\"#46039f\"],[0.2222222222222222,\"#7201a8\"],[0.3333333333333333,\"#9c179e\"],[0.4444444444444444,\"#bd3786\"],[0.5555555555555556,\"#d8576b\"],[0.6666666666666666,\"#ed7953\"],[0.7777777777777778,\"#fb9f3a\"],[0.8888888888888888,\"#fdca26\"],[1.0,\"#f0f921\"]],\"type\":\"heatmapgl\"}],\"heatmap\":[{\"colorbar\":{\"outlinewidth\":0,\"ticks\":\"\"},\"colorscale\":[[0.0,\"#0d0887\"],[0.1111111111111111,\"#46039f\"],[0.2222222222222222,\"#7201a8\"],[0.3333333333333333,\"#9c179e\"],[0.4444444444444444,\"#bd3786\"],[0.5555555555555556,\"#d8576b\"],[0.6666666666666666,\"#ed7953\"],[0.7777777777777778,\"#fb9f3a\"],[0.8888888888888888,\"#fdca26\"],[1.0,\"#f0f921\"]],\"type\":\"heatmap\"}],\"histogram2dcontour\":[{\"colorbar\":{\"outlinewidth\":0,\"ticks\":\"\"},\"colorscale\":[[0.0,\"#0d0887\"],[0.1111111111111111,\"#46039f\"],[0.2222222222222222,\"#7201a8\"],[0.3333333333333333,\"#9c179e\"],[0.4444444444444444,\"#bd3786\"],[0.5555555555555556,\"#d8576b\"],[0.6666666666666666,\"#ed7953\"],[0.7777777777777778,\"#fb9f3a\"],[0.8888888888888888,\"#fdca26\"],[1.0,\"#f0f921\"]],\"type\":\"histogram2dcontour\"}],\"histogram2d\":[{\"colorbar\":{\"outlinewidth\":0,\"ticks\":\"\"},\"colorscale\":[[0.0,\"#0d0887\"],[0.1111111111111111,\"#46039f\"],[0.2222222222222222,\"#7201a8\"],[0.3333333333333333,\"#9c179e\"],[0.4444444444444444,\"#bd3786\"],[0.5555555555555556,\"#d8576b\"],[0.6666666666666666,\"#ed7953\"],[0.7777777777777778,\"#fb9f3a\"],[0.8888888888888888,\"#fdca26\"],[1.0,\"#f0f921\"]],\"type\":\"histogram2d\"}],\"histogram\":[{\"marker\":{\"pattern\":{\"fillmode\":\"overlay\",\"size\":10,\"solidity\":0.2}},\"type\":\"histogram\"}],\"mesh3d\":[{\"colorbar\":{\"outlinewidth\":0,\"ticks\":\"\"},\"type\":\"mesh3d\"}],\"parcoords\":[{\"line\":{\"colorbar\":{\"outlinewidth\":0,\"ticks\":\"\"}},\"type\":\"parcoords\"}],\"pie\":[{\"automargin\":true,\"type\":\"pie\"}],\"scatter3d\":[{\"line\":{\"colorbar\":{\"outlinewidth\":0,\"ticks\":\"\"}},\"marker\":{\"colorbar\":{\"outlinewidth\":0,\"ticks\":\"\"}},\"type\":\"scatter3d\"}],\"scattercarpet\":[{\"marker\":{\"colorbar\":{\"outlinewidth\":0,\"ticks\":\"\"}},\"type\":\"scattercarpet\"}],\"scattergeo\":[{\"marker\":{\"colorbar\":{\"outlinewidth\":0,\"ticks\":\"\"}},\"type\":\"scattergeo\"}],\"scattergl\":[{\"marker\":{\"line\":{\"color\":\"#283442\"}},\"type\":\"scattergl\"}],\"scattermapbox\":[{\"marker\":{\"colorbar\":{\"outlinewidth\":0,\"ticks\":\"\"}},\"type\":\"scattermapbox\"}],\"scatterpolargl\":[{\"marker\":{\"colorbar\":{\"outlinewidth\":0,\"ticks\":\"\"}},\"type\":\"scatterpolargl\"}],\"scatterpolar\":[{\"marker\":{\"colorbar\":{\"outlinewidth\":0,\"ticks\":\"\"}},\"type\":\"scatterpolar\"}],\"scatter\":[{\"marker\":{\"line\":{\"color\":\"#283442\"}},\"type\":\"scatter\"}],\"scatterternary\":[{\"marker\":{\"colorbar\":{\"outlinewidth\":0,\"ticks\":\"\"}},\"type\":\"scatterternary\"}],\"surface\":[{\"colorbar\":{\"outlinewidth\":0,\"ticks\":\"\"},\"colorscale\":[[0.0,\"#0d0887\"],[0.1111111111111111,\"#46039f\"],[0.2222222222222222,\"#7201a8\"],[0.3333333333333333,\"#9c179e\"],[0.4444444444444444,\"#bd3786\"],[0.5555555555555556,\"#d8576b\"],[0.6666666666666666,\"#ed7953\"],[0.7777777777777778,\"#fb9f3a\"],[0.8888888888888888,\"#fdca26\"],[1.0,\"#f0f921\"]],\"type\":\"surface\"}],\"table\":[{\"cells\":{\"fill\":{\"color\":\"#506784\"},\"line\":{\"color\":\"rgb(17,17,17)\"}},\"header\":{\"fill\":{\"color\":\"#2a3f5f\"},\"line\":{\"color\":\"rgb(17,17,17)\"}},\"type\":\"table\"}]},\"layout\":{\"annotationdefaults\":{\"arrowcolor\":\"#f2f5fa\",\"arrowhead\":0,\"arrowwidth\":1},\"autotypenumbers\":\"strict\",\"coloraxis\":{\"colorbar\":{\"outlinewidth\":0,\"ticks\":\"\"}},\"colorscale\":{\"diverging\":[[0,\"#8e0152\"],[0.1,\"#c51b7d\"],[0.2,\"#de77ae\"],[0.3,\"#f1b6da\"],[0.4,\"#fde0ef\"],[0.5,\"#f7f7f7\"],[0.6,\"#e6f5d0\"],[0.7,\"#b8e186\"],[0.8,\"#7fbc41\"],[0.9,\"#4d9221\"],[1,\"#276419\"]],\"sequential\":[[0.0,\"#0d0887\"],[0.1111111111111111,\"#46039f\"],[0.2222222222222222,\"#7201a8\"],[0.3333333333333333,\"#9c179e\"],[0.4444444444444444,\"#bd3786\"],[0.5555555555555556,\"#d8576b\"],[0.6666666666666666,\"#ed7953\"],[0.7777777777777778,\"#fb9f3a\"],[0.8888888888888888,\"#fdca26\"],[1.0,\"#f0f921\"]],\"sequentialminus\":[[0.0,\"#0d0887\"],[0.1111111111111111,\"#46039f\"],[0.2222222222222222,\"#7201a8\"],[0.3333333333333333,\"#9c179e\"],[0.4444444444444444,\"#bd3786\"],[0.5555555555555556,\"#d8576b\"],[0.6666666666666666,\"#ed7953\"],[0.7777777777777778,\"#fb9f3a\"],[0.8888888888888888,\"#fdca26\"],[1.0,\"#f0f921\"]]},\"colorway\":[\"#636efa\",\"#EF553B\",\"#00cc96\",\"#ab63fa\",\"#FFA15A\",\"#19d3f3\",\"#FF6692\",\"#B6E880\",\"#FF97FF\",\"#FECB52\"],\"font\":{\"color\":\"#f2f5fa\"},\"geo\":{\"bgcolor\":\"rgb(17,17,17)\",\"lakecolor\":\"rgb(17,17,17)\",\"landcolor\":\"rgb(17,17,17)\",\"showlakes\":true,\"showland\":true,\"subunitcolor\":\"#506784\"},\"hoverlabel\":{\"align\":\"left\"},\"hovermode\":\"closest\",\"mapbox\":{\"style\":\"dark\"},\"paper_bgcolor\":\"rgb(17,17,17)\",\"plot_bgcolor\":\"rgb(17,17,17)\",\"polar\":{\"angularaxis\":{\"gridcolor\":\"#506784\",\"linecolor\":\"#506784\",\"ticks\":\"\"},\"bgcolor\":\"rgb(17,17,17)\",\"radialaxis\":{\"gridcolor\":\"#506784\",\"linecolor\":\"#506784\",\"ticks\":\"\"}},\"scene\":{\"xaxis\":{\"backgroundcolor\":\"rgb(17,17,17)\",\"gridcolor\":\"#506784\",\"gridwidth\":2,\"linecolor\":\"#506784\",\"showbackground\":true,\"ticks\":\"\",\"zerolinecolor\":\"#C8D4E3\"},\"yaxis\":{\"backgroundcolor\":\"rgb(17,17,17)\",\"gridcolor\":\"#506784\",\"gridwidth\":2,\"linecolor\":\"#506784\",\"showbackground\":true,\"ticks\":\"\",\"zerolinecolor\":\"#C8D4E3\"},\"zaxis\":{\"backgroundcolor\":\"rgb(17,17,17)\",\"gridcolor\":\"#506784\",\"gridwidth\":2,\"linecolor\":\"#506784\",\"showbackground\":true,\"ticks\":\"\",\"zerolinecolor\":\"#C8D4E3\"}},\"shapedefaults\":{\"line\":{\"color\":\"#f2f5fa\"}},\"sliderdefaults\":{\"bgcolor\":\"#C8D4E3\",\"bordercolor\":\"rgb(17,17,17)\",\"borderwidth\":1,\"tickwidth\":0},\"ternary\":{\"aaxis\":{\"gridcolor\":\"#506784\",\"linecolor\":\"#506784\",\"ticks\":\"\"},\"baxis\":{\"gridcolor\":\"#506784\",\"linecolor\":\"#506784\",\"ticks\":\"\"},\"bgcolor\":\"rgb(17,17,17)\",\"caxis\":{\"gridcolor\":\"#506784\",\"linecolor\":\"#506784\",\"ticks\":\"\"}},\"title\":{\"x\":0.05},\"updatemenudefaults\":{\"bgcolor\":\"#506784\",\"borderwidth\":0},\"xaxis\":{\"automargin\":true,\"gridcolor\":\"#283442\",\"linecolor\":\"#506784\",\"ticks\":\"\",\"title\":{\"standoff\":15},\"zerolinecolor\":\"#283442\",\"zerolinewidth\":2},\"yaxis\":{\"automargin\":true,\"gridcolor\":\"#283442\",\"linecolor\":\"#506784\",\"ticks\":\"\",\"title\":{\"standoff\":15},\"zerolinecolor\":\"#283442\",\"zerolinewidth\":2}}},\"title\":{\"text\":\"Average Shortfall YoY\"},\"xaxis\":{\"title\":{\"text\":\"Year\"}},\"yaxis\":{\"title\":{\"text\":\"Shortfall\"}},\"plot_bgcolor\":\"rgba(0, 0, 0, 0)\",\"paper_bgcolor\":\"rgba(0, 0, 0, 0)\"},                        {\"responsive\": true}                    ).then(function(){\n",
       "                            \n",
       "var gd = document.getElementById('90d19c1b-cd54-4e3c-9ac4-70b0c7746ffc');\n",
       "var x = new MutationObserver(function (mutations, observer) {{\n",
       "        var display = window.getComputedStyle(gd).display;\n",
       "        if (!display || display === 'none') {{\n",
       "            console.log([gd, 'removed!']);\n",
       "            Plotly.purge(gd);\n",
       "            observer.disconnect();\n",
       "        }}\n",
       "}});\n",
       "\n",
       "// Listen for the removal of the full notebook cells\n",
       "var notebookContainer = gd.closest('#notebook-container');\n",
       "if (notebookContainer) {{\n",
       "    x.observe(notebookContainer, {childList: true});\n",
       "}}\n",
       "\n",
       "// Listen for the clearing of the current output cell\n",
       "var outputEl = gd.closest('.output');\n",
       "if (outputEl) {{\n",
       "    x.observe(outputEl, {childList: true});\n",
       "}}\n",
       "\n",
       "                        })                };                });            </script>        </div>"
      ]
     },
     "metadata": {},
     "output_type": "display_data"
    }
   ],
   "source": [
    "import plotly.graph_objects as go\n",
    "\n",
    "individual_shortfall_yoy = go.Figure()\n",
    "individual_shortfall_yoy.add_trace(go.Bar(\n",
    "    x=individual_broker.index, \n",
    "    y=individual_broker.values, \n",
    "    marker_color='blue', \n",
    "    name='Average Shortfall YoY'\n",
    "))\n",
    "\n",
    "individual_shortfall_yoy.update_layout(\n",
    "    template='plotly_dark',  # Using the 'plotly_dark' theme\n",
    "    title='Average Shortfall YoY',\n",
    "    xaxis_title='Year',\n",
    "    yaxis_title='Shortfall',\n",
    "    plot_bgcolor='rgba(0, 0, 0, 0)',  # Transparent background\n",
    "    paper_bgcolor='rgba(0, 0, 0, 0)',  # Transparent paper background\n",
    ")\n"
   ]
  },
  {
   "cell_type": "code",
   "execution_count": 21,
   "metadata": {},
   "outputs": [],
   "source": [
    "deficit_value['Avg Shortfall'] = deficit_value.apply(lambda x: x.mean(), axis=1)"
   ]
  },
  {
   "cell_type": "code",
   "execution_count": 22,
   "metadata": {},
   "outputs": [],
   "source": [
    "deficit_value.reset_index(inplace=True)"
   ]
  },
  {
   "cell_type": "code",
   "execution_count": 25,
   "metadata": {},
   "outputs": [],
   "source": [
    "ts = TimeSeries.from_dataframe(deficit_value, value_cols=['Avg Shortfall'], time_col='FiscalYear')"
   ]
  },
  {
   "cell_type": "code",
   "execution_count": 26,
   "metadata": {},
   "outputs": [
    {
     "data": {
      "text/plain": [
       "<Axes: xlabel='FiscalYear'>"
      ]
     },
     "execution_count": 26,
     "metadata": {},
     "output_type": "execute_result"
    },
    {
     "data": {
      "image/png": "[encoded data removed]",
      "text/plain": [
       "<Figure size 640x480 with 1 Axes>"
      ]
     },
     "metadata": {},
     "output_type": "display_data"
    }
   ],
   "source": [
    "ts.plot()"
   ]
  },
  {
   "cell_type": "code",
   "execution_count": null,
   "metadata": {},
   "outputs": [],
   "source": []
  },
  {
   "cell_type": "code",
   "execution_count": 17,
   "metadata": {},
   "outputs": [
    {
     "data": {
      "text/html": [
       "<div>\n",
       "<style scoped>\n",
       "    .dataframe tbody tr th:only-of-type {\n",
       "        vertical-align: middle;\n",
       "    }\n",
       "\n",
       "    .dataframe tbody tr th {\n",
       "        vertical-align: top;\n",
       "    }\n",
       "\n",
       "    .dataframe thead th {\n",
       "        text-align: right;\n",
       "    }\n",
       "</style>\n",
       "<table border=\"1\" class=\"dataframe\">\n",
       "  <thead>\n",
       "    <tr style=\"text-align: right;\">\n",
       "      <th></th>\n",
       "      <th>FiscalYear</th>\n",
       "      <th>Armstrong, Brooke</th>\n",
       "      <th>Breen, Daniel</th>\n",
       "      <th>Cosby, Russell</th>\n",
       "      <th>Curry, Ashley</th>\n",
       "      <th>Darrow, Terry</th>\n",
       "      <th>Eckert, Jeff</th>\n",
       "      <th>Esquivel, James</th>\n",
       "      <th>Forkner, Fiona</th>\n",
       "      <th>Haggar, James</th>\n",
       "      <th>...</th>\n",
       "      <th>Sheehy, Ahnie</th>\n",
       "      <th>Shipley, Christopher</th>\n",
       "      <th>Smith, Jubal</th>\n",
       "      <th>Stout, Christopher</th>\n",
       "      <th>Taguwa, Andrew</th>\n",
       "      <th>Toon, Larry</th>\n",
       "      <th>Weatherby, Samuel</th>\n",
       "      <th>Whitman, Paul</th>\n",
       "      <th>Wood, Alan</th>\n",
       "      <th>Overall Deficit</th>\n",
       "    </tr>\n",
       "  </thead>\n",
       "  <tbody>\n",
       "    <tr>\n",
       "      <th>0</th>\n",
       "      <td>2014</td>\n",
       "      <td>1.805835e+05</td>\n",
       "      <td>-3.286018e+05</td>\n",
       "      <td>-2.296577e+05</td>\n",
       "      <td>88839.390000</td>\n",
       "      <td>-1.096616e+06</td>\n",
       "      <td>-6.499999e+05</td>\n",
       "      <td>-6.500000e+05</td>\n",
       "      <td>-9.153017e+05</td>\n",
       "      <td>-4.888645e+04</td>\n",
       "      <td>...</td>\n",
       "      <td>1.517200e+02</td>\n",
       "      <td>-4.383916e+04</td>\n",
       "      <td>5.715048e+05</td>\n",
       "      <td>-97424.250000</td>\n",
       "      <td>1.511006e+05</td>\n",
       "      <td>7.598995e+05</td>\n",
       "      <td>1.377920e+05</td>\n",
       "      <td>6.283805e+04</td>\n",
       "      <td>2.566705e+05</td>\n",
       "      <td>-86038.953333</td>\n",
       "    </tr>\n",
       "    <tr>\n",
       "      <th>1</th>\n",
       "      <td>2015</td>\n",
       "      <td>-6.184559e+05</td>\n",
       "      <td>1.694829e+06</td>\n",
       "      <td>-1.536583e+06</td>\n",
       "      <td>185981.550000</td>\n",
       "      <td>-7.842392e+05</td>\n",
       "      <td>-6.022143e+05</td>\n",
       "      <td>-6.022144e+05</td>\n",
       "      <td>-5.010896e+05</td>\n",
       "      <td>-6.746991e+05</td>\n",
       "      <td>...</td>\n",
       "      <td>6.787789e+04</td>\n",
       "      <td>2.339045e+05</td>\n",
       "      <td>4.859378e+06</td>\n",
       "      <td>876.090000</td>\n",
       "      <td>1.564674e+05</td>\n",
       "      <td>-5.160217e+05</td>\n",
       "      <td>4.432697e+05</td>\n",
       "      <td>4.972951e+05</td>\n",
       "      <td>3.649894e+04</td>\n",
       "      <td>71212.654545</td>\n",
       "    </tr>\n",
       "    <tr>\n",
       "      <th>2</th>\n",
       "      <td>2016</td>\n",
       "      <td>1.259762e+05</td>\n",
       "      <td>-7.120580e+03</td>\n",
       "      <td>3.973629e+05</td>\n",
       "      <td>1767.000000</td>\n",
       "      <td>-1.039069e+06</td>\n",
       "      <td>2.953813e+05</td>\n",
       "      <td>2.909055e+05</td>\n",
       "      <td>3.345119e+05</td>\n",
       "      <td>4.130049e+04</td>\n",
       "      <td>...</td>\n",
       "      <td>5.853600e+04</td>\n",
       "      <td>3.087347e+05</td>\n",
       "      <td>-8.865662e+05</td>\n",
       "      <td>-60200.440000</td>\n",
       "      <td>-2.522959e+05</td>\n",
       "      <td>-1.431144e+06</td>\n",
       "      <td>-1.056970e+06</td>\n",
       "      <td>-2.924583e+05</td>\n",
       "      <td>-1.913959e+05</td>\n",
       "      <td>-76058.169697</td>\n",
       "    </tr>\n",
       "    <tr>\n",
       "      <th>3</th>\n",
       "      <td>2017</td>\n",
       "      <td>7.765561e+05</td>\n",
       "      <td>1.046068e+06</td>\n",
       "      <td>-7.830477e+05</td>\n",
       "      <td>-132092.550000</td>\n",
       "      <td>1.882272e+05</td>\n",
       "      <td>1.246724e+04</td>\n",
       "      <td>7.640250e+03</td>\n",
       "      <td>-8.430951e+04</td>\n",
       "      <td>-9.668011e+05</td>\n",
       "      <td>...</td>\n",
       "      <td>1.335026e+05</td>\n",
       "      <td>5.751887e+05</td>\n",
       "      <td>-4.320410e+03</td>\n",
       "      <td>39281.720000</td>\n",
       "      <td>2.489303e+05</td>\n",
       "      <td>-8.484857e+05</td>\n",
       "      <td>8.307775e+04</td>\n",
       "      <td>-6.361100e+05</td>\n",
       "      <td>-1.737375e+05</td>\n",
       "      <td>785.722424</td>\n",
       "    </tr>\n",
       "    <tr>\n",
       "      <th>4</th>\n",
       "      <td>2018</td>\n",
       "      <td>5.368516e+05</td>\n",
       "      <td>-6.612636e+05</td>\n",
       "      <td>3.599729e+04</td>\n",
       "      <td>106123.660000</td>\n",
       "      <td>-2.707152e+05</td>\n",
       "      <td>-1.460202e+06</td>\n",
       "      <td>-1.460548e+06</td>\n",
       "      <td>-1.548733e+06</td>\n",
       "      <td>-4.591604e+05</td>\n",
       "      <td>...</td>\n",
       "      <td>1.947081e+05</td>\n",
       "      <td>-5.784936e+05</td>\n",
       "      <td>-7.412367e+05</td>\n",
       "      <td>-760308.330000</td>\n",
       "      <td>1.713954e+05</td>\n",
       "      <td>-1.456950e+06</td>\n",
       "      <td>8.122747e+05</td>\n",
       "      <td>-2.052157e+06</td>\n",
       "      <td>-1.966060e+06</td>\n",
       "      <td>-749724.356898</td>\n",
       "    </tr>\n",
       "    <tr>\n",
       "      <th>5</th>\n",
       "      <td>2019</td>\n",
       "      <td>1.129872e+06</td>\n",
       "      <td>-1.026318e+04</td>\n",
       "      <td>1.115166e+06</td>\n",
       "      <td>-51530.939703</td>\n",
       "      <td>-2.050786e+05</td>\n",
       "      <td>-8.915379e+05</td>\n",
       "      <td>-1.945633e+06</td>\n",
       "      <td>-1.530289e+06</td>\n",
       "      <td>-6.407682e+05</td>\n",
       "      <td>...</td>\n",
       "      <td>3.248936e+05</td>\n",
       "      <td>-4.757091e+05</td>\n",
       "      <td>6.453255e+06</td>\n",
       "      <td>215826.965383</td>\n",
       "      <td>-6.083308e+05</td>\n",
       "      <td>-4.608450e+06</td>\n",
       "      <td>7.840206e+04</td>\n",
       "      <td>-4.314439e+05</td>\n",
       "      <td>-1.009001e+06</td>\n",
       "      <td>-10206.083932</td>\n",
       "    </tr>\n",
       "    <tr>\n",
       "      <th>6</th>\n",
       "      <td>2020</td>\n",
       "      <td>2.742290e+05</td>\n",
       "      <td>-1.652773e+06</td>\n",
       "      <td>-1.914274e+06</td>\n",
       "      <td>-125151.279956</td>\n",
       "      <td>-7.527816e+05</td>\n",
       "      <td>-1.831980e+05</td>\n",
       "      <td>-9.337331e+05</td>\n",
       "      <td>-1.214998e+06</td>\n",
       "      <td>-4.666669e+05</td>\n",
       "      <td>...</td>\n",
       "      <td>1.596490e+05</td>\n",
       "      <td>-6.115426e+05</td>\n",
       "      <td>-5.474355e+05</td>\n",
       "      <td>-667990.228887</td>\n",
       "      <td>-1.173778e+06</td>\n",
       "      <td>-3.951619e+05</td>\n",
       "      <td>-4.215238e+05</td>\n",
       "      <td>4.883050e+05</td>\n",
       "      <td>-7.076463e+05</td>\n",
       "      <td>-305551.713881</td>\n",
       "    </tr>\n",
       "    <tr>\n",
       "      <th>7</th>\n",
       "      <td>2021</td>\n",
       "      <td>-6.019366e+05</td>\n",
       "      <td>-1.011660e+06</td>\n",
       "      <td>2.084408e+04</td>\n",
       "      <td>-970294.970000</td>\n",
       "      <td>6.229331e+04</td>\n",
       "      <td>-4.182520e+05</td>\n",
       "      <td>4.211602e+05</td>\n",
       "      <td>-1.400899e+06</td>\n",
       "      <td>-1.089182e+06</td>\n",
       "      <td>...</td>\n",
       "      <td>-2.824693e+05</td>\n",
       "      <td>-6.171279e+05</td>\n",
       "      <td>3.204376e+06</td>\n",
       "      <td>12413.672974</td>\n",
       "      <td>-1.510295e+06</td>\n",
       "      <td>9.860882e+05</td>\n",
       "      <td>-2.214554e+04</td>\n",
       "      <td>-7.453600e+05</td>\n",
       "      <td>-2.294243e+06</td>\n",
       "      <td>-374241.204459</td>\n",
       "    </tr>\n",
       "    <tr>\n",
       "      <th>8</th>\n",
       "      <td>2022</td>\n",
       "      <td>-1.495171e+06</td>\n",
       "      <td>-1.046829e+06</td>\n",
       "      <td>-9.782690e+05</td>\n",
       "      <td>-532388.520000</td>\n",
       "      <td>-7.420482e+04</td>\n",
       "      <td>-5.289000e+05</td>\n",
       "      <td>-5.580738e+05</td>\n",
       "      <td>-1.418313e+06</td>\n",
       "      <td>6.080871e+04</td>\n",
       "      <td>...</td>\n",
       "      <td>-4.110277e+05</td>\n",
       "      <td>2.054633e+06</td>\n",
       "      <td>-9.556571e+05</td>\n",
       "      <td>-359641.150000</td>\n",
       "      <td>-7.332888e+05</td>\n",
       "      <td>-2.885264e+06</td>\n",
       "      <td>-2.094642e+04</td>\n",
       "      <td>-1.273635e+06</td>\n",
       "      <td>-1.196021e+06</td>\n",
       "      <td>-576216.682173</td>\n",
       "    </tr>\n",
       "    <tr>\n",
       "      <th>9</th>\n",
       "      <td>2023</td>\n",
       "      <td>-1.708113e+06</td>\n",
       "      <td>-1.112992e+06</td>\n",
       "      <td>-1.213937e+06</td>\n",
       "      <td>-767776.710000</td>\n",
       "      <td>-4.515333e+05</td>\n",
       "      <td>-3.357829e+04</td>\n",
       "      <td>-1.193051e+06</td>\n",
       "      <td>-5.907277e+05</td>\n",
       "      <td>9.274231e+05</td>\n",
       "      <td>...</td>\n",
       "      <td>-1.140487e+06</td>\n",
       "      <td>-4.477389e+04</td>\n",
       "      <td>-1.401478e+06</td>\n",
       "      <td>516485.020421</td>\n",
       "      <td>4.627200e+05</td>\n",
       "      <td>-6.138621e+05</td>\n",
       "      <td>1.733757e+05</td>\n",
       "      <td>-6.204319e+05</td>\n",
       "      <td>-7.747639e+05</td>\n",
       "      <td>-405483.805767</td>\n",
       "    </tr>\n",
       "  </tbody>\n",
       "</table>\n",
       "<p>10 rows × 35 columns</p>\n",
       "</div>"
      ],
      "text/plain": [
       "   FiscalYear  Armstrong, Brooke  Breen, Daniel  Cosby, Russell  \\\n",
       "0        2014       1.805835e+05  -3.286018e+05   -2.296577e+05   \n",
       "1        2015      -6.184559e+05   1.694829e+06   -1.536583e+06   \n",
       "2        2016       1.259762e+05  -7.120580e+03    3.973629e+05   \n",
       "3        2017       7.765561e+05   1.046068e+06   -7.830477e+05   \n",
       "4        2018       5.368516e+05  -6.612636e+05    3.599729e+04   \n",
       "5        2019       1.129872e+06  -1.026318e+04    1.115166e+06   \n",
       "6        2020       2.742290e+05  -1.652773e+06   -1.914274e+06   \n",
       "7        2021      -6.019366e+05  -1.011660e+06    2.084408e+04   \n",
       "8        2022      -1.495171e+06  -1.046829e+06   -9.782690e+05   \n",
       "9        2023      -1.708113e+06  -1.112992e+06   -1.213937e+06   \n",
       "\n",
       "   Curry, Ashley  Darrow, Terry  Eckert, Jeff  Esquivel, James  \\\n",
       "0   88839.390000  -1.096616e+06 -6.499999e+05    -6.500000e+05   \n",
       "1  185981.550000  -7.842392e+05 -6.022143e+05    -6.022144e+05   \n",
       "2    1767.000000  -1.039069e+06  2.953813e+05     2.909055e+05   \n",
       "3 -132092.550000   1.882272e+05  1.246724e+04     7.640250e+03   \n",
       "4  106123.660000  -2.707152e+05 -1.460202e+06    -1.460548e+06   \n",
       "5  -51530.939703  -2.050786e+05 -8.915379e+05    -1.945633e+06   \n",
       "6 -125151.279956  -7.527816e+05 -1.831980e+05    -9.337331e+05   \n",
       "7 -970294.970000   6.229331e+04 -4.182520e+05     4.211602e+05   \n",
       "8 -532388.520000  -7.420482e+04 -5.289000e+05    -5.580738e+05   \n",
       "9 -767776.710000  -4.515333e+05 -3.357829e+04    -1.193051e+06   \n",
       "\n",
       "   Forkner, Fiona  Haggar, James  ...  Sheehy, Ahnie  Shipley, Christopher  \\\n",
       "0   -9.153017e+05  -4.888645e+04  ...   1.517200e+02         -4.383916e+04   \n",
       "1   -5.010896e+05  -6.746991e+05  ...   6.787789e+04          2.339045e+05   \n",
       "2    3.345119e+05   4.130049e+04  ...   5.853600e+04          3.087347e+05   \n",
       "3   -8.430951e+04  -9.668011e+05  ...   1.335026e+05          5.751887e+05   \n",
       "4   -1.548733e+06  -4.591604e+05  ...   1.947081e+05         -5.784936e+05   \n",
       "5   -1.530289e+06  -6.407682e+05  ...   3.248936e+05         -4.757091e+05   \n",
       "6   -1.214998e+06  -4.666669e+05  ...   1.596490e+05         -6.115426e+05   \n",
       "7   -1.400899e+06  -1.089182e+06  ...  -2.824693e+05         -6.171279e+05   \n",
       "8   -1.418313e+06   6.080871e+04  ...  -4.110277e+05          2.054633e+06   \n",
       "9   -5.907277e+05   9.274231e+05  ...  -1.140487e+06         -4.477389e+04   \n",
       "\n",
       "   Smith, Jubal  Stout, Christopher  Taguwa, Andrew   Toon, Larry  \\\n",
       "0  5.715048e+05       -97424.250000    1.511006e+05  7.598995e+05   \n",
       "1  4.859378e+06          876.090000    1.564674e+05 -5.160217e+05   \n",
       "2 -8.865662e+05       -60200.440000   -2.522959e+05 -1.431144e+06   \n",
       "3 -4.320410e+03        39281.720000    2.489303e+05 -8.484857e+05   \n",
       "4 -7.412367e+05      -760308.330000    1.713954e+05 -1.456950e+06   \n",
       "5  6.453255e+06       215826.965383   -6.083308e+05 -4.608450e+06   \n",
       "6 -5.474355e+05      -667990.228887   -1.173778e+06 -3.951619e+05   \n",
       "7  3.204376e+06        12413.672974   -1.510295e+06  9.860882e+05   \n",
       "8 -9.556571e+05      -359641.150000   -7.332888e+05 -2.885264e+06   \n",
       "9 -1.401478e+06       516485.020421    4.627200e+05 -6.138621e+05   \n",
       "\n",
       "   Weatherby, Samuel  Whitman, Paul    Wood, Alan  Overall Deficit  \n",
       "0       1.377920e+05   6.283805e+04  2.566705e+05    -86038.953333  \n",
       "1       4.432697e+05   4.972951e+05  3.649894e+04     71212.654545  \n",
       "2      -1.056970e+06  -2.924583e+05 -1.913959e+05    -76058.169697  \n",
       "3       8.307775e+04  -6.361100e+05 -1.737375e+05       785.722424  \n",
       "4       8.122747e+05  -2.052157e+06 -1.966060e+06   -749724.356898  \n",
       "5       7.840206e+04  -4.314439e+05 -1.009001e+06    -10206.083932  \n",
       "6      -4.215238e+05   4.883050e+05 -7.076463e+05   -305551.713881  \n",
       "7      -2.214554e+04  -7.453600e+05 -2.294243e+06   -374241.204459  \n",
       "8      -2.094642e+04  -1.273635e+06 -1.196021e+06   -576216.682173  \n",
       "9       1.733757e+05  -6.204319e+05 -7.747639e+05   -405483.805767  \n",
       "\n",
       "[10 rows x 35 columns]"
      ]
     },
     "execution_count": 17,
     "metadata": {},
     "output_type": "execute_result"
    }
   ],
   "source": [
    "deficit_value"
   ]
  },
  {
   "cell_type": "code",
   "execution_count": 6,
   "metadata": {},
   "outputs": [],
   "source": [
    "test = actuals_series[name]"
   ]
  },
  {
   "cell_type": "code",
   "execution_count": 37,
   "metadata": {},
   "outputs": [
    {
     "data": {
      "text/plain": [
       "2559682.35"
      ]
     },
     "execution_count": 37,
     "metadata": {},
     "output_type": "execute_result"
    }
   ],
   "source": [
    "test[0].pd_series().values[0]"
   ]
  },
  {
   "cell_type": "code",
   "execution_count": 34,
   "metadata": {},
   "outputs": [
    {
     "data": {
      "text/plain": [
       "2559682.35"
      ]
     },
     "execution_count": 34,
     "metadata": {},
     "output_type": "execute_result"
    }
   ],
   "source": [
    "a.values[0]"
   ]
  },
  {
   "cell_type": "code",
   "execution_count": 7,
   "metadata": {},
   "outputs": [
    {
     "data": {
      "text/html": [
       "<div><svg style=\"position: absolute; width: 0; height: 0; overflow: hidden\">\n",
       "<defs>\n",
       "<symbol id=\"icon-database\" viewBox=\"0 0 32 32\">\n",
       "<path d=\"M16 0c-8.837 0-16 2.239-16 5v4c0 2.761 7.163 5 16 5s16-2.239 16-5v-4c0-2.761-7.163-5-16-5z\"></path>\n",
       "<path d=\"M16 17c-8.837 0-16-2.239-16-5v6c0 2.761 7.163 5 16 5s16-2.239 16-5v-6c0 2.761-7.163 5-16 5z\"></path>\n",
       "<path d=\"M16 26c-8.837 0-16-2.239-16-5v6c0 2.761 7.163 5 16 5s16-2.239 16-5v-6c0 2.761-7.163 5-16 5z\"></path>\n",
       "</symbol>\n",
       "<symbol id=\"icon-file-text2\" viewBox=\"0 0 32 32\">\n",
       "<path d=\"M28.681 7.159c-0.694-0.947-1.662-2.053-2.724-3.116s-2.169-2.030-3.116-2.724c-1.612-1.182-2.393-1.319-2.841-1.319h-15.5c-1.378 0-2.5 1.121-2.5 2.5v27c0 1.378 1.122 2.5 2.5 2.5h23c1.378 0 2.5-1.122 2.5-2.5v-19.5c0-0.448-0.137-1.23-1.319-2.841zM24.543 5.457c0.959 0.959 1.712 1.825 2.268 2.543h-4.811v-4.811c0.718 0.556 1.584 1.309 2.543 2.268zM28 29.5c0 0.271-0.229 0.5-0.5 0.5h-23c-0.271 0-0.5-0.229-0.5-0.5v-27c0-0.271 0.229-0.5 0.5-0.5 0 0 15.499-0 15.5 0v7c0 0.552 0.448 1 1 1h7v19.5z\"></path>\n",
       "<path d=\"M23 26h-14c-0.552 0-1-0.448-1-1s0.448-1 1-1h14c0.552 0 1 0.448 1 1s-0.448 1-1 1z\"></path>\n",
       "<path d=\"M23 22h-14c-0.552 0-1-0.448-1-1s0.448-1 1-1h14c0.552 0 1 0.448 1 1s-0.448 1-1 1z\"></path>\n",
       "<path d=\"M23 18h-14c-0.552 0-1-0.448-1-1s0.448-1 1-1h14c0.552 0 1 0.448 1 1s-0.448 1-1 1z\"></path>\n",
       "</symbol>\n",
       "</defs>\n",
       "</svg>\n",
       "<style>/* CSS stylesheet for displaying xarray objects in jupyterlab.\n",
       " *\n",
       " */\n",
       "\n",
       ":root {\n",
       "  --xr-font-color0: var(--jp-content-font-color0, rgba(0, 0, 0, 1));\n",
       "  --xr-font-color2: var(--jp-content-font-color2, rgba(0, 0, 0, 0.54));\n",
       "  --xr-font-color3: var(--jp-content-font-color3, rgba(0, 0, 0, 0.38));\n",
       "  --xr-border-color: var(--jp-border-color2, #e0e0e0);\n",
       "  --xr-disabled-color: var(--jp-layout-color3, #bdbdbd);\n",
       "  --xr-background-color: var(--jp-layout-color0, white);\n",
       "  --xr-background-color-row-even: var(--jp-layout-color1, white);\n",
       "  --xr-background-color-row-odd: var(--jp-layout-color2, #eeeeee);\n",
       "}\n",
       "\n",
       "html[theme=dark],\n",
       "html[data-theme=dark],\n",
       "body[data-theme=dark],\n",
       "body.vscode-dark {\n",
       "  --xr-font-color0: rgba(255, 255, 255, 1);\n",
       "  --xr-font-color2: rgba(255, 255, 255, 0.54);\n",
       "  --xr-font-color3: rgba(255, 255, 255, 0.38);\n",
       "  --xr-border-color: #1F1F1F;\n",
       "  --xr-disabled-color: #515151;\n",
       "  --xr-background-color: #111111;\n",
       "  --xr-background-color-row-even: #111111;\n",
       "  --xr-background-color-row-odd: #313131;\n",
       "}\n",
       "\n",
       ".xr-wrap {\n",
       "  display: block !important;\n",
       "  min-width: 300px;\n",
       "  max-width: 700px;\n",
       "}\n",
       "\n",
       ".xr-text-repr-fallback {\n",
       "  /* fallback to plain text repr when CSS is not injected (untrusted notebook) */\n",
       "  display: none;\n",
       "}\n",
       "\n",
       ".xr-header {\n",
       "  padding-top: 6px;\n",
       "  padding-bottom: 6px;\n",
       "  margin-bottom: 4px;\n",
       "  border-bottom: solid 1px var(--xr-border-color);\n",
       "}\n",
       "\n",
       ".xr-header > div,\n",
       ".xr-header > ul {\n",
       "  display: inline;\n",
       "  margin-top: 0;\n",
       "  margin-bottom: 0;\n",
       "}\n",
       "\n",
       ".xr-obj-type,\n",
       ".xr-array-name {\n",
       "  margin-left: 2px;\n",
       "  margin-right: 10px;\n",
       "}\n",
       "\n",
       ".xr-obj-type {\n",
       "  color: var(--xr-font-color2);\n",
       "}\n",
       "\n",
       ".xr-sections {\n",
       "  padding-left: 0 !important;\n",
       "  display: grid;\n",
       "  grid-template-columns: 150px auto auto 1fr 20px 20px;\n",
       "}\n",
       "\n",
       ".xr-section-item {\n",
       "  display: contents;\n",
       "}\n",
       "\n",
       ".xr-section-item input {\n",
       "  display: none;\n",
       "}\n",
       "\n",
       ".xr-section-item input + label {\n",
       "  color: var(--xr-disabled-color);\n",
       "}\n",
       "\n",
       ".xr-section-item input:enabled + label {\n",
       "  cursor: pointer;\n",
       "  color: var(--xr-font-color2);\n",
       "}\n",
       "\n",
       ".xr-section-item input:enabled + label:hover {\n",
       "  color: var(--xr-font-color0);\n",
       "}\n",
       "\n",
       ".xr-section-summary {\n",
       "  grid-column: 1;\n",
       "  color: var(--xr-font-color2);\n",
       "  font-weight: 500;\n",
       "}\n",
       "\n",
       ".xr-section-summary > span {\n",
       "  display: inline-block;\n",
       "  padding-left: 0.5em;\n",
       "}\n",
       "\n",
       ".xr-section-summary-in:disabled + label {\n",
       "  color: var(--xr-font-color2);\n",
       "}\n",
       "\n",
       ".xr-section-summary-in + label:before {\n",
       "  display: inline-block;\n",
       "  content: '►';\n",
       "  font-size: 11px;\n",
       "  width: 15px;\n",
       "  text-align: center;\n",
       "}\n",
       "\n",
       ".xr-section-summary-in:disabled + label:before {\n",
       "  color: var(--xr-disabled-color);\n",
       "}\n",
       "\n",
       ".xr-section-summary-in:checked + label:before {\n",
       "  content: '▼';\n",
       "}\n",
       "\n",
       ".xr-section-summary-in:checked + label > span {\n",
       "  display: none;\n",
       "}\n",
       "\n",
       ".xr-section-summary,\n",
       ".xr-section-inline-details {\n",
       "  padding-top: 4px;\n",
       "  padding-bottom: 4px;\n",
       "}\n",
       "\n",
       ".xr-section-inline-details {\n",
       "  grid-column: 2 / -1;\n",
       "}\n",
       "\n",
       ".xr-section-details {\n",
       "  display: none;\n",
       "  grid-column: 1 / -1;\n",
       "  margin-bottom: 5px;\n",
       "}\n",
       "\n",
       ".xr-section-summary-in:checked ~ .xr-section-details {\n",
       "  display: contents;\n",
       "}\n",
       "\n",
       ".xr-array-wrap {\n",
       "  grid-column: 1 / -1;\n",
       "  display: grid;\n",
       "  grid-template-columns: 20px auto;\n",
       "}\n",
       "\n",
       ".xr-array-wrap > label {\n",
       "  grid-column: 1;\n",
       "  vertical-align: top;\n",
       "}\n",
       "\n",
       ".xr-preview {\n",
       "  color: var(--xr-font-color3);\n",
       "}\n",
       "\n",
       ".xr-array-preview,\n",
       ".xr-array-data {\n",
       "  padding: 0 5px !important;\n",
       "  grid-column: 2;\n",
       "}\n",
       "\n",
       ".xr-array-data,\n",
       ".xr-array-in:checked ~ .xr-array-preview {\n",
       "  display: none;\n",
       "}\n",
       "\n",
       ".xr-array-in:checked ~ .xr-array-data,\n",
       ".xr-array-preview {\n",
       "  display: inline-block;\n",
       "}\n",
       "\n",
       ".xr-dim-list {\n",
       "  display: inline-block !important;\n",
       "  list-style: none;\n",
       "  padding: 0 !important;\n",
       "  margin: 0;\n",
       "}\n",
       "\n",
       ".xr-dim-list li {\n",
       "  display: inline-block;\n",
       "  padding: 0;\n",
       "  margin: 0;\n",
       "}\n",
       "\n",
       ".xr-dim-list:before {\n",
       "  content: '(';\n",
       "}\n",
       "\n",
       ".xr-dim-list:after {\n",
       "  content: ')';\n",
       "}\n",
       "\n",
       ".xr-dim-list li:not(:last-child):after {\n",
       "  content: ',';\n",
       "  padding-right: 5px;\n",
       "}\n",
       "\n",
       ".xr-has-index {\n",
       "  font-weight: bold;\n",
       "}\n",
       "\n",
       ".xr-var-list,\n",
       ".xr-var-item {\n",
       "  display: contents;\n",
       "}\n",
       "\n",
       ".xr-var-item > div,\n",
       ".xr-var-item label,\n",
       ".xr-var-item > .xr-var-name span {\n",
       "  background-color: var(--xr-background-color-row-even);\n",
       "  margin-bottom: 0;\n",
       "}\n",
       "\n",
       ".xr-var-item > .xr-var-name:hover span {\n",
       "  padding-right: 5px;\n",
       "}\n",
       "\n",
       ".xr-var-list > li:nth-child(odd) > div,\n",
       ".xr-var-list > li:nth-child(odd) > label,\n",
       ".xr-var-list > li:nth-child(odd) > .xr-var-name span {\n",
       "  background-color: var(--xr-background-color-row-odd);\n",
       "}\n",
       "\n",
       ".xr-var-name {\n",
       "  grid-column: 1;\n",
       "}\n",
       "\n",
       ".xr-var-dims {\n",
       "  grid-column: 2;\n",
       "}\n",
       "\n",
       ".xr-var-dtype {\n",
       "  grid-column: 3;\n",
       "  text-align: right;\n",
       "  color: var(--xr-font-color2);\n",
       "}\n",
       "\n",
       ".xr-var-preview {\n",
       "  grid-column: 4;\n",
       "}\n",
       "\n",
       ".xr-index-preview {\n",
       "  grid-column: 2 / 5;\n",
       "  color: var(--xr-font-color2);\n",
       "}\n",
       "\n",
       ".xr-var-name,\n",
       ".xr-var-dims,\n",
       ".xr-var-dtype,\n",
       ".xr-preview,\n",
       ".xr-attrs dt {\n",
       "  white-space: nowrap;\n",
       "  overflow: hidden;\n",
       "  text-overflow: ellipsis;\n",
       "  padding-right: 10px;\n",
       "}\n",
       "\n",
       ".xr-var-name:hover,\n",
       ".xr-var-dims:hover,\n",
       ".xr-var-dtype:hover,\n",
       ".xr-attrs dt:hover {\n",
       "  overflow: visible;\n",
       "  width: auto;\n",
       "  z-index: 1;\n",
       "}\n",
       "\n",
       ".xr-var-attrs,\n",
       ".xr-var-data,\n",
       ".xr-index-data {\n",
       "  display: none;\n",
       "  background-color: var(--xr-background-color) !important;\n",
       "  padding-bottom: 5px !important;\n",
       "}\n",
       "\n",
       ".xr-var-attrs-in:checked ~ .xr-var-attrs,\n",
       ".xr-var-data-in:checked ~ .xr-var-data,\n",
       ".xr-index-data-in:checked ~ .xr-index-data {\n",
       "  display: block;\n",
       "}\n",
       "\n",
       ".xr-var-data > table {\n",
       "  float: right;\n",
       "}\n",
       "\n",
       ".xr-var-name span,\n",
       ".xr-var-data,\n",
       ".xr-index-name div,\n",
       ".xr-index-data,\n",
       ".xr-attrs {\n",
       "  padding-left: 25px !important;\n",
       "}\n",
       "\n",
       ".xr-attrs,\n",
       ".xr-var-attrs,\n",
       ".xr-var-data,\n",
       ".xr-index-data {\n",
       "  grid-column: 1 / -1;\n",
       "}\n",
       "\n",
       "dl.xr-attrs {\n",
       "  padding: 0;\n",
       "  margin: 0;\n",
       "  display: grid;\n",
       "  grid-template-columns: 125px auto;\n",
       "}\n",
       "\n",
       ".xr-attrs dt,\n",
       ".xr-attrs dd {\n",
       "  padding: 0;\n",
       "  margin: 0;\n",
       "  float: left;\n",
       "  padding-right: 10px;\n",
       "  width: auto;\n",
       "}\n",
       "\n",
       ".xr-attrs dt {\n",
       "  font-weight: normal;\n",
       "  grid-column: 1;\n",
       "}\n",
       "\n",
       ".xr-attrs dt:hover span {\n",
       "  display: inline-block;\n",
       "  background: var(--xr-background-color);\n",
       "  padding-right: 10px;\n",
       "}\n",
       "\n",
       ".xr-attrs dd {\n",
       "  grid-column: 2;\n",
       "  white-space: pre-wrap;\n",
       "  word-break: break-all;\n",
       "}\n",
       "\n",
       ".xr-icon-database,\n",
       ".xr-icon-file-text2,\n",
       ".xr-no-icon {\n",
       "  display: inline-block;\n",
       "  vertical-align: middle;\n",
       "  width: 1em;\n",
       "  height: 1.5em !important;\n",
       "  stroke-width: 0;\n",
       "  stroke: currentColor;\n",
       "  fill: currentColor;\n",
       "}\n",
       "</style><pre class='xr-text-repr-fallback'>&lt;TimeSeries (DataArray) (FiscalYear: 11, component: 1, sample: 1)&gt; Size: 88B\n",
       "array([[[2559682.35]],\n",
       "\n",
       "       [[1684487.28]],\n",
       "\n",
       "       [[2101767.07]],\n",
       "\n",
       "       [[1360919.25]],\n",
       "\n",
       "       [[2738122.29]],\n",
       "\n",
       "       [[2244909.46]],\n",
       "\n",
       "       [[1837476.8 ]],\n",
       "\n",
       "       [[1699617.73]],\n",
       "\n",
       "       [[1736420.59]],\n",
       "\n",
       "       [[1635795.06]],\n",
       "\n",
       "       [[ 123456.  ]]])\n",
       "Coordinates:\n",
       "  * FiscalYear  (FiscalYear) int64 88B 2014 2015 2016 2017 ... 2022 2023 2024\n",
       "  * component   (component) object 8B &#x27;Kackley, Kelley&#x27;\n",
       "Dimensions without coordinates: sample\n",
       "Attributes:\n",
       "    static_covariates:  None\n",
       "    hierarchy:          None</pre><div class='xr-wrap' style='display:none'><div class='xr-header'><div class='xr-obj-type'>TimeSeries (DataArray)</div><div class='xr-array-name'></div><ul class='xr-dim-list'><li><span class='xr-has-index'>FiscalYear</span>: 11</li><li><span class='xr-has-index'>component</span>: 1</li><li><span>sample</span>: 1</li></ul></div><ul class='xr-sections'><li class='xr-section-item'><div class='xr-array-wrap'><input id='section-0008ba45-8ac9-431a-a748-eae13e516f57' class='xr-array-in' type='checkbox' checked><label for='section-0008ba45-8ac9-431a-a748-eae13e516f57' title='Show/hide data repr'><svg class='icon xr-icon-database'><use xlink:href='#icon-database'></use></svg></label><div class='xr-array-preview xr-preview'><span>2.56e+06 1.684e+06 2.102e+06 ... 1.736e+06 1.636e+06 1.235e+05</span></div><div class='xr-array-data'><pre>array([[[2559682.35]],\n",
       "\n",
       "       [[1684487.28]],\n",
       "\n",
       "       [[2101767.07]],\n",
       "\n",
       "       [[1360919.25]],\n",
       "\n",
       "       [[2738122.29]],\n",
       "\n",
       "       [[2244909.46]],\n",
       "\n",
       "       [[1837476.8 ]],\n",
       "\n",
       "       [[1699617.73]],\n",
       "\n",
       "       [[1736420.59]],\n",
       "\n",
       "       [[1635795.06]],\n",
       "\n",
       "       [[ 123456.  ]]])</pre></div></div></li><li class='xr-section-item'><input id='section-81b3b147-cc6a-4b4a-bfaa-aaa4effe3e65' class='xr-section-summary-in' type='checkbox'  checked><label for='section-81b3b147-cc6a-4b4a-bfaa-aaa4effe3e65' class='xr-section-summary' >Coordinates: <span>(2)</span></label><div class='xr-section-inline-details'></div><div class='xr-section-details'><ul class='xr-var-list'><li class='xr-var-item'><div class='xr-var-name'><span class='xr-has-index'>FiscalYear</span></div><div class='xr-var-dims'>(FiscalYear)</div><div class='xr-var-dtype'>int64</div><div class='xr-var-preview xr-preview'>2014 2015 2016 ... 2022 2023 2024</div><input id='attrs-1986a197-ff9b-4acd-bb03-e7cf527e835f' class='xr-var-attrs-in' type='checkbox' disabled><label for='attrs-1986a197-ff9b-4acd-bb03-e7cf527e835f' title='Show/Hide attributes'><svg class='icon xr-icon-file-text2'><use xlink:href='#icon-file-text2'></use></svg></label><input id='data-8f44cd8c-14e7-483e-a3b1-67dfa2f98fef' class='xr-var-data-in' type='checkbox'><label for='data-8f44cd8c-14e7-483e-a3b1-67dfa2f98fef' title='Show/Hide data repr'><svg class='icon xr-icon-database'><use xlink:href='#icon-database'></use></svg></label><div class='xr-var-attrs'><dl class='xr-attrs'></dl></div><div class='xr-var-data'><pre>array([2014, 2015, 2016, 2017, 2018, 2019, 2020, 2021, 2022, 2023, 2024])</pre></div></li><li class='xr-var-item'><div class='xr-var-name'><span class='xr-has-index'>component</span></div><div class='xr-var-dims'>(component)</div><div class='xr-var-dtype'>object</div><div class='xr-var-preview xr-preview'>&#x27;Kackley, Kelley&#x27;</div><input id='attrs-846ddf57-31d4-4712-92f8-99f60d053cca' class='xr-var-attrs-in' type='checkbox' disabled><label for='attrs-846ddf57-31d4-4712-92f8-99f60d053cca' title='Show/Hide attributes'><svg class='icon xr-icon-file-text2'><use xlink:href='#icon-file-text2'></use></svg></label><input id='data-fbbc3a89-ed9b-489a-86bb-4b6ac1619833' class='xr-var-data-in' type='checkbox'><label for='data-fbbc3a89-ed9b-489a-86bb-4b6ac1619833' title='Show/Hide data repr'><svg class='icon xr-icon-database'><use xlink:href='#icon-database'></use></svg></label><div class='xr-var-attrs'><dl class='xr-attrs'></dl></div><div class='xr-var-data'><pre>array([&#x27;Kackley, Kelley&#x27;], dtype=object)</pre></div></li></ul></div></li><li class='xr-section-item'><input id='section-45ab9403-ee1b-4f09-ba53-edf0197577d3' class='xr-section-summary-in' type='checkbox'  ><label for='section-45ab9403-ee1b-4f09-ba53-edf0197577d3' class='xr-section-summary' >Indexes: <span>(2)</span></label><div class='xr-section-inline-details'></div><div class='xr-section-details'><ul class='xr-var-list'><li class='xr-var-item'><div class='xr-index-name'><div>FiscalYear</div></div><div class='xr-index-preview'>PandasIndex</div><div></div><input id='index-98bf17bc-7697-4ad6-8f25-c1c1f80cf33a' class='xr-index-data-in' type='checkbox'/><label for='index-98bf17bc-7697-4ad6-8f25-c1c1f80cf33a' title='Show/Hide index repr'><svg class='icon xr-icon-database'><use xlink:href='#icon-database'></use></svg></label><div class='xr-index-data'><pre>PandasIndex(RangeIndex(start=2014, stop=2025, step=1, name=&#x27;FiscalYear&#x27;))</pre></div></li><li class='xr-var-item'><div class='xr-index-name'><div>component</div></div><div class='xr-index-preview'>PandasIndex</div><div></div><input id='index-ce765653-43bf-4783-a40b-e0f7ec624e56' class='xr-index-data-in' type='checkbox'/><label for='index-ce765653-43bf-4783-a40b-e0f7ec624e56' title='Show/Hide index repr'><svg class='icon xr-icon-database'><use xlink:href='#icon-database'></use></svg></label><div class='xr-index-data'><pre>PandasIndex(Index([&#x27;Kackley, Kelley&#x27;], dtype=&#x27;object&#x27;, name=&#x27;component&#x27;))</pre></div></li></ul></div></li><li class='xr-section-item'><input id='section-9082d1a8-d1a6-4389-bde0-d89e21c275d4' class='xr-section-summary-in' type='checkbox'  checked><label for='section-9082d1a8-d1a6-4389-bde0-d89e21c275d4' class='xr-section-summary' >Attributes: <span>(2)</span></label><div class='xr-section-inline-details'></div><div class='xr-section-details'><dl class='xr-attrs'><dt><span>static_covariates :</span></dt><dd>None</dd><dt><span>hierarchy :</span></dt><dd>None</dd></dl></div></li></ul></div></div>"
      ],
      "text/plain": [
       "<TimeSeries (DataArray) (FiscalYear: 11, component: 1, sample: 1)> Size: 88B\n",
       "array([[[2559682.35]],\n",
       "\n",
       "       [[1684487.28]],\n",
       "\n",
       "       [[2101767.07]],\n",
       "\n",
       "       [[1360919.25]],\n",
       "\n",
       "       [[2738122.29]],\n",
       "\n",
       "       [[2244909.46]],\n",
       "\n",
       "       [[1837476.8 ]],\n",
       "\n",
       "       [[1699617.73]],\n",
       "\n",
       "       [[1736420.59]],\n",
       "\n",
       "       [[1635795.06]],\n",
       "\n",
       "       [[ 123456.  ]]])\n",
       "Coordinates:\n",
       "  * FiscalYear  (FiscalYear) int64 88B 2014 2015 2016 2017 ... 2022 2023 2024\n",
       "  * component   (component) object 8B 'Kackley, Kelley'\n",
       "Dimensions without coordinates: sample\n",
       "Attributes:\n",
       "    static_covariates:  None\n",
       "    hierarchy:          None"
      ]
     },
     "execution_count": 7,
     "metadata": {},
     "output_type": "execute_result"
    }
   ],
   "source": [
    "test.append_values([123456])"
   ]
  },
  {
   "cell_type": "code",
   "execution_count": 8,
   "metadata": {},
   "outputs": [
    {
     "data": {
      "text/html": [
       "<div>\n",
       "<style scoped>\n",
       "    .dataframe tbody tr th:only-of-type {\n",
       "        vertical-align: middle;\n",
       "    }\n",
       "\n",
       "    .dataframe tbody tr th {\n",
       "        vertical-align: top;\n",
       "    }\n",
       "\n",
       "    .dataframe thead th {\n",
       "        text-align: right;\n",
       "    }\n",
       "</style>\n",
       "<table border=\"1\" class=\"dataframe\">\n",
       "  <thead>\n",
       "    <tr style=\"text-align: right;\">\n",
       "      <th></th>\n",
       "      <th>FiscalYear</th>\n",
       "      <th>Armstrong, Brooke</th>\n",
       "      <th>Breen, Daniel</th>\n",
       "      <th>Cosby, Russell</th>\n",
       "      <th>Curry, Ashley</th>\n",
       "      <th>Darrow, Terry</th>\n",
       "      <th>Eckert, Jeff</th>\n",
       "      <th>Esquivel, James</th>\n",
       "      <th>Forkner, Fiona</th>\n",
       "      <th>Haggar, James</th>\n",
       "      <th>...</th>\n",
       "      <th>Selner, Bradley</th>\n",
       "      <th>Sheehy, Ahnie</th>\n",
       "      <th>Shipley, Christopher</th>\n",
       "      <th>Smith, Jubal</th>\n",
       "      <th>Stout, Christopher</th>\n",
       "      <th>Taguwa, Andrew</th>\n",
       "      <th>Toon, Larry</th>\n",
       "      <th>Weatherby, Samuel</th>\n",
       "      <th>Whitman, Paul</th>\n",
       "      <th>Wood, Alan</th>\n",
       "    </tr>\n",
       "  </thead>\n",
       "  <tbody>\n",
       "    <tr>\n",
       "      <th>0</th>\n",
       "      <td>2014</td>\n",
       "      <td>1380583.55</td>\n",
       "      <td>171398.16</td>\n",
       "      <td>770342.33</td>\n",
       "      <td>88839.39</td>\n",
       "      <td>1003383.83</td>\n",
       "      <td>750000.05</td>\n",
       "      <td>750000.01</td>\n",
       "      <td>384698.30</td>\n",
       "      <td>301113.55</td>\n",
       "      <td>...</td>\n",
       "      <td>3188933.63</td>\n",
       "      <td>151.72</td>\n",
       "      <td>356160.84</td>\n",
       "      <td>1771504.76</td>\n",
       "      <td>102575.75</td>\n",
       "      <td>901100.59</td>\n",
       "      <td>2259899.50</td>\n",
       "      <td>637791.99</td>\n",
       "      <td>1562838.05</td>\n",
       "      <td>856670.45</td>\n",
       "    </tr>\n",
       "    <tr>\n",
       "      <th>1</th>\n",
       "      <td>2015</td>\n",
       "      <td>631544.09</td>\n",
       "      <td>2194829.40</td>\n",
       "      <td>463416.90</td>\n",
       "      <td>335981.55</td>\n",
       "      <td>815760.82</td>\n",
       "      <td>997785.67</td>\n",
       "      <td>997785.62</td>\n",
       "      <td>998910.44</td>\n",
       "      <td>525300.89</td>\n",
       "      <td>...</td>\n",
       "      <td>2209823.93</td>\n",
       "      <td>142877.89</td>\n",
       "      <td>633904.48</td>\n",
       "      <td>7359378.40</td>\n",
       "      <td>250876.09</td>\n",
       "      <td>1011467.41</td>\n",
       "      <td>983978.26</td>\n",
       "      <td>1043269.72</td>\n",
       "      <td>1997295.13</td>\n",
       "      <td>786498.94</td>\n",
       "    </tr>\n",
       "    <tr>\n",
       "      <th>2</th>\n",
       "      <td>2016</td>\n",
       "      <td>1125976.16</td>\n",
       "      <td>1492879.42</td>\n",
       "      <td>1897362.90</td>\n",
       "      <td>401767.00</td>\n",
       "      <td>360931.29</td>\n",
       "      <td>995381.26</td>\n",
       "      <td>990905.52</td>\n",
       "      <td>1301178.85</td>\n",
       "      <td>641300.49</td>\n",
       "      <td>...</td>\n",
       "      <td>2076925.86</td>\n",
       "      <td>218536.00</td>\n",
       "      <td>808734.66</td>\n",
       "      <td>2113433.76</td>\n",
       "      <td>439799.56</td>\n",
       "      <td>714371.11</td>\n",
       "      <td>68855.76</td>\n",
       "      <td>576363.95</td>\n",
       "      <td>1207541.71</td>\n",
       "      <td>608604.08</td>\n",
       "    </tr>\n",
       "    <tr>\n",
       "      <th>3</th>\n",
       "      <td>2017</td>\n",
       "      <td>1526556.11</td>\n",
       "      <td>2425068.14</td>\n",
       "      <td>216952.35</td>\n",
       "      <td>267907.45</td>\n",
       "      <td>588227.17</td>\n",
       "      <td>812467.24</td>\n",
       "      <td>807640.25</td>\n",
       "      <td>665690.49</td>\n",
       "      <td>533198.91</td>\n",
       "      <td>...</td>\n",
       "      <td>2135517.42</td>\n",
       "      <td>333502.62</td>\n",
       "      <td>1325188.67</td>\n",
       "      <td>1495679.59</td>\n",
       "      <td>439281.72</td>\n",
       "      <td>998930.30</td>\n",
       "      <td>7801514.26</td>\n",
       "      <td>683077.75</td>\n",
       "      <td>363890.00</td>\n",
       "      <td>626262.49</td>\n",
       "    </tr>\n",
       "    <tr>\n",
       "      <th>4</th>\n",
       "      <td>2018</td>\n",
       "      <td>1786851.61</td>\n",
       "      <td>1557403.06</td>\n",
       "      <td>1035997.29</td>\n",
       "      <td>506123.66</td>\n",
       "      <td>429284.82</td>\n",
       "      <td>939797.56</td>\n",
       "      <td>939452.24</td>\n",
       "      <td>701267.31</td>\n",
       "      <td>540839.62</td>\n",
       "      <td>...</td>\n",
       "      <td>837927.59</td>\n",
       "      <td>394708.13</td>\n",
       "      <td>1221506.39</td>\n",
       "      <td>1477429.31</td>\n",
       "      <td>439691.67</td>\n",
       "      <td>1171395.37</td>\n",
       "      <td>543049.64</td>\n",
       "      <td>1662274.72</td>\n",
       "      <td>947842.79</td>\n",
       "      <td>433940.03</td>\n",
       "    </tr>\n",
       "    <tr>\n",
       "      <th>5</th>\n",
       "      <td>2019</td>\n",
       "      <td>2927638.63</td>\n",
       "      <td>1966813.19</td>\n",
       "      <td>2630950.86</td>\n",
       "      <td>393480.17</td>\n",
       "      <td>500000.00</td>\n",
       "      <td>610360.97</td>\n",
       "      <td>610355.66</td>\n",
       "      <td>589002.22</td>\n",
       "      <td>776827.65</td>\n",
       "      <td>...</td>\n",
       "      <td>3435213.05</td>\n",
       "      <td>500000.00</td>\n",
       "      <td>875584.42</td>\n",
       "      <td>9027557.98</td>\n",
       "      <td>837256.10</td>\n",
       "      <td>500000.00</td>\n",
       "      <td>563242.34</td>\n",
       "      <td>542493.41</td>\n",
       "      <td>798450.78</td>\n",
       "      <td>676387.34</td>\n",
       "    </tr>\n",
       "    <tr>\n",
       "      <th>6</th>\n",
       "      <td>2020</td>\n",
       "      <td>2774229.05</td>\n",
       "      <td>694513.79</td>\n",
       "      <td>85726.02</td>\n",
       "      <td>226290.45</td>\n",
       "      <td>69027.42</td>\n",
       "      <td>555576.34</td>\n",
       "      <td>555576.49</td>\n",
       "      <td>585002.05</td>\n",
       "      <td>765932.58</td>\n",
       "      <td>...</td>\n",
       "      <td>5020462.00</td>\n",
       "      <td>303459.66</td>\n",
       "      <td>1030727.50</td>\n",
       "      <td>1858116.40</td>\n",
       "      <td>729262.65</td>\n",
       "      <td>826222.42</td>\n",
       "      <td>204838.14</td>\n",
       "      <td>128476.25</td>\n",
       "      <td>1288304.98</td>\n",
       "      <td>92353.73</td>\n",
       "    </tr>\n",
       "    <tr>\n",
       "      <th>7</th>\n",
       "      <td>2021</td>\n",
       "      <td>1521039.35</td>\n",
       "      <td>1176575.40</td>\n",
       "      <td>1734397.73</td>\n",
       "      <td>529705.03</td>\n",
       "      <td>890021.64</td>\n",
       "      <td>1162108.21</td>\n",
       "      <td>1121160.16</td>\n",
       "      <td>334546.52</td>\n",
       "      <td>293815.62</td>\n",
       "      <td>...</td>\n",
       "      <td>3908492.32</td>\n",
       "      <td>217530.65</td>\n",
       "      <td>1382872.15</td>\n",
       "      <td>4769175.02</td>\n",
       "      <td>888623.37</td>\n",
       "      <td>650988.56</td>\n",
       "      <td>3920452.28</td>\n",
       "      <td>513034.18</td>\n",
       "      <td>1154146.70</td>\n",
       "      <td>273606.92</td>\n",
       "    </tr>\n",
       "    <tr>\n",
       "      <th>8</th>\n",
       "      <td>2022</td>\n",
       "      <td>138760.99</td>\n",
       "      <td>243170.51</td>\n",
       "      <td>262885.16</td>\n",
       "      <td>557611.48</td>\n",
       "      <td>240795.18</td>\n",
       "      <td>1101099.99</td>\n",
       "      <td>1071926.24</td>\n",
       "      <td>750000.00</td>\n",
       "      <td>1310808.71</td>\n",
       "      <td>...</td>\n",
       "      <td>4545074.40</td>\n",
       "      <td>488972.28</td>\n",
       "      <td>3319633.14</td>\n",
       "      <td>584342.95</td>\n",
       "      <td>900358.85</td>\n",
       "      <td>1277070.87</td>\n",
       "      <td>26433.64</td>\n",
       "      <td>559862.94</td>\n",
       "      <td>363262.31</td>\n",
       "      <td>500000.00</td>\n",
       "    </tr>\n",
       "    <tr>\n",
       "      <th>9</th>\n",
       "      <td>2023</td>\n",
       "      <td>-10737.07</td>\n",
       "      <td>427007.70</td>\n",
       "      <td>15142.76</td>\n",
       "      <td>592223.29</td>\n",
       "      <td>9041.67</td>\n",
       "      <td>986421.71</td>\n",
       "      <td>846948.54</td>\n",
       "      <td>1319272.27</td>\n",
       "      <td>2250000.00</td>\n",
       "      <td>...</td>\n",
       "      <td>2703434.77</td>\n",
       "      <td>126778.85</td>\n",
       "      <td>1530226.11</td>\n",
       "      <td>758521.60</td>\n",
       "      <td>1331616.06</td>\n",
       "      <td>1417720.02</td>\n",
       "      <td>26137.89</td>\n",
       "      <td>1128375.68</td>\n",
       "      <td>334568.10</td>\n",
       "      <td>180236.10</td>\n",
       "    </tr>\n",
       "  </tbody>\n",
       "</table>\n",
       "<p>10 rows × 34 columns</p>\n",
       "</div>"
      ],
      "text/plain": [
       "   FiscalYear  Armstrong, Brooke  Breen, Daniel  Cosby, Russell  \\\n",
       "0        2014         1380583.55      171398.16       770342.33   \n",
       "1        2015          631544.09     2194829.40       463416.90   \n",
       "2        2016         1125976.16     1492879.42      1897362.90   \n",
       "3        2017         1526556.11     2425068.14       216952.35   \n",
       "4        2018         1786851.61     1557403.06      1035997.29   \n",
       "5        2019         2927638.63     1966813.19      2630950.86   \n",
       "6        2020         2774229.05      694513.79        85726.02   \n",
       "7        2021         1521039.35     1176575.40      1734397.73   \n",
       "8        2022          138760.99      243170.51       262885.16   \n",
       "9        2023          -10737.07      427007.70        15142.76   \n",
       "\n",
       "   Curry, Ashley  Darrow, Terry  Eckert, Jeff  Esquivel, James  \\\n",
       "0       88839.39     1003383.83     750000.05        750000.01   \n",
       "1      335981.55      815760.82     997785.67        997785.62   \n",
       "2      401767.00      360931.29     995381.26        990905.52   \n",
       "3      267907.45      588227.17     812467.24        807640.25   \n",
       "4      506123.66      429284.82     939797.56        939452.24   \n",
       "5      393480.17      500000.00     610360.97        610355.66   \n",
       "6      226290.45       69027.42     555576.34        555576.49   \n",
       "7      529705.03      890021.64    1162108.21       1121160.16   \n",
       "8      557611.48      240795.18    1101099.99       1071926.24   \n",
       "9      592223.29        9041.67     986421.71        846948.54   \n",
       "\n",
       "   Forkner, Fiona  Haggar, James  ...  Selner, Bradley  Sheehy, Ahnie  \\\n",
       "0       384698.30      301113.55  ...       3188933.63         151.72   \n",
       "1       998910.44      525300.89  ...       2209823.93      142877.89   \n",
       "2      1301178.85      641300.49  ...       2076925.86      218536.00   \n",
       "3       665690.49      533198.91  ...       2135517.42      333502.62   \n",
       "4       701267.31      540839.62  ...        837927.59      394708.13   \n",
       "5       589002.22      776827.65  ...       3435213.05      500000.00   \n",
       "6       585002.05      765932.58  ...       5020462.00      303459.66   \n",
       "7       334546.52      293815.62  ...       3908492.32      217530.65   \n",
       "8       750000.00     1310808.71  ...       4545074.40      488972.28   \n",
       "9      1319272.27     2250000.00  ...       2703434.77      126778.85   \n",
       "\n",
       "   Shipley, Christopher  Smith, Jubal  Stout, Christopher  Taguwa, Andrew  \\\n",
       "0             356160.84    1771504.76           102575.75       901100.59   \n",
       "1             633904.48    7359378.40           250876.09      1011467.41   \n",
       "2             808734.66    2113433.76           439799.56       714371.11   \n",
       "3            1325188.67    1495679.59           439281.72       998930.30   \n",
       "4            1221506.39    1477429.31           439691.67      1171395.37   \n",
       "5             875584.42    9027557.98           837256.10       500000.00   \n",
       "6            1030727.50    1858116.40           729262.65       826222.42   \n",
       "7            1382872.15    4769175.02           888623.37       650988.56   \n",
       "8            3319633.14     584342.95           900358.85      1277070.87   \n",
       "9            1530226.11     758521.60          1331616.06      1417720.02   \n",
       "\n",
       "   Toon, Larry  Weatherby, Samuel  Whitman, Paul  Wood, Alan  \n",
       "0   2259899.50          637791.99     1562838.05   856670.45  \n",
       "1    983978.26         1043269.72     1997295.13   786498.94  \n",
       "2     68855.76          576363.95     1207541.71   608604.08  \n",
       "3   7801514.26          683077.75      363890.00   626262.49  \n",
       "4    543049.64         1662274.72      947842.79   433940.03  \n",
       "5    563242.34          542493.41      798450.78   676387.34  \n",
       "6    204838.14          128476.25     1288304.98    92353.73  \n",
       "7   3920452.28          513034.18     1154146.70   273606.92  \n",
       "8     26433.64          559862.94      363262.31   500000.00  \n",
       "9     26137.89         1128375.68      334568.10   180236.10  \n",
       "\n",
       "[10 rows x 34 columns]"
      ]
     },
     "execution_count": 8,
     "metadata": {},
     "output_type": "execute_result"
    }
   ],
   "source": [
    "actuals"
   ]
  },
  {
   "cell_type": "code",
   "execution_count": 9,
   "metadata": {},
   "outputs": [],
   "source": [
    "adjusted_values = actuals.set_index('FiscalYear').subtract(broker_target.set_index('FiscalYear'), fill_value=0)"
   ]
  },
  {
   "cell_type": "code",
   "execution_count": 10,
   "metadata": {},
   "outputs": [],
   "source": [
    "deficit = broker_target.set_index('FiscalYear').subtract(actuals.set_index('FiscalYear'), fill_value=0)"
   ]
  },
  {
   "cell_type": "code",
   "execution_count": 11,
   "metadata": {},
   "outputs": [],
   "source": [
    "deficit.to_excel('../data/deficit_values.xlsx')"
   ]
  },
  {
   "cell_type": "code",
   "execution_count": 12,
   "metadata": {},
   "outputs": [],
   "source": [
    "adjusted_values.reset_index(inplace=True)"
   ]
  },
  {
   "cell_type": "code",
   "execution_count": 13,
   "metadata": {},
   "outputs": [],
   "source": [
    "adjusted_values.to_excel('../data/adjusted_values.xlsx', index=False)"
   ]
  },
  {
   "cell_type": "code",
   "execution_count": 14,
   "metadata": {},
   "outputs": [],
   "source": [
    "adjusted_values_ts = TimeSeries.from_dataframe(adjusted_values, time_col=\"FiscalYear\")"
   ]
  },
  {
   "cell_type": "code",
   "execution_count": 15,
   "metadata": {},
   "outputs": [
    {
     "data": {
      "text/html": [
       "<div>\n",
       "<style scoped>\n",
       "    .dataframe tbody tr th:only-of-type {\n",
       "        vertical-align: middle;\n",
       "    }\n",
       "\n",
       "    .dataframe tbody tr th {\n",
       "        vertical-align: top;\n",
       "    }\n",
       "\n",
       "    .dataframe thead th {\n",
       "        text-align: right;\n",
       "    }\n",
       "</style>\n",
       "<table border=\"1\" class=\"dataframe\">\n",
       "  <thead>\n",
       "    <tr style=\"text-align: right;\">\n",
       "      <th></th>\n",
       "      <th>FiscalYear</th>\n",
       "      <th>Armstrong, Brooke</th>\n",
       "      <th>Breen, Daniel</th>\n",
       "      <th>Cosby, Russell</th>\n",
       "      <th>Curry, Ashley</th>\n",
       "      <th>Darrow, Terry</th>\n",
       "      <th>Eckert, Jeff</th>\n",
       "      <th>Esquivel, James</th>\n",
       "      <th>Forkner, Fiona</th>\n",
       "      <th>Haggar, James</th>\n",
       "      <th>...</th>\n",
       "      <th>Selner, Bradley</th>\n",
       "      <th>Sheehy, Ahnie</th>\n",
       "      <th>Shipley, Christopher</th>\n",
       "      <th>Smith, Jubal</th>\n",
       "      <th>Stout, Christopher</th>\n",
       "      <th>Taguwa, Andrew</th>\n",
       "      <th>Toon, Larry</th>\n",
       "      <th>Weatherby, Samuel</th>\n",
       "      <th>Whitman, Paul</th>\n",
       "      <th>Wood, Alan</th>\n",
       "    </tr>\n",
       "  </thead>\n",
       "  <tbody>\n",
       "    <tr>\n",
       "      <th>0</th>\n",
       "      <td>2014</td>\n",
       "      <td>1.805836e+05</td>\n",
       "      <td>-3.286018e+05</td>\n",
       "      <td>-2.296577e+05</td>\n",
       "      <td>88839.390000</td>\n",
       "      <td>-1.096616e+06</td>\n",
       "      <td>-6.499999e+05</td>\n",
       "      <td>-6.500000e+05</td>\n",
       "      <td>-9.153017e+05</td>\n",
       "      <td>-4.888645e+04</td>\n",
       "      <td>...</td>\n",
       "      <td>1.438934e+06</td>\n",
       "      <td>1.517200e+02</td>\n",
       "      <td>-4.383916e+04</td>\n",
       "      <td>5.715048e+05</td>\n",
       "      <td>-97424.250000</td>\n",
       "      <td>1.511006e+05</td>\n",
       "      <td>7.598995e+05</td>\n",
       "      <td>1.377920e+05</td>\n",
       "      <td>6.283805e+04</td>\n",
       "      <td>2.566704e+05</td>\n",
       "    </tr>\n",
       "    <tr>\n",
       "      <th>1</th>\n",
       "      <td>2015</td>\n",
       "      <td>-6.184559e+05</td>\n",
       "      <td>1.694829e+06</td>\n",
       "      <td>-1.536583e+06</td>\n",
       "      <td>185981.550000</td>\n",
       "      <td>-7.842392e+05</td>\n",
       "      <td>-6.022143e+05</td>\n",
       "      <td>-6.022144e+05</td>\n",
       "      <td>-5.010896e+05</td>\n",
       "      <td>-6.746991e+05</td>\n",
       "      <td>...</td>\n",
       "      <td>-2.901761e+05</td>\n",
       "      <td>6.787789e+04</td>\n",
       "      <td>2.339045e+05</td>\n",
       "      <td>4.859378e+06</td>\n",
       "      <td>876.090000</td>\n",
       "      <td>1.564674e+05</td>\n",
       "      <td>-5.160217e+05</td>\n",
       "      <td>4.432697e+05</td>\n",
       "      <td>4.972951e+05</td>\n",
       "      <td>3.649894e+04</td>\n",
       "    </tr>\n",
       "    <tr>\n",
       "      <th>2</th>\n",
       "      <td>2016</td>\n",
       "      <td>1.259762e+05</td>\n",
       "      <td>-7.120580e+03</td>\n",
       "      <td>3.973629e+05</td>\n",
       "      <td>1767.000000</td>\n",
       "      <td>-1.039069e+06</td>\n",
       "      <td>2.953813e+05</td>\n",
       "      <td>2.909055e+05</td>\n",
       "      <td>3.345119e+05</td>\n",
       "      <td>4.130049e+04</td>\n",
       "      <td>...</td>\n",
       "      <td>-1.230741e+05</td>\n",
       "      <td>5.853600e+04</td>\n",
       "      <td>3.087347e+05</td>\n",
       "      <td>-8.865662e+05</td>\n",
       "      <td>-60200.440000</td>\n",
       "      <td>-2.522959e+05</td>\n",
       "      <td>-1.431144e+06</td>\n",
       "      <td>-1.056970e+06</td>\n",
       "      <td>-2.924583e+05</td>\n",
       "      <td>-1.913959e+05</td>\n",
       "    </tr>\n",
       "    <tr>\n",
       "      <th>3</th>\n",
       "      <td>2017</td>\n",
       "      <td>7.765561e+05</td>\n",
       "      <td>1.046068e+06</td>\n",
       "      <td>-7.830477e+05</td>\n",
       "      <td>-132092.550000</td>\n",
       "      <td>1.882272e+05</td>\n",
       "      <td>1.246724e+04</td>\n",
       "      <td>7.640250e+03</td>\n",
       "      <td>-8.430951e+04</td>\n",
       "      <td>-9.668011e+05</td>\n",
       "      <td>...</td>\n",
       "      <td>1.355174e+05</td>\n",
       "      <td>1.335026e+05</td>\n",
       "      <td>5.751887e+05</td>\n",
       "      <td>-4.320410e+03</td>\n",
       "      <td>39281.720000</td>\n",
       "      <td>2.489303e+05</td>\n",
       "      <td>-8.484857e+05</td>\n",
       "      <td>8.307775e+04</td>\n",
       "      <td>-6.361100e+05</td>\n",
       "      <td>-1.737375e+05</td>\n",
       "    </tr>\n",
       "    <tr>\n",
       "      <th>4</th>\n",
       "      <td>2018</td>\n",
       "      <td>5.368516e+05</td>\n",
       "      <td>-6.612636e+05</td>\n",
       "      <td>3.599729e+04</td>\n",
       "      <td>106123.660000</td>\n",
       "      <td>-2.707152e+05</td>\n",
       "      <td>-1.460202e+06</td>\n",
       "      <td>-1.460548e+06</td>\n",
       "      <td>-1.548733e+06</td>\n",
       "      <td>-4.591604e+05</td>\n",
       "      <td>...</td>\n",
       "      <td>-9.120724e+05</td>\n",
       "      <td>1.947081e+05</td>\n",
       "      <td>-5.784936e+05</td>\n",
       "      <td>-7.412367e+05</td>\n",
       "      <td>-760308.330000</td>\n",
       "      <td>1.713954e+05</td>\n",
       "      <td>-1.456950e+06</td>\n",
       "      <td>8.122747e+05</td>\n",
       "      <td>-2.052157e+06</td>\n",
       "      <td>-1.966060e+06</td>\n",
       "    </tr>\n",
       "    <tr>\n",
       "      <th>5</th>\n",
       "      <td>2019</td>\n",
       "      <td>1.129872e+06</td>\n",
       "      <td>-1.026318e+04</td>\n",
       "      <td>1.115166e+06</td>\n",
       "      <td>-51530.939703</td>\n",
       "      <td>-2.050786e+05</td>\n",
       "      <td>-8.915379e+05</td>\n",
       "      <td>-1.945633e+06</td>\n",
       "      <td>-1.530289e+06</td>\n",
       "      <td>-6.407682e+05</td>\n",
       "      <td>...</td>\n",
       "      <td>1.626935e+06</td>\n",
       "      <td>3.248936e+05</td>\n",
       "      <td>-4.757091e+05</td>\n",
       "      <td>6.453255e+06</td>\n",
       "      <td>215826.965383</td>\n",
       "      <td>-6.083308e+05</td>\n",
       "      <td>-4.608450e+06</td>\n",
       "      <td>7.840206e+04</td>\n",
       "      <td>-4.314439e+05</td>\n",
       "      <td>-1.009001e+06</td>\n",
       "    </tr>\n",
       "    <tr>\n",
       "      <th>6</th>\n",
       "      <td>2020</td>\n",
       "      <td>2.742290e+05</td>\n",
       "      <td>-1.652773e+06</td>\n",
       "      <td>-1.914274e+06</td>\n",
       "      <td>-125151.279956</td>\n",
       "      <td>-7.527816e+05</td>\n",
       "      <td>-1.831980e+05</td>\n",
       "      <td>-9.337331e+05</td>\n",
       "      <td>-1.214998e+06</td>\n",
       "      <td>-4.666669e+05</td>\n",
       "      <td>...</td>\n",
       "      <td>2.520462e+06</td>\n",
       "      <td>1.596490e+05</td>\n",
       "      <td>-6.115426e+05</td>\n",
       "      <td>-5.474355e+05</td>\n",
       "      <td>-667990.228887</td>\n",
       "      <td>-1.173778e+06</td>\n",
       "      <td>-3.951619e+05</td>\n",
       "      <td>-4.215238e+05</td>\n",
       "      <td>4.883050e+05</td>\n",
       "      <td>-7.076463e+05</td>\n",
       "    </tr>\n",
       "    <tr>\n",
       "      <th>7</th>\n",
       "      <td>2021</td>\n",
       "      <td>-6.019366e+05</td>\n",
       "      <td>-1.011660e+06</td>\n",
       "      <td>2.084408e+04</td>\n",
       "      <td>-970294.970000</td>\n",
       "      <td>6.229331e+04</td>\n",
       "      <td>-4.182520e+05</td>\n",
       "      <td>4.211602e+05</td>\n",
       "      <td>-1.400899e+06</td>\n",
       "      <td>-1.089182e+06</td>\n",
       "      <td>...</td>\n",
       "      <td>1.138487e+06</td>\n",
       "      <td>-2.824693e+05</td>\n",
       "      <td>-6.171279e+05</td>\n",
       "      <td>3.204376e+06</td>\n",
       "      <td>12413.672974</td>\n",
       "      <td>-1.510295e+06</td>\n",
       "      <td>9.860882e+05</td>\n",
       "      <td>-2.214554e+04</td>\n",
       "      <td>-7.453600e+05</td>\n",
       "      <td>-2.294243e+06</td>\n",
       "    </tr>\n",
       "    <tr>\n",
       "      <th>8</th>\n",
       "      <td>2022</td>\n",
       "      <td>-1.495171e+06</td>\n",
       "      <td>-1.046829e+06</td>\n",
       "      <td>-9.782690e+05</td>\n",
       "      <td>-532388.520000</td>\n",
       "      <td>-7.420482e+04</td>\n",
       "      <td>-5.289000e+05</td>\n",
       "      <td>-5.580738e+05</td>\n",
       "      <td>-1.418313e+06</td>\n",
       "      <td>6.080871e+04</td>\n",
       "      <td>...</td>\n",
       "      <td>1.816427e+06</td>\n",
       "      <td>-4.110277e+05</td>\n",
       "      <td>2.054633e+06</td>\n",
       "      <td>-9.556571e+05</td>\n",
       "      <td>-359641.150000</td>\n",
       "      <td>-7.332888e+05</td>\n",
       "      <td>-2.885264e+06</td>\n",
       "      <td>-2.094642e+04</td>\n",
       "      <td>-1.273635e+06</td>\n",
       "      <td>-1.196021e+06</td>\n",
       "    </tr>\n",
       "    <tr>\n",
       "      <th>9</th>\n",
       "      <td>2023</td>\n",
       "      <td>-1.708113e+06</td>\n",
       "      <td>-1.112992e+06</td>\n",
       "      <td>-1.213937e+06</td>\n",
       "      <td>-767776.710000</td>\n",
       "      <td>-4.515333e+05</td>\n",
       "      <td>-3.357829e+04</td>\n",
       "      <td>-1.193051e+06</td>\n",
       "      <td>-5.907277e+05</td>\n",
       "      <td>9.274231e+05</td>\n",
       "      <td>...</td>\n",
       "      <td>1.534348e+05</td>\n",
       "      <td>-1.140487e+06</td>\n",
       "      <td>-4.477389e+04</td>\n",
       "      <td>-1.401478e+06</td>\n",
       "      <td>516485.020421</td>\n",
       "      <td>4.627200e+05</td>\n",
       "      <td>-6.138621e+05</td>\n",
       "      <td>1.733757e+05</td>\n",
       "      <td>-6.204319e+05</td>\n",
       "      <td>-7.747639e+05</td>\n",
       "    </tr>\n",
       "  </tbody>\n",
       "</table>\n",
       "<p>10 rows × 34 columns</p>\n",
       "</div>"
      ],
      "text/plain": [
       "   FiscalYear  Armstrong, Brooke  Breen, Daniel  Cosby, Russell  \\\n",
       "0        2014       1.805836e+05  -3.286018e+05   -2.296577e+05   \n",
       "1        2015      -6.184559e+05   1.694829e+06   -1.536583e+06   \n",
       "2        2016       1.259762e+05  -7.120580e+03    3.973629e+05   \n",
       "3        2017       7.765561e+05   1.046068e+06   -7.830477e+05   \n",
       "4        2018       5.368516e+05  -6.612636e+05    3.599729e+04   \n",
       "5        2019       1.129872e+06  -1.026318e+04    1.115166e+06   \n",
       "6        2020       2.742290e+05  -1.652773e+06   -1.914274e+06   \n",
       "7        2021      -6.019366e+05  -1.011660e+06    2.084408e+04   \n",
       "8        2022      -1.495171e+06  -1.046829e+06   -9.782690e+05   \n",
       "9        2023      -1.708113e+06  -1.112992e+06   -1.213937e+06   \n",
       "\n",
       "   Curry, Ashley  Darrow, Terry  Eckert, Jeff  Esquivel, James  \\\n",
       "0   88839.390000  -1.096616e+06 -6.499999e+05    -6.500000e+05   \n",
       "1  185981.550000  -7.842392e+05 -6.022143e+05    -6.022144e+05   \n",
       "2    1767.000000  -1.039069e+06  2.953813e+05     2.909055e+05   \n",
       "3 -132092.550000   1.882272e+05  1.246724e+04     7.640250e+03   \n",
       "4  106123.660000  -2.707152e+05 -1.460202e+06    -1.460548e+06   \n",
       "5  -51530.939703  -2.050786e+05 -8.915379e+05    -1.945633e+06   \n",
       "6 -125151.279956  -7.527816e+05 -1.831980e+05    -9.337331e+05   \n",
       "7 -970294.970000   6.229331e+04 -4.182520e+05     4.211602e+05   \n",
       "8 -532388.520000  -7.420482e+04 -5.289000e+05    -5.580738e+05   \n",
       "9 -767776.710000  -4.515333e+05 -3.357829e+04    -1.193051e+06   \n",
       "\n",
       "   Forkner, Fiona  Haggar, James  ...  Selner, Bradley  Sheehy, Ahnie  \\\n",
       "0   -9.153017e+05  -4.888645e+04  ...     1.438934e+06   1.517200e+02   \n",
       "1   -5.010896e+05  -6.746991e+05  ...    -2.901761e+05   6.787789e+04   \n",
       "2    3.345119e+05   4.130049e+04  ...    -1.230741e+05   5.853600e+04   \n",
       "3   -8.430951e+04  -9.668011e+05  ...     1.355174e+05   1.335026e+05   \n",
       "4   -1.548733e+06  -4.591604e+05  ...    -9.120724e+05   1.947081e+05   \n",
       "5   -1.530289e+06  -6.407682e+05  ...     1.626935e+06   3.248936e+05   \n",
       "6   -1.214998e+06  -4.666669e+05  ...     2.520462e+06   1.596490e+05   \n",
       "7   -1.400899e+06  -1.089182e+06  ...     1.138487e+06  -2.824693e+05   \n",
       "8   -1.418313e+06   6.080871e+04  ...     1.816427e+06  -4.110277e+05   \n",
       "9   -5.907277e+05   9.274231e+05  ...     1.534348e+05  -1.140487e+06   \n",
       "\n",
       "   Shipley, Christopher  Smith, Jubal  Stout, Christopher  Taguwa, Andrew  \\\n",
       "0         -4.383916e+04  5.715048e+05       -97424.250000    1.511006e+05   \n",
       "1          2.339045e+05  4.859378e+06          876.090000    1.564674e+05   \n",
       "2          3.087347e+05 -8.865662e+05       -60200.440000   -2.522959e+05   \n",
       "3          5.751887e+05 -4.320410e+03        39281.720000    2.489303e+05   \n",
       "4         -5.784936e+05 -7.412367e+05      -760308.330000    1.713954e+05   \n",
       "5         -4.757091e+05  6.453255e+06       215826.965383   -6.083308e+05   \n",
       "6         -6.115426e+05 -5.474355e+05      -667990.228887   -1.173778e+06   \n",
       "7         -6.171279e+05  3.204376e+06        12413.672974   -1.510295e+06   \n",
       "8          2.054633e+06 -9.556571e+05      -359641.150000   -7.332888e+05   \n",
       "9         -4.477389e+04 -1.401478e+06       516485.020421    4.627200e+05   \n",
       "\n",
       "    Toon, Larry  Weatherby, Samuel  Whitman, Paul    Wood, Alan  \n",
       "0  7.598995e+05       1.377920e+05   6.283805e+04  2.566704e+05  \n",
       "1 -5.160217e+05       4.432697e+05   4.972951e+05  3.649894e+04  \n",
       "2 -1.431144e+06      -1.056970e+06  -2.924583e+05 -1.913959e+05  \n",
       "3 -8.484857e+05       8.307775e+04  -6.361100e+05 -1.737375e+05  \n",
       "4 -1.456950e+06       8.122747e+05  -2.052157e+06 -1.966060e+06  \n",
       "5 -4.608450e+06       7.840206e+04  -4.314439e+05 -1.009001e+06  \n",
       "6 -3.951619e+05      -4.215238e+05   4.883050e+05 -7.076463e+05  \n",
       "7  9.860882e+05      -2.214554e+04  -7.453600e+05 -2.294243e+06  \n",
       "8 -2.885264e+06      -2.094642e+04  -1.273635e+06 -1.196021e+06  \n",
       "9 -6.138621e+05       1.733757e+05  -6.204319e+05 -7.747639e+05  \n",
       "\n",
       "[10 rows x 34 columns]"
      ]
     },
     "execution_count": 15,
     "metadata": {},
     "output_type": "execute_result"
    }
   ],
   "source": [
    "adjusted_values"
   ]
  },
  {
   "cell_type": "code",
   "execution_count": 16,
   "metadata": {},
   "outputs": [
    {
     "name": "stderr",
     "output_type": "stream",
     "text": [
      "/home/codespace/.local/lib/python3.12/site-packages/tqdm/auto.py:21: TqdmWarning: IProgress not found. Please update jupyter and ipywidgets. See https://ipywidgets.readthedocs.io/en/stable/user_install.html\n",
      "  from .autonotebook import tqdm as notebook_tqdm\n"
     ]
    }
   ],
   "source": [
    "from darts.models import (\n",
    "    RNNModel,\n",
    "    BlockRNNModel, RandomForest)\n",
    "model_name = \"RNN_test\"\n",
    "model_futcov = RNNModel(\n",
    "    model=\"LSTM\",\n",
    "    hidden_dim=6,\n",
    "    batch_size=2,\n",
    "    n_epochs=10,\n",
    "    random_state=0,\n",
    "    training_length=3,\n",
    "    input_chunk_length=2,\n",
    "    model_name=model_name,\n",
    "    save_checkpoints=True,  # store model states: latest and best performing of validation set\n",
    "    force_reset=True\n",
    ")\n",
    "\n"
   ]
  },
  {
   "cell_type": "code",
   "execution_count": 17,
   "metadata": {},
   "outputs": [
    {
     "data": {
      "text/plain": [
       "<bound method TimeSeries.data_array of <TimeSeries (DataArray) (FiscalYear: 1, component: 1, sample: 1)> Size: 8B\n",
       "array([[[-440317.65]]])\n",
       "Coordinates:\n",
       "  * component   (component) object 8B 'Kackley, Kelley'\n",
       "  * FiscalYear  (FiscalYear) int64 8B 2014\n",
       "Dimensions without coordinates: sample\n",
       "Attributes:\n",
       "    static_covariates:  None\n",
       "    hierarchy:          None>"
      ]
     },
     "execution_count": 17,
     "metadata": {},
     "output_type": "execute_result"
    }
   ],
   "source": [
    "adjusted_values_ts[name][0].data_array"
   ]
  },
  {
   "cell_type": "code",
   "execution_count": 18,
   "metadata": {},
   "outputs": [
    {
     "name": "stderr",
     "output_type": "stream",
     "text": [
      "ValueError: The `future_covariates` are not long enough. Given horizon `n=1`, `min(lags_future_covariates)=0`, `max(lags_future_covariates)=0` and `output_chunk_length=1`, the `future_covariates` have to range from 2024 until 2024 (inclusive), but they only range from 2014 until 2023.\n"
     ]
    },
    {
     "ename": "ValueError",
     "evalue": "The `future_covariates` are not long enough. Given horizon `n=1`, `min(lags_future_covariates)=0`, `max(lags_future_covariates)=0` and `output_chunk_length=1`, the `future_covariates` have to range from 2024 until 2024 (inclusive), but they only range from 2014 until 2023.",
     "output_type": "error",
     "traceback": [
      "\u001b[0;31m---------------------------------------------------------------------------\u001b[0m",
      "\u001b[0;31mValueError\u001b[0m                                Traceback (most recent call last)",
      "Cell \u001b[0;32mIn[18], line 3\u001b[0m\n\u001b[1;32m      1\u001b[0m rf \u001b[38;5;241m=\u001b[39m RandomForest(lags\u001b[38;5;241m=\u001b[39m\u001b[38;5;241m1\u001b[39m, n_estimators\u001b[38;5;241m=\u001b[39m\u001b[38;5;241m10\u001b[39m, lags_future_covariates\u001b[38;5;241m=\u001b[39m[\u001b[38;5;241m0\u001b[39m])\n\u001b[1;32m      2\u001b[0m rf\u001b[38;5;241m.\u001b[39mfit(actuals_series[name], future_covariates \u001b[38;5;241m=\u001b[39m adjusted_values_ts[name])\n\u001b[0;32m----> 3\u001b[0m prediction_rf \u001b[38;5;241m=\u001b[39m \u001b[43mrf\u001b[49m\u001b[38;5;241;43m.\u001b[39;49m\u001b[43mpredict\u001b[49m\u001b[43m(\u001b[49m\u001b[38;5;241;43m1\u001b[39;49m\u001b[43m,\u001b[49m\u001b[43m)\u001b[49m\n",
      "File \u001b[0;32m~/.local/lib/python3.12/site-packages/darts/models/forecasting/regression_model.py:1082\u001b[0m, in \u001b[0;36mRegressionModel.predict\u001b[0;34m(self, n, series, past_covariates, future_covariates, num_samples, verbose, predict_likelihood_parameters, show_warnings, **kwargs)\u001b[0m\n\u001b[1;32m   1076\u001b[0m \u001b[38;5;28;01mif\u001b[39;00m \u001b[38;5;129;01mnot\u001b[39;00m (cov\u001b[38;5;241m.\u001b[39mstart_time() \u001b[38;5;241m<\u001b[39m\u001b[38;5;241m=\u001b[39m start_ts \u001b[38;5;129;01mand\u001b[39;00m cov\u001b[38;5;241m.\u001b[39mend_time() \u001b[38;5;241m>\u001b[39m\u001b[38;5;241m=\u001b[39m end_ts):\n\u001b[1;32m   1077\u001b[0m     index_text \u001b[38;5;241m=\u001b[39m (\n\u001b[1;32m   1078\u001b[0m         \u001b[38;5;124m\"\u001b[39m\u001b[38;5;124m \u001b[39m\u001b[38;5;124m\"\u001b[39m\n\u001b[1;32m   1079\u001b[0m         \u001b[38;5;28;01mif\u001b[39;00m called_with_single_series\n\u001b[1;32m   1080\u001b[0m         \u001b[38;5;28;01melse\u001b[39;00m \u001b[38;5;124mf\u001b[39m\u001b[38;5;124m\"\u001b[39m\u001b[38;5;124m at list/sequence index \u001b[39m\u001b[38;5;132;01m{\u001b[39;00midx\u001b[38;5;132;01m}\u001b[39;00m\u001b[38;5;124m \u001b[39m\u001b[38;5;124m\"\u001b[39m\n\u001b[1;32m   1081\u001b[0m     )\n\u001b[0;32m-> 1082\u001b[0m     \u001b[43mraise_log\u001b[49m\u001b[43m(\u001b[49m\n\u001b[1;32m   1083\u001b[0m \u001b[43m        \u001b[49m\u001b[38;5;167;43;01mValueError\u001b[39;49;00m\u001b[43m(\u001b[49m\n\u001b[1;32m   1084\u001b[0m \u001b[43m            \u001b[49m\u001b[38;5;124;43mf\u001b[39;49m\u001b[38;5;124;43m\"\u001b[39;49m\u001b[38;5;124;43mThe `\u001b[39;49m\u001b[38;5;132;43;01m{\u001b[39;49;00m\u001b[43mcov_type\u001b[49m\u001b[38;5;132;43;01m}\u001b[39;49;00m\u001b[38;5;124;43m_covariates`\u001b[39;49m\u001b[38;5;132;43;01m{\u001b[39;49;00m\u001b[43mindex_text\u001b[49m\u001b[38;5;132;43;01m}\u001b[39;49;00m\u001b[38;5;124;43mare not long enough. \u001b[39;49m\u001b[38;5;124;43m\"\u001b[39;49m\n\u001b[1;32m   1085\u001b[0m \u001b[43m            \u001b[49m\u001b[38;5;124;43mf\u001b[39;49m\u001b[38;5;124;43m\"\u001b[39;49m\u001b[38;5;124;43mGiven horizon `n=\u001b[39;49m\u001b[38;5;132;43;01m{\u001b[39;49;00m\u001b[43mn\u001b[49m\u001b[38;5;132;43;01m}\u001b[39;49;00m\u001b[38;5;124;43m`, `min(lags_\u001b[39;49m\u001b[38;5;132;43;01m{\u001b[39;49;00m\u001b[43mcov_type\u001b[49m\u001b[38;5;132;43;01m}\u001b[39;49;00m\u001b[38;5;124;43m_covariates)=\u001b[39;49m\u001b[38;5;132;43;01m{\u001b[39;49;00m\u001b[43mlags\u001b[49m\u001b[43m[\u001b[49m\u001b[38;5;241;43m0\u001b[39;49m\u001b[43m]\u001b[49m\u001b[38;5;132;43;01m}\u001b[39;49;00m\u001b[38;5;124;43m`, \u001b[39;49m\u001b[38;5;124;43m\"\u001b[39;49m\n\u001b[1;32m   1086\u001b[0m \u001b[43m            \u001b[49m\u001b[38;5;124;43mf\u001b[39;49m\u001b[38;5;124;43m\"\u001b[39;49m\u001b[38;5;124;43m`max(lags_\u001b[39;49m\u001b[38;5;132;43;01m{\u001b[39;49;00m\u001b[43mcov_type\u001b[49m\u001b[38;5;132;43;01m}\u001b[39;49;00m\u001b[38;5;124;43m_covariates)=\u001b[39;49m\u001b[38;5;132;43;01m{\u001b[39;49;00m\u001b[43mlags\u001b[49m\u001b[43m[\u001b[49m\u001b[38;5;241;43m-\u001b[39;49m\u001b[38;5;241;43m1\u001b[39;49m\u001b[43m]\u001b[49m\u001b[38;5;132;43;01m}\u001b[39;49;00m\u001b[38;5;124;43m` and \u001b[39;49m\u001b[38;5;124;43m\"\u001b[39;49m\n\u001b[1;32m   1087\u001b[0m \u001b[43m            \u001b[49m\u001b[38;5;124;43mf\u001b[39;49m\u001b[38;5;124;43m\"\u001b[39;49m\u001b[38;5;124;43m`output_chunk_length=\u001b[39;49m\u001b[38;5;132;43;01m{\u001b[39;49;00m\u001b[38;5;28;43mself\u001b[39;49m\u001b[38;5;241;43m.\u001b[39;49m\u001b[43moutput_chunk_length\u001b[49m\u001b[38;5;132;43;01m}\u001b[39;49;00m\u001b[38;5;124;43m`, the `\u001b[39;49m\u001b[38;5;132;43;01m{\u001b[39;49;00m\u001b[43mcov_type\u001b[49m\u001b[38;5;132;43;01m}\u001b[39;49;00m\u001b[38;5;124;43m_covariates` have to \u001b[39;49m\u001b[38;5;124;43m\"\u001b[39;49m\n\u001b[1;32m   1088\u001b[0m \u001b[43m            \u001b[49m\u001b[38;5;124;43mf\u001b[39;49m\u001b[38;5;124;43m\"\u001b[39;49m\u001b[38;5;124;43mrange from \u001b[39;49m\u001b[38;5;132;43;01m{\u001b[39;49;00m\u001b[43mstart_ts\u001b[49m\u001b[38;5;132;43;01m}\u001b[39;49;00m\u001b[38;5;124;43m until \u001b[39;49m\u001b[38;5;132;43;01m{\u001b[39;49;00m\u001b[43mend_ts\u001b[49m\u001b[38;5;132;43;01m}\u001b[39;49;00m\u001b[38;5;124;43m (inclusive), but they only range from \u001b[39;49m\u001b[38;5;124;43m\"\u001b[39;49m\n\u001b[1;32m   1089\u001b[0m \u001b[43m            \u001b[49m\u001b[38;5;124;43mf\u001b[39;49m\u001b[38;5;124;43m\"\u001b[39;49m\u001b[38;5;132;43;01m{\u001b[39;49;00m\u001b[43mcov\u001b[49m\u001b[38;5;241;43m.\u001b[39;49m\u001b[43mstart_time\u001b[49m\u001b[43m(\u001b[49m\u001b[43m)\u001b[49m\u001b[38;5;132;43;01m}\u001b[39;49;00m\u001b[38;5;124;43m until \u001b[39;49m\u001b[38;5;132;43;01m{\u001b[39;49;00m\u001b[43mcov\u001b[49m\u001b[38;5;241;43m.\u001b[39;49m\u001b[43mend_time\u001b[49m\u001b[43m(\u001b[49m\u001b[43m)\u001b[49m\u001b[38;5;132;43;01m}\u001b[39;49;00m\u001b[38;5;124;43m.\u001b[39;49m\u001b[38;5;124;43m\"\u001b[39;49m\n\u001b[1;32m   1090\u001b[0m \u001b[43m        \u001b[49m\u001b[43m)\u001b[49m\u001b[43m,\u001b[49m\n\u001b[1;32m   1091\u001b[0m \u001b[43m        \u001b[49m\u001b[43mlogger\u001b[49m\u001b[38;5;241;43m=\u001b[39;49m\u001b[43mlogger\u001b[49m\u001b[43m,\u001b[49m\n\u001b[1;32m   1092\u001b[0m \u001b[43m    \u001b[49m\u001b[43m)\u001b[49m\n\u001b[1;32m   1094\u001b[0m \u001b[38;5;66;03m# use slice() instead of [] as for integer-indexed series [] does not act on time index\u001b[39;00m\n\u001b[1;32m   1095\u001b[0m \u001b[38;5;66;03m# for range indexes, we make the end timestamp inclusive here\u001b[39;00m\n\u001b[1;32m   1096\u001b[0m end_ts \u001b[38;5;241m=\u001b[39m end_ts \u001b[38;5;241m+\u001b[39m ts\u001b[38;5;241m.\u001b[39mfreq \u001b[38;5;28;01mif\u001b[39;00m ts\u001b[38;5;241m.\u001b[39mhas_range_index \u001b[38;5;28;01melse\u001b[39;00m end_ts\n",
      "File \u001b[0;32m~/.local/lib/python3.12/site-packages/darts/logging.py:132\u001b[0m, in \u001b[0;36mraise_log\u001b[0;34m(exception, logger)\u001b[0m\n\u001b[1;32m    129\u001b[0m message \u001b[38;5;241m=\u001b[39m \u001b[38;5;28mstr\u001b[39m(exception)\n\u001b[1;32m    130\u001b[0m logger\u001b[38;5;241m.\u001b[39merror(exception_type \u001b[38;5;241m+\u001b[39m \u001b[38;5;124m\"\u001b[39m\u001b[38;5;124m: \u001b[39m\u001b[38;5;124m\"\u001b[39m \u001b[38;5;241m+\u001b[39m message)\n\u001b[0;32m--> 132\u001b[0m \u001b[38;5;28;01mraise\u001b[39;00m exception\n",
      "\u001b[0;31mValueError\u001b[0m: The `future_covariates` are not long enough. Given horizon `n=1`, `min(lags_future_covariates)=0`, `max(lags_future_covariates)=0` and `output_chunk_length=1`, the `future_covariates` have to range from 2024 until 2024 (inclusive), but they only range from 2014 until 2023."
     ]
    }
   ],
   "source": [
    "rf = RandomForest(lags=1, n_estimators=10, lags_future_covariates=[0])\n",
    "rf.fit(actuals_series[name], future_covariates = adjusted_values_ts[name])\n",
    "prediction_rf = rf.predict(1,)"
   ]
  },
  {
   "cell_type": "code",
   "execution_count": null,
   "metadata": {},
   "outputs": [
    {
     "data": {
      "text/html": [
       "<div><svg style=\"position: absolute; width: 0; height: 0; overflow: hidden\">\n",
       "<defs>\n",
       "<symbol id=\"icon-database\" viewBox=\"0 0 32 32\">\n",
       "<path d=\"M16 0c-8.837 0-16 2.239-16 5v4c0 2.761 7.163 5 16 5s16-2.239 16-5v-4c0-2.761-7.163-5-16-5z\"></path>\n",
       "<path d=\"M16 17c-8.837 0-16-2.239-16-5v6c0 2.761 7.163 5 16 5s16-2.239 16-5v-6c0 2.761-7.163 5-16 5z\"></path>\n",
       "<path d=\"M16 26c-8.837 0-16-2.239-16-5v6c0 2.761 7.163 5 16 5s16-2.239 16-5v-6c0 2.761-7.163 5-16 5z\"></path>\n",
       "</symbol>\n",
       "<symbol id=\"icon-file-text2\" viewBox=\"0 0 32 32\">\n",
       "<path d=\"M28.681 7.159c-0.694-0.947-1.662-2.053-2.724-3.116s-2.169-2.030-3.116-2.724c-1.612-1.182-2.393-1.319-2.841-1.319h-15.5c-1.378 0-2.5 1.121-2.5 2.5v27c0 1.378 1.122 2.5 2.5 2.5h23c1.378 0 2.5-1.122 2.5-2.5v-19.5c0-0.448-0.137-1.23-1.319-2.841zM24.543 5.457c0.959 0.959 1.712 1.825 2.268 2.543h-4.811v-4.811c0.718 0.556 1.584 1.309 2.543 2.268zM28 29.5c0 0.271-0.229 0.5-0.5 0.5h-23c-0.271 0-0.5-0.229-0.5-0.5v-27c0-0.271 0.229-0.5 0.5-0.5 0 0 15.499-0 15.5 0v7c0 0.552 0.448 1 1 1h7v19.5z\"></path>\n",
       "<path d=\"M23 26h-14c-0.552 0-1-0.448-1-1s0.448-1 1-1h14c0.552 0 1 0.448 1 1s-0.448 1-1 1z\"></path>\n",
       "<path d=\"M23 22h-14c-0.552 0-1-0.448-1-1s0.448-1 1-1h14c0.552 0 1 0.448 1 1s-0.448 1-1 1z\"></path>\n",
       "<path d=\"M23 18h-14c-0.552 0-1-0.448-1-1s0.448-1 1-1h14c0.552 0 1 0.448 1 1s-0.448 1-1 1z\"></path>\n",
       "</symbol>\n",
       "</defs>\n",
       "</svg>\n",
       "<style>/* CSS stylesheet for displaying xarray objects in jupyterlab.\n",
       " *\n",
       " */\n",
       "\n",
       ":root {\n",
       "  --xr-font-color0: var(--jp-content-font-color0, rgba(0, 0, 0, 1));\n",
       "  --xr-font-color2: var(--jp-content-font-color2, rgba(0, 0, 0, 0.54));\n",
       "  --xr-font-color3: var(--jp-content-font-color3, rgba(0, 0, 0, 0.38));\n",
       "  --xr-border-color: var(--jp-border-color2, #e0e0e0);\n",
       "  --xr-disabled-color: var(--jp-layout-color3, #bdbdbd);\n",
       "  --xr-background-color: var(--jp-layout-color0, white);\n",
       "  --xr-background-color-row-even: var(--jp-layout-color1, white);\n",
       "  --xr-background-color-row-odd: var(--jp-layout-color2, #eeeeee);\n",
       "}\n",
       "\n",
       "html[theme=dark],\n",
       "html[data-theme=dark],\n",
       "body[data-theme=dark],\n",
       "body.vscode-dark {\n",
       "  --xr-font-color0: rgba(255, 255, 255, 1);\n",
       "  --xr-font-color2: rgba(255, 255, 255, 0.54);\n",
       "  --xr-font-color3: rgba(255, 255, 255, 0.38);\n",
       "  --xr-border-color: #1F1F1F;\n",
       "  --xr-disabled-color: #515151;\n",
       "  --xr-background-color: #111111;\n",
       "  --xr-background-color-row-even: #111111;\n",
       "  --xr-background-color-row-odd: #313131;\n",
       "}\n",
       "\n",
       ".xr-wrap {\n",
       "  display: block !important;\n",
       "  min-width: 300px;\n",
       "  max-width: 700px;\n",
       "}\n",
       "\n",
       ".xr-text-repr-fallback {\n",
       "  /* fallback to plain text repr when CSS is not injected (untrusted notebook) */\n",
       "  display: none;\n",
       "}\n",
       "\n",
       ".xr-header {\n",
       "  padding-top: 6px;\n",
       "  padding-bottom: 6px;\n",
       "  margin-bottom: 4px;\n",
       "  border-bottom: solid 1px var(--xr-border-color);\n",
       "}\n",
       "\n",
       ".xr-header > div,\n",
       ".xr-header > ul {\n",
       "  display: inline;\n",
       "  margin-top: 0;\n",
       "  margin-bottom: 0;\n",
       "}\n",
       "\n",
       ".xr-obj-type,\n",
       ".xr-array-name {\n",
       "  margin-left: 2px;\n",
       "  margin-right: 10px;\n",
       "}\n",
       "\n",
       ".xr-obj-type {\n",
       "  color: var(--xr-font-color2);\n",
       "}\n",
       "\n",
       ".xr-sections {\n",
       "  padding-left: 0 !important;\n",
       "  display: grid;\n",
       "  grid-template-columns: 150px auto auto 1fr 20px 20px;\n",
       "}\n",
       "\n",
       ".xr-section-item {\n",
       "  display: contents;\n",
       "}\n",
       "\n",
       ".xr-section-item input {\n",
       "  display: none;\n",
       "}\n",
       "\n",
       ".xr-section-item input + label {\n",
       "  color: var(--xr-disabled-color);\n",
       "}\n",
       "\n",
       ".xr-section-item input:enabled + label {\n",
       "  cursor: pointer;\n",
       "  color: var(--xr-font-color2);\n",
       "}\n",
       "\n",
       ".xr-section-item input:enabled + label:hover {\n",
       "  color: var(--xr-font-color0);\n",
       "}\n",
       "\n",
       ".xr-section-summary {\n",
       "  grid-column: 1;\n",
       "  color: var(--xr-font-color2);\n",
       "  font-weight: 500;\n",
       "}\n",
       "\n",
       ".xr-section-summary > span {\n",
       "  display: inline-block;\n",
       "  padding-left: 0.5em;\n",
       "}\n",
       "\n",
       ".xr-section-summary-in:disabled + label {\n",
       "  color: var(--xr-font-color2);\n",
       "}\n",
       "\n",
       ".xr-section-summary-in + label:before {\n",
       "  display: inline-block;\n",
       "  content: '►';\n",
       "  font-size: 11px;\n",
       "  width: 15px;\n",
       "  text-align: center;\n",
       "}\n",
       "\n",
       ".xr-section-summary-in:disabled + label:before {\n",
       "  color: var(--xr-disabled-color);\n",
       "}\n",
       "\n",
       ".xr-section-summary-in:checked + label:before {\n",
       "  content: '▼';\n",
       "}\n",
       "\n",
       ".xr-section-summary-in:checked + label > span {\n",
       "  display: none;\n",
       "}\n",
       "\n",
       ".xr-section-summary,\n",
       ".xr-section-inline-details {\n",
       "  padding-top: 4px;\n",
       "  padding-bottom: 4px;\n",
       "}\n",
       "\n",
       ".xr-section-inline-details {\n",
       "  grid-column: 2 / -1;\n",
       "}\n",
       "\n",
       ".xr-section-details {\n",
       "  display: none;\n",
       "  grid-column: 1 / -1;\n",
       "  margin-bottom: 5px;\n",
       "}\n",
       "\n",
       ".xr-section-summary-in:checked ~ .xr-section-details {\n",
       "  display: contents;\n",
       "}\n",
       "\n",
       ".xr-array-wrap {\n",
       "  grid-column: 1 / -1;\n",
       "  display: grid;\n",
       "  grid-template-columns: 20px auto;\n",
       "}\n",
       "\n",
       ".xr-array-wrap > label {\n",
       "  grid-column: 1;\n",
       "  vertical-align: top;\n",
       "}\n",
       "\n",
       ".xr-preview {\n",
       "  color: var(--xr-font-color3);\n",
       "}\n",
       "\n",
       ".xr-array-preview,\n",
       ".xr-array-data {\n",
       "  padding: 0 5px !important;\n",
       "  grid-column: 2;\n",
       "}\n",
       "\n",
       ".xr-array-data,\n",
       ".xr-array-in:checked ~ .xr-array-preview {\n",
       "  display: none;\n",
       "}\n",
       "\n",
       ".xr-array-in:checked ~ .xr-array-data,\n",
       ".xr-array-preview {\n",
       "  display: inline-block;\n",
       "}\n",
       "\n",
       ".xr-dim-list {\n",
       "  display: inline-block !important;\n",
       "  list-style: none;\n",
       "  padding: 0 !important;\n",
       "  margin: 0;\n",
       "}\n",
       "\n",
       ".xr-dim-list li {\n",
       "  display: inline-block;\n",
       "  padding: 0;\n",
       "  margin: 0;\n",
       "}\n",
       "\n",
       ".xr-dim-list:before {\n",
       "  content: '(';\n",
       "}\n",
       "\n",
       ".xr-dim-list:after {\n",
       "  content: ')';\n",
       "}\n",
       "\n",
       ".xr-dim-list li:not(:last-child):after {\n",
       "  content: ',';\n",
       "  padding-right: 5px;\n",
       "}\n",
       "\n",
       ".xr-has-index {\n",
       "  font-weight: bold;\n",
       "}\n",
       "\n",
       ".xr-var-list,\n",
       ".xr-var-item {\n",
       "  display: contents;\n",
       "}\n",
       "\n",
       ".xr-var-item > div,\n",
       ".xr-var-item label,\n",
       ".xr-var-item > .xr-var-name span {\n",
       "  background-color: var(--xr-background-color-row-even);\n",
       "  margin-bottom: 0;\n",
       "}\n",
       "\n",
       ".xr-var-item > .xr-var-name:hover span {\n",
       "  padding-right: 5px;\n",
       "}\n",
       "\n",
       ".xr-var-list > li:nth-child(odd) > div,\n",
       ".xr-var-list > li:nth-child(odd) > label,\n",
       ".xr-var-list > li:nth-child(odd) > .xr-var-name span {\n",
       "  background-color: var(--xr-background-color-row-odd);\n",
       "}\n",
       "\n",
       ".xr-var-name {\n",
       "  grid-column: 1;\n",
       "}\n",
       "\n",
       ".xr-var-dims {\n",
       "  grid-column: 2;\n",
       "}\n",
       "\n",
       ".xr-var-dtype {\n",
       "  grid-column: 3;\n",
       "  text-align: right;\n",
       "  color: var(--xr-font-color2);\n",
       "}\n",
       "\n",
       ".xr-var-preview {\n",
       "  grid-column: 4;\n",
       "}\n",
       "\n",
       ".xr-index-preview {\n",
       "  grid-column: 2 / 5;\n",
       "  color: var(--xr-font-color2);\n",
       "}\n",
       "\n",
       ".xr-var-name,\n",
       ".xr-var-dims,\n",
       ".xr-var-dtype,\n",
       ".xr-preview,\n",
       ".xr-attrs dt {\n",
       "  white-space: nowrap;\n",
       "  overflow: hidden;\n",
       "  text-overflow: ellipsis;\n",
       "  padding-right: 10px;\n",
       "}\n",
       "\n",
       ".xr-var-name:hover,\n",
       ".xr-var-dims:hover,\n",
       ".xr-var-dtype:hover,\n",
       ".xr-attrs dt:hover {\n",
       "  overflow: visible;\n",
       "  width: auto;\n",
       "  z-index: 1;\n",
       "}\n",
       "\n",
       ".xr-var-attrs,\n",
       ".xr-var-data,\n",
       ".xr-index-data {\n",
       "  display: none;\n",
       "  background-color: var(--xr-background-color) !important;\n",
       "  padding-bottom: 5px !important;\n",
       "}\n",
       "\n",
       ".xr-var-attrs-in:checked ~ .xr-var-attrs,\n",
       ".xr-var-data-in:checked ~ .xr-var-data,\n",
       ".xr-index-data-in:checked ~ .xr-index-data {\n",
       "  display: block;\n",
       "}\n",
       "\n",
       ".xr-var-data > table {\n",
       "  float: right;\n",
       "}\n",
       "\n",
       ".xr-var-name span,\n",
       ".xr-var-data,\n",
       ".xr-index-name div,\n",
       ".xr-index-data,\n",
       ".xr-attrs {\n",
       "  padding-left: 25px !important;\n",
       "}\n",
       "\n",
       ".xr-attrs,\n",
       ".xr-var-attrs,\n",
       ".xr-var-data,\n",
       ".xr-index-data {\n",
       "  grid-column: 1 / -1;\n",
       "}\n",
       "\n",
       "dl.xr-attrs {\n",
       "  padding: 0;\n",
       "  margin: 0;\n",
       "  display: grid;\n",
       "  grid-template-columns: 125px auto;\n",
       "}\n",
       "\n",
       ".xr-attrs dt,\n",
       ".xr-attrs dd {\n",
       "  padding: 0;\n",
       "  margin: 0;\n",
       "  float: left;\n",
       "  padding-right: 10px;\n",
       "  width: auto;\n",
       "}\n",
       "\n",
       ".xr-attrs dt {\n",
       "  font-weight: normal;\n",
       "  grid-column: 1;\n",
       "}\n",
       "\n",
       ".xr-attrs dt:hover span {\n",
       "  display: inline-block;\n",
       "  background: var(--xr-background-color);\n",
       "  padding-right: 10px;\n",
       "}\n",
       "\n",
       ".xr-attrs dd {\n",
       "  grid-column: 2;\n",
       "  white-space: pre-wrap;\n",
       "  word-break: break-all;\n",
       "}\n",
       "\n",
       ".xr-icon-database,\n",
       ".xr-icon-file-text2,\n",
       ".xr-no-icon {\n",
       "  display: inline-block;\n",
       "  vertical-align: middle;\n",
       "  width: 1em;\n",
       "  height: 1.5em !important;\n",
       "  stroke-width: 0;\n",
       "  stroke: currentColor;\n",
       "  fill: currentColor;\n",
       "}\n",
       "</style><pre class='xr-text-repr-fallback'>&lt;TimeSeries (DataArray) (FiscalYear: 1, component: 1, sample: 1)&gt; Size: 8B\n",
       "array([[[2083509.728]]])\n",
       "Coordinates:\n",
       "  * FiscalYear  (FiscalYear) int64 8B 2024\n",
       "  * component   (component) object 8B &#x27;Armstrong, Brooke&#x27;\n",
       "Dimensions without coordinates: sample\n",
       "Attributes:\n",
       "    static_covariates:  None\n",
       "    hierarchy:          None</pre><div class='xr-wrap' style='display:none'><div class='xr-header'><div class='xr-obj-type'>TimeSeries (DataArray)</div><div class='xr-array-name'></div><ul class='xr-dim-list'><li><span class='xr-has-index'>FiscalYear</span>: 1</li><li><span class='xr-has-index'>component</span>: 1</li><li><span>sample</span>: 1</li></ul></div><ul class='xr-sections'><li class='xr-section-item'><div class='xr-array-wrap'><input id='section-eecf41bb-7a48-48fe-b48a-680839b9793c' class='xr-array-in' type='checkbox' checked><label for='section-eecf41bb-7a48-48fe-b48a-680839b9793c' title='Show/hide data repr'><svg class='icon xr-icon-database'><use xlink:href='#icon-database'></use></svg></label><div class='xr-array-preview xr-preview'><span>2.084e+06</span></div><div class='xr-array-data'><pre>array([[[2083509.728]]])</pre></div></div></li><li class='xr-section-item'><input id='section-c79e125d-8aa6-4ee1-b171-5d781300591a' class='xr-section-summary-in' type='checkbox'  checked><label for='section-c79e125d-8aa6-4ee1-b171-5d781300591a' class='xr-section-summary' >Coordinates: <span>(2)</span></label><div class='xr-section-inline-details'></div><div class='xr-section-details'><ul class='xr-var-list'><li class='xr-var-item'><div class='xr-var-name'><span class='xr-has-index'>FiscalYear</span></div><div class='xr-var-dims'>(FiscalYear)</div><div class='xr-var-dtype'>int64</div><div class='xr-var-preview xr-preview'>2024</div><input id='attrs-202bb9c1-25dc-4a92-97b6-00eb6a609b7b' class='xr-var-attrs-in' type='checkbox' disabled><label for='attrs-202bb9c1-25dc-4a92-97b6-00eb6a609b7b' title='Show/Hide attributes'><svg class='icon xr-icon-file-text2'><use xlink:href='#icon-file-text2'></use></svg></label><input id='data-47537e99-a787-4596-9a08-425ba5cc8950' class='xr-var-data-in' type='checkbox'><label for='data-47537e99-a787-4596-9a08-425ba5cc8950' title='Show/Hide data repr'><svg class='icon xr-icon-database'><use xlink:href='#icon-database'></use></svg></label><div class='xr-var-attrs'><dl class='xr-attrs'></dl></div><div class='xr-var-data'><pre>array([2024])</pre></div></li><li class='xr-var-item'><div class='xr-var-name'><span class='xr-has-index'>component</span></div><div class='xr-var-dims'>(component)</div><div class='xr-var-dtype'>object</div><div class='xr-var-preview xr-preview'>&#x27;Armstrong, Brooke&#x27;</div><input id='attrs-58802398-228e-49f5-bf8b-f8076508eabe' class='xr-var-attrs-in' type='checkbox' disabled><label for='attrs-58802398-228e-49f5-bf8b-f8076508eabe' title='Show/Hide attributes'><svg class='icon xr-icon-file-text2'><use xlink:href='#icon-file-text2'></use></svg></label><input id='data-418d78b2-be80-43a6-871c-daf8de681160' class='xr-var-data-in' type='checkbox'><label for='data-418d78b2-be80-43a6-871c-daf8de681160' title='Show/Hide data repr'><svg class='icon xr-icon-database'><use xlink:href='#icon-database'></use></svg></label><div class='xr-var-attrs'><dl class='xr-attrs'></dl></div><div class='xr-var-data'><pre>array([&#x27;Armstrong, Brooke&#x27;], dtype=object)</pre></div></li></ul></div></li><li class='xr-section-item'><input id='section-7e649feb-6333-4758-a884-99521e8d9785' class='xr-section-summary-in' type='checkbox'  ><label for='section-7e649feb-6333-4758-a884-99521e8d9785' class='xr-section-summary' >Indexes: <span>(2)</span></label><div class='xr-section-inline-details'></div><div class='xr-section-details'><ul class='xr-var-list'><li class='xr-var-item'><div class='xr-index-name'><div>FiscalYear</div></div><div class='xr-index-preview'>PandasIndex</div><div></div><input id='index-540cdc98-9552-4ca5-8e08-69bac04c47c8' class='xr-index-data-in' type='checkbox'/><label for='index-540cdc98-9552-4ca5-8e08-69bac04c47c8' title='Show/Hide index repr'><svg class='icon xr-icon-database'><use xlink:href='#icon-database'></use></svg></label><div class='xr-index-data'><pre>PandasIndex(RangeIndex(start=2024, stop=2025, step=1, name=&#x27;FiscalYear&#x27;))</pre></div></li><li class='xr-var-item'><div class='xr-index-name'><div>component</div></div><div class='xr-index-preview'>PandasIndex</div><div></div><input id='index-302d5e7e-fd4b-4594-93c3-24ca36b7850b' class='xr-index-data-in' type='checkbox'/><label for='index-302d5e7e-fd4b-4594-93c3-24ca36b7850b' title='Show/Hide index repr'><svg class='icon xr-icon-database'><use xlink:href='#icon-database'></use></svg></label><div class='xr-index-data'><pre>PandasIndex(Index([&#x27;Armstrong, Brooke&#x27;], dtype=&#x27;object&#x27;, name=&#x27;component&#x27;))</pre></div></li></ul></div></li><li class='xr-section-item'><input id='section-61e305d7-b8be-4114-ae6a-b54ed2ffbb0c' class='xr-section-summary-in' type='checkbox'  checked><label for='section-61e305d7-b8be-4114-ae6a-b54ed2ffbb0c' class='xr-section-summary' >Attributes: <span>(2)</span></label><div class='xr-section-inline-details'></div><div class='xr-section-details'><dl class='xr-attrs'><dt><span>static_covariates :</span></dt><dd>None</dd><dt><span>hierarchy :</span></dt><dd>None</dd></dl></div></li></ul></div></div>"
      ],
      "text/plain": [
       "<TimeSeries (DataArray) (FiscalYear: 1, component: 1, sample: 1)> Size: 8B\n",
       "array([[[2083509.728]]])\n",
       "Coordinates:\n",
       "  * FiscalYear  (FiscalYear) int64 8B 2024\n",
       "  * component   (component) object 8B 'Armstrong, Brooke'\n",
       "Dimensions without coordinates: sample\n",
       "Attributes:\n",
       "    static_covariates:  None\n",
       "    hierarchy:          None"
      ]
     },
     "execution_count": 26,
     "metadata": {},
     "output_type": "execute_result"
    }
   ],
   "source": [
    "prediction_rf"
   ]
  },
  {
   "cell_type": "code",
   "execution_count": null,
   "metadata": {},
   "outputs": [],
   "source": [
    "name = 'Armstrong, Brooke'"
   ]
  },
  {
   "cell_type": "code",
   "execution_count": null,
   "metadata": {},
   "outputs": [
    {
     "name": "stderr",
     "output_type": "stream",
     "text": [
      "GPU available: False, used: False\n",
      "TPU available: False, using: 0 TPU cores\n",
      "HPU available: False, using: 0 HPUs\n",
      "\n",
      "  | Name            | Type             | Params | Mode \n",
      "-------------------------------------------------------------\n",
      "0 | criterion       | MSELoss          | 0      | train\n",
      "1 | train_criterion | MSELoss          | 0      | train\n",
      "2 | val_criterion   | MSELoss          | 0      | train\n",
      "3 | train_metrics   | MetricCollection | 0      | train\n",
      "4 | val_metrics     | MetricCollection | 0      | train\n",
      "5 | rnn             | LSTM             | 240    | train\n",
      "6 | V               | Linear           | 7      | train\n",
      "-------------------------------------------------------------\n",
      "247       Trainable params\n",
      "0         Non-trainable params\n",
      "247       Total params\n",
      "0.001     Total estimated model params size (MB)\n",
      "7         Modules in train mode\n",
      "0         Modules in eval mode\n"
     ]
    },
    {
     "name": "stdout",
     "output_type": "stream",
     "text": [
      "Epoch 0:   0%|          | 0/4 [00:00<?, ?it/s] "
     ]
    },
    {
     "name": "stdout",
     "output_type": "stream",
     "text": [
      "Epoch 8: 100%|██████████| 4/4 [00:00<00:00, 179.85it/s, train_loss=2.26e+12]"
     ]
    },
    {
     "name": "stderr",
     "output_type": "stream",
     "text": [
      "/home/codespace/.local/lib/python3.12/site-packages/pytorch_lightning/callbacks/model_checkpoint.py:384: `ModelCheckpoint(monitor='val_loss')` could not find the monitored key in the returned metrics: ['train_loss', 'epoch', 'step']. HINT: Did you call `log('val_loss', value)` in the `LightningModule`?\n"
     ]
    },
    {
     "name": "stdout",
     "output_type": "stream",
     "text": [
      "Epoch 9: 100%|██████████| 4/4 [00:00<00:00, 176.68it/s, train_loss=4.7e+12] "
     ]
    },
    {
     "name": "stderr",
     "output_type": "stream",
     "text": [
      "`Trainer.fit` stopped: `max_epochs=10` reached.\n"
     ]
    },
    {
     "name": "stdout",
     "output_type": "stream",
     "text": [
      "Epoch 9: 100%|██████████| 4/4 [00:00<00:00, 142.19it/s, train_loss=4.7e+12]\n"
     ]
    },
    {
     "data": {
      "text/plain": [
       "RNNModel(model=LSTM, hidden_dim=6, n_rnn_layers=1, dropout=0.0, training_length=3, batch_size=2, n_epochs=10, random_state=0, input_chunk_length=2, model_name=RNN_test, save_checkpoints=True, force_reset=True)"
      ]
     },
     "execution_count": 14,
     "metadata": {},
     "output_type": "execute_result"
    }
   ],
   "source": [
    "model_futcov.fit(\n",
    "    series= actuals_series[name],\n",
    "    future_covariates= adjusted_values_ts[name]\n",
    ")"
   ]
  },
  {
   "cell_type": "code",
   "execution_count": null,
   "metadata": {},
   "outputs": [],
   "source": [
    "subset = actuals[['FiscalYear', 'Armstrong, Brooke']]"
   ]
  },
  {
   "cell_type": "code",
   "execution_count": null,
   "metadata": {},
   "outputs": [],
   "source": [
    "extended = pd.DataFrame({'FiscalYear':[2024], 'Armstrong, Brooke':[1000000]})\n",
    "\n",
    "subset_exteded = pd.concat([subset,extended])"
   ]
  },
  {
   "cell_type": "code",
   "execution_count": null,
   "metadata": {},
   "outputs": [],
   "source": [
    "subset_exteded_ts = TimeSeries.from_dataframe(subset_exteded, time_col='FiscalYear')"
   ]
  },
  {
   "cell_type": "code",
   "execution_count": null,
   "metadata": {},
   "outputs": [
    {
     "data": {
      "text/html": [
       "<div><svg style=\"position: absolute; width: 0; height: 0; overflow: hidden\">\n",
       "<defs>\n",
       "<symbol id=\"icon-database\" viewBox=\"0 0 32 32\">\n",
       "<path d=\"M16 0c-8.837 0-16 2.239-16 5v4c0 2.761 7.163 5 16 5s16-2.239 16-5v-4c0-2.761-7.163-5-16-5z\"></path>\n",
       "<path d=\"M16 17c-8.837 0-16-2.239-16-5v6c0 2.761 7.163 5 16 5s16-2.239 16-5v-6c0 2.761-7.163 5-16 5z\"></path>\n",
       "<path d=\"M16 26c-8.837 0-16-2.239-16-5v6c0 2.761 7.163 5 16 5s16-2.239 16-5v-6c0 2.761-7.163 5-16 5z\"></path>\n",
       "</symbol>\n",
       "<symbol id=\"icon-file-text2\" viewBox=\"0 0 32 32\">\n",
       "<path d=\"M28.681 7.159c-0.694-0.947-1.662-2.053-2.724-3.116s-2.169-2.030-3.116-2.724c-1.612-1.182-2.393-1.319-2.841-1.319h-15.5c-1.378 0-2.5 1.121-2.5 2.5v27c0 1.378 1.122 2.5 2.5 2.5h23c1.378 0 2.5-1.122 2.5-2.5v-19.5c0-0.448-0.137-1.23-1.319-2.841zM24.543 5.457c0.959 0.959 1.712 1.825 2.268 2.543h-4.811v-4.811c0.718 0.556 1.584 1.309 2.543 2.268zM28 29.5c0 0.271-0.229 0.5-0.5 0.5h-23c-0.271 0-0.5-0.229-0.5-0.5v-27c0-0.271 0.229-0.5 0.5-0.5 0 0 15.499-0 15.5 0v7c0 0.552 0.448 1 1 1h7v19.5z\"></path>\n",
       "<path d=\"M23 26h-14c-0.552 0-1-0.448-1-1s0.448-1 1-1h14c0.552 0 1 0.448 1 1s-0.448 1-1 1z\"></path>\n",
       "<path d=\"M23 22h-14c-0.552 0-1-0.448-1-1s0.448-1 1-1h14c0.552 0 1 0.448 1 1s-0.448 1-1 1z\"></path>\n",
       "<path d=\"M23 18h-14c-0.552 0-1-0.448-1-1s0.448-1 1-1h14c0.552 0 1 0.448 1 1s-0.448 1-1 1z\"></path>\n",
       "</symbol>\n",
       "</defs>\n",
       "</svg>\n",
       "<style>/* CSS stylesheet for displaying xarray objects in jupyterlab.\n",
       " *\n",
       " */\n",
       "\n",
       ":root {\n",
       "  --xr-font-color0: var(--jp-content-font-color0, rgba(0, 0, 0, 1));\n",
       "  --xr-font-color2: var(--jp-content-font-color2, rgba(0, 0, 0, 0.54));\n",
       "  --xr-font-color3: var(--jp-content-font-color3, rgba(0, 0, 0, 0.38));\n",
       "  --xr-border-color: var(--jp-border-color2, #e0e0e0);\n",
       "  --xr-disabled-color: var(--jp-layout-color3, #bdbdbd);\n",
       "  --xr-background-color: var(--jp-layout-color0, white);\n",
       "  --xr-background-color-row-even: var(--jp-layout-color1, white);\n",
       "  --xr-background-color-row-odd: var(--jp-layout-color2, #eeeeee);\n",
       "}\n",
       "\n",
       "html[theme=dark],\n",
       "html[data-theme=dark],\n",
       "body[data-theme=dark],\n",
       "body.vscode-dark {\n",
       "  --xr-font-color0: rgba(255, 255, 255, 1);\n",
       "  --xr-font-color2: rgba(255, 255, 255, 0.54);\n",
       "  --xr-font-color3: rgba(255, 255, 255, 0.38);\n",
       "  --xr-border-color: #1F1F1F;\n",
       "  --xr-disabled-color: #515151;\n",
       "  --xr-background-color: #111111;\n",
       "  --xr-background-color-row-even: #111111;\n",
       "  --xr-background-color-row-odd: #313131;\n",
       "}\n",
       "\n",
       ".xr-wrap {\n",
       "  display: block !important;\n",
       "  min-width: 300px;\n",
       "  max-width: 700px;\n",
       "}\n",
       "\n",
       ".xr-text-repr-fallback {\n",
       "  /* fallback to plain text repr when CSS is not injected (untrusted notebook) */\n",
       "  display: none;\n",
       "}\n",
       "\n",
       ".xr-header {\n",
       "  padding-top: 6px;\n",
       "  padding-bottom: 6px;\n",
       "  margin-bottom: 4px;\n",
       "  border-bottom: solid 1px var(--xr-border-color);\n",
       "}\n",
       "\n",
       ".xr-header > div,\n",
       ".xr-header > ul {\n",
       "  display: inline;\n",
       "  margin-top: 0;\n",
       "  margin-bottom: 0;\n",
       "}\n",
       "\n",
       ".xr-obj-type,\n",
       ".xr-array-name {\n",
       "  margin-left: 2px;\n",
       "  margin-right: 10px;\n",
       "}\n",
       "\n",
       ".xr-obj-type {\n",
       "  color: var(--xr-font-color2);\n",
       "}\n",
       "\n",
       ".xr-sections {\n",
       "  padding-left: 0 !important;\n",
       "  display: grid;\n",
       "  grid-template-columns: 150px auto auto 1fr 20px 20px;\n",
       "}\n",
       "\n",
       ".xr-section-item {\n",
       "  display: contents;\n",
       "}\n",
       "\n",
       ".xr-section-item input {\n",
       "  display: none;\n",
       "}\n",
       "\n",
       ".xr-section-item input + label {\n",
       "  color: var(--xr-disabled-color);\n",
       "}\n",
       "\n",
       ".xr-section-item input:enabled + label {\n",
       "  cursor: pointer;\n",
       "  color: var(--xr-font-color2);\n",
       "}\n",
       "\n",
       ".xr-section-item input:enabled + label:hover {\n",
       "  color: var(--xr-font-color0);\n",
       "}\n",
       "\n",
       ".xr-section-summary {\n",
       "  grid-column: 1;\n",
       "  color: var(--xr-font-color2);\n",
       "  font-weight: 500;\n",
       "}\n",
       "\n",
       ".xr-section-summary > span {\n",
       "  display: inline-block;\n",
       "  padding-left: 0.5em;\n",
       "}\n",
       "\n",
       ".xr-section-summary-in:disabled + label {\n",
       "  color: var(--xr-font-color2);\n",
       "}\n",
       "\n",
       ".xr-section-summary-in + label:before {\n",
       "  display: inline-block;\n",
       "  content: '►';\n",
       "  font-size: 11px;\n",
       "  width: 15px;\n",
       "  text-align: center;\n",
       "}\n",
       "\n",
       ".xr-section-summary-in:disabled + label:before {\n",
       "  color: var(--xr-disabled-color);\n",
       "}\n",
       "\n",
       ".xr-section-summary-in:checked + label:before {\n",
       "  content: '▼';\n",
       "}\n",
       "\n",
       ".xr-section-summary-in:checked + label > span {\n",
       "  display: none;\n",
       "}\n",
       "\n",
       ".xr-section-summary,\n",
       ".xr-section-inline-details {\n",
       "  padding-top: 4px;\n",
       "  padding-bottom: 4px;\n",
       "}\n",
       "\n",
       ".xr-section-inline-details {\n",
       "  grid-column: 2 / -1;\n",
       "}\n",
       "\n",
       ".xr-section-details {\n",
       "  display: none;\n",
       "  grid-column: 1 / -1;\n",
       "  margin-bottom: 5px;\n",
       "}\n",
       "\n",
       ".xr-section-summary-in:checked ~ .xr-section-details {\n",
       "  display: contents;\n",
       "}\n",
       "\n",
       ".xr-array-wrap {\n",
       "  grid-column: 1 / -1;\n",
       "  display: grid;\n",
       "  grid-template-columns: 20px auto;\n",
       "}\n",
       "\n",
       ".xr-array-wrap > label {\n",
       "  grid-column: 1;\n",
       "  vertical-align: top;\n",
       "}\n",
       "\n",
       ".xr-preview {\n",
       "  color: var(--xr-font-color3);\n",
       "}\n",
       "\n",
       ".xr-array-preview,\n",
       ".xr-array-data {\n",
       "  padding: 0 5px !important;\n",
       "  grid-column: 2;\n",
       "}\n",
       "\n",
       ".xr-array-data,\n",
       ".xr-array-in:checked ~ .xr-array-preview {\n",
       "  display: none;\n",
       "}\n",
       "\n",
       ".xr-array-in:checked ~ .xr-array-data,\n",
       ".xr-array-preview {\n",
       "  display: inline-block;\n",
       "}\n",
       "\n",
       ".xr-dim-list {\n",
       "  display: inline-block !important;\n",
       "  list-style: none;\n",
       "  padding: 0 !important;\n",
       "  margin: 0;\n",
       "}\n",
       "\n",
       ".xr-dim-list li {\n",
       "  display: inline-block;\n",
       "  padding: 0;\n",
       "  margin: 0;\n",
       "}\n",
       "\n",
       ".xr-dim-list:before {\n",
       "  content: '(';\n",
       "}\n",
       "\n",
       ".xr-dim-list:after {\n",
       "  content: ')';\n",
       "}\n",
       "\n",
       ".xr-dim-list li:not(:last-child):after {\n",
       "  content: ',';\n",
       "  padding-right: 5px;\n",
       "}\n",
       "\n",
       ".xr-has-index {\n",
       "  font-weight: bold;\n",
       "}\n",
       "\n",
       ".xr-var-list,\n",
       ".xr-var-item {\n",
       "  display: contents;\n",
       "}\n",
       "\n",
       ".xr-var-item > div,\n",
       ".xr-var-item label,\n",
       ".xr-var-item > .xr-var-name span {\n",
       "  background-color: var(--xr-background-color-row-even);\n",
       "  margin-bottom: 0;\n",
       "}\n",
       "\n",
       ".xr-var-item > .xr-var-name:hover span {\n",
       "  padding-right: 5px;\n",
       "}\n",
       "\n",
       ".xr-var-list > li:nth-child(odd) > div,\n",
       ".xr-var-list > li:nth-child(odd) > label,\n",
       ".xr-var-list > li:nth-child(odd) > .xr-var-name span {\n",
       "  background-color: var(--xr-background-color-row-odd);\n",
       "}\n",
       "\n",
       ".xr-var-name {\n",
       "  grid-column: 1;\n",
       "}\n",
       "\n",
       ".xr-var-dims {\n",
       "  grid-column: 2;\n",
       "}\n",
       "\n",
       ".xr-var-dtype {\n",
       "  grid-column: 3;\n",
       "  text-align: right;\n",
       "  color: var(--xr-font-color2);\n",
       "}\n",
       "\n",
       ".xr-var-preview {\n",
       "  grid-column: 4;\n",
       "}\n",
       "\n",
       ".xr-index-preview {\n",
       "  grid-column: 2 / 5;\n",
       "  color: var(--xr-font-color2);\n",
       "}\n",
       "\n",
       ".xr-var-name,\n",
       ".xr-var-dims,\n",
       ".xr-var-dtype,\n",
       ".xr-preview,\n",
       ".xr-attrs dt {\n",
       "  white-space: nowrap;\n",
       "  overflow: hidden;\n",
       "  text-overflow: ellipsis;\n",
       "  padding-right: 10px;\n",
       "}\n",
       "\n",
       ".xr-var-name:hover,\n",
       ".xr-var-dims:hover,\n",
       ".xr-var-dtype:hover,\n",
       ".xr-attrs dt:hover {\n",
       "  overflow: visible;\n",
       "  width: auto;\n",
       "  z-index: 1;\n",
       "}\n",
       "\n",
       ".xr-var-attrs,\n",
       ".xr-var-data,\n",
       ".xr-index-data {\n",
       "  display: none;\n",
       "  background-color: var(--xr-background-color) !important;\n",
       "  padding-bottom: 5px !important;\n",
       "}\n",
       "\n",
       ".xr-var-attrs-in:checked ~ .xr-var-attrs,\n",
       ".xr-var-data-in:checked ~ .xr-var-data,\n",
       ".xr-index-data-in:checked ~ .xr-index-data {\n",
       "  display: block;\n",
       "}\n",
       "\n",
       ".xr-var-data > table {\n",
       "  float: right;\n",
       "}\n",
       "\n",
       ".xr-var-name span,\n",
       ".xr-var-data,\n",
       ".xr-index-name div,\n",
       ".xr-index-data,\n",
       ".xr-attrs {\n",
       "  padding-left: 25px !important;\n",
       "}\n",
       "\n",
       ".xr-attrs,\n",
       ".xr-var-attrs,\n",
       ".xr-var-data,\n",
       ".xr-index-data {\n",
       "  grid-column: 1 / -1;\n",
       "}\n",
       "\n",
       "dl.xr-attrs {\n",
       "  padding: 0;\n",
       "  margin: 0;\n",
       "  display: grid;\n",
       "  grid-template-columns: 125px auto;\n",
       "}\n",
       "\n",
       ".xr-attrs dt,\n",
       ".xr-attrs dd {\n",
       "  padding: 0;\n",
       "  margin: 0;\n",
       "  float: left;\n",
       "  padding-right: 10px;\n",
       "  width: auto;\n",
       "}\n",
       "\n",
       ".xr-attrs dt {\n",
       "  font-weight: normal;\n",
       "  grid-column: 1;\n",
       "}\n",
       "\n",
       ".xr-attrs dt:hover span {\n",
       "  display: inline-block;\n",
       "  background: var(--xr-background-color);\n",
       "  padding-right: 10px;\n",
       "}\n",
       "\n",
       ".xr-attrs dd {\n",
       "  grid-column: 2;\n",
       "  white-space: pre-wrap;\n",
       "  word-break: break-all;\n",
       "}\n",
       "\n",
       ".xr-icon-database,\n",
       ".xr-icon-file-text2,\n",
       ".xr-no-icon {\n",
       "  display: inline-block;\n",
       "  vertical-align: middle;\n",
       "  width: 1em;\n",
       "  height: 1.5em !important;\n",
       "  stroke-width: 0;\n",
       "  stroke: currentColor;\n",
       "  fill: currentColor;\n",
       "}\n",
       "</style><pre class='xr-text-repr-fallback'>&lt;TimeSeries (DataArray) (FiscalYear: 11, component: 1, sample: 1)&gt; Size: 88B\n",
       "array([[[1380583.55]],\n",
       "\n",
       "       [[ 631544.09]],\n",
       "\n",
       "       [[1125976.16]],\n",
       "\n",
       "       [[1526556.11]],\n",
       "\n",
       "       [[1786851.61]],\n",
       "\n",
       "       [[2927638.63]],\n",
       "\n",
       "       [[2774229.05]],\n",
       "\n",
       "       [[1521039.35]],\n",
       "\n",
       "       [[ 138760.99]],\n",
       "\n",
       "       [[ -10737.07]],\n",
       "\n",
       "       [[1000000.  ]]])\n",
       "Coordinates:\n",
       "  * FiscalYear  (FiscalYear) int64 88B 2014 2015 2016 2017 ... 2022 2023 2024\n",
       "  * component   (component) object 8B &#x27;Armstrong, Brooke&#x27;\n",
       "Dimensions without coordinates: sample\n",
       "Attributes:\n",
       "    static_covariates:  None\n",
       "    hierarchy:          None</pre><div class='xr-wrap' style='display:none'><div class='xr-header'><div class='xr-obj-type'>TimeSeries (DataArray)</div><div class='xr-array-name'></div><ul class='xr-dim-list'><li><span class='xr-has-index'>FiscalYear</span>: 11</li><li><span class='xr-has-index'>component</span>: 1</li><li><span>sample</span>: 1</li></ul></div><ul class='xr-sections'><li class='xr-section-item'><div class='xr-array-wrap'><input id='section-651497a8-ab74-42d4-8d7e-da52b28851db' class='xr-array-in' type='checkbox' checked><label for='section-651497a8-ab74-42d4-8d7e-da52b28851db' title='Show/hide data repr'><svg class='icon xr-icon-database'><use xlink:href='#icon-database'></use></svg></label><div class='xr-array-preview xr-preview'><span>1.381e+06 6.315e+05 1.126e+06 1.527e+06 ... 1.388e+05 -1.074e+04 1e+06</span></div><div class='xr-array-data'><pre>array([[[1380583.55]],\n",
       "\n",
       "       [[ 631544.09]],\n",
       "\n",
       "       [[1125976.16]],\n",
       "\n",
       "       [[1526556.11]],\n",
       "\n",
       "       [[1786851.61]],\n",
       "\n",
       "       [[2927638.63]],\n",
       "\n",
       "       [[2774229.05]],\n",
       "\n",
       "       [[1521039.35]],\n",
       "\n",
       "       [[ 138760.99]],\n",
       "\n",
       "       [[ -10737.07]],\n",
       "\n",
       "       [[1000000.  ]]])</pre></div></div></li><li class='xr-section-item'><input id='section-a8de99db-5447-4143-967f-380e5139c110' class='xr-section-summary-in' type='checkbox'  checked><label for='section-a8de99db-5447-4143-967f-380e5139c110' class='xr-section-summary' >Coordinates: <span>(2)</span></label><div class='xr-section-inline-details'></div><div class='xr-section-details'><ul class='xr-var-list'><li class='xr-var-item'><div class='xr-var-name'><span class='xr-has-index'>FiscalYear</span></div><div class='xr-var-dims'>(FiscalYear)</div><div class='xr-var-dtype'>int64</div><div class='xr-var-preview xr-preview'>2014 2015 2016 ... 2022 2023 2024</div><input id='attrs-3289a293-170d-4d79-b0b2-0837297018e1' class='xr-var-attrs-in' type='checkbox' disabled><label for='attrs-3289a293-170d-4d79-b0b2-0837297018e1' title='Show/Hide attributes'><svg class='icon xr-icon-file-text2'><use xlink:href='#icon-file-text2'></use></svg></label><input id='data-05115777-5309-4e93-9fcc-e88859186d60' class='xr-var-data-in' type='checkbox'><label for='data-05115777-5309-4e93-9fcc-e88859186d60' title='Show/Hide data repr'><svg class='icon xr-icon-database'><use xlink:href='#icon-database'></use></svg></label><div class='xr-var-attrs'><dl class='xr-attrs'></dl></div><div class='xr-var-data'><pre>array([2014, 2015, 2016, 2017, 2018, 2019, 2020, 2021, 2022, 2023, 2024])</pre></div></li><li class='xr-var-item'><div class='xr-var-name'><span class='xr-has-index'>component</span></div><div class='xr-var-dims'>(component)</div><div class='xr-var-dtype'>object</div><div class='xr-var-preview xr-preview'>&#x27;Armstrong, Brooke&#x27;</div><input id='attrs-d806443c-22d6-4add-b883-1b7ea19fc3e7' class='xr-var-attrs-in' type='checkbox' disabled><label for='attrs-d806443c-22d6-4add-b883-1b7ea19fc3e7' title='Show/Hide attributes'><svg class='icon xr-icon-file-text2'><use xlink:href='#icon-file-text2'></use></svg></label><input id='data-4baf3df2-5197-46f8-b10b-3758dfe65021' class='xr-var-data-in' type='checkbox'><label for='data-4baf3df2-5197-46f8-b10b-3758dfe65021' title='Show/Hide data repr'><svg class='icon xr-icon-database'><use xlink:href='#icon-database'></use></svg></label><div class='xr-var-attrs'><dl class='xr-attrs'></dl></div><div class='xr-var-data'><pre>array([&#x27;Armstrong, Brooke&#x27;], dtype=object)</pre></div></li></ul></div></li><li class='xr-section-item'><input id='section-8f5987de-342f-456a-bf5c-509a67694ba3' class='xr-section-summary-in' type='checkbox'  ><label for='section-8f5987de-342f-456a-bf5c-509a67694ba3' class='xr-section-summary' >Indexes: <span>(2)</span></label><div class='xr-section-inline-details'></div><div class='xr-section-details'><ul class='xr-var-list'><li class='xr-var-item'><div class='xr-index-name'><div>FiscalYear</div></div><div class='xr-index-preview'>PandasIndex</div><div></div><input id='index-5e94c92d-0118-4a87-88fa-18b2d455f580' class='xr-index-data-in' type='checkbox'/><label for='index-5e94c92d-0118-4a87-88fa-18b2d455f580' title='Show/Hide index repr'><svg class='icon xr-icon-database'><use xlink:href='#icon-database'></use></svg></label><div class='xr-index-data'><pre>PandasIndex(RangeIndex(start=2014, stop=2025, step=1, name=&#x27;FiscalYear&#x27;))</pre></div></li><li class='xr-var-item'><div class='xr-index-name'><div>component</div></div><div class='xr-index-preview'>PandasIndex</div><div></div><input id='index-910f4a90-6159-4fda-a3c0-f6e84edf3669' class='xr-index-data-in' type='checkbox'/><label for='index-910f4a90-6159-4fda-a3c0-f6e84edf3669' title='Show/Hide index repr'><svg class='icon xr-icon-database'><use xlink:href='#icon-database'></use></svg></label><div class='xr-index-data'><pre>PandasIndex(Index([&#x27;Armstrong, Brooke&#x27;], dtype=&#x27;object&#x27;, name=&#x27;component&#x27;))</pre></div></li></ul></div></li><li class='xr-section-item'><input id='section-e8757677-86a8-4112-afc7-fdfcb0b1eeb9' class='xr-section-summary-in' type='checkbox'  checked><label for='section-e8757677-86a8-4112-afc7-fdfcb0b1eeb9' class='xr-section-summary' >Attributes: <span>(2)</span></label><div class='xr-section-inline-details'></div><div class='xr-section-details'><dl class='xr-attrs'><dt><span>static_covariates :</span></dt><dd>None</dd><dt><span>hierarchy :</span></dt><dd>None</dd></dl></div></li></ul></div></div>"
      ],
      "text/plain": [
       "<TimeSeries (DataArray) (FiscalYear: 11, component: 1, sample: 1)> Size: 88B\n",
       "array([[[1380583.55]],\n",
       "\n",
       "       [[ 631544.09]],\n",
       "\n",
       "       [[1125976.16]],\n",
       "\n",
       "       [[1526556.11]],\n",
       "\n",
       "       [[1786851.61]],\n",
       "\n",
       "       [[2927638.63]],\n",
       "\n",
       "       [[2774229.05]],\n",
       "\n",
       "       [[1521039.35]],\n",
       "\n",
       "       [[ 138760.99]],\n",
       "\n",
       "       [[ -10737.07]],\n",
       "\n",
       "       [[1000000.  ]]])\n",
       "Coordinates:\n",
       "  * FiscalYear  (FiscalYear) int64 88B 2014 2015 2016 2017 ... 2022 2023 2024\n",
       "  * component   (component) object 8B 'Armstrong, Brooke'\n",
       "Dimensions without coordinates: sample\n",
       "Attributes:\n",
       "    static_covariates:  None\n",
       "    hierarchy:          None"
      ]
     },
     "execution_count": 18,
     "metadata": {},
     "output_type": "execute_result"
    }
   ],
   "source": [
    "subset_exteded_ts"
   ]
  },
  {
   "cell_type": "code",
   "execution_count": null,
   "metadata": {},
   "outputs": [
    {
     "name": "stderr",
     "output_type": "stream",
     "text": [
      "GPU available: False, used: False\n",
      "TPU available: False, using: 0 TPU cores\n",
      "HPU available: False, using: 0 HPUs\n"
     ]
    },
    {
     "name": "stdout",
     "output_type": "stream",
     "text": [
      "Predicting DataLoader 0: 100%|██████████| 1/1 [00:00<00:00, 212.18it/s]\n"
     ]
    }
   ],
   "source": [
    "predicted = model_futcov.predict(1, future_covariates=subset_exteded_ts)"
   ]
  },
  {
   "cell_type": "code",
   "execution_count": null,
   "metadata": {},
   "outputs": [
    {
     "data": {
      "text/html": [
       "<div><svg style=\"position: absolute; width: 0; height: 0; overflow: hidden\">\n",
       "<defs>\n",
       "<symbol id=\"icon-database\" viewBox=\"0 0 32 32\">\n",
       "<path d=\"M16 0c-8.837 0-16 2.239-16 5v4c0 2.761 7.163 5 16 5s16-2.239 16-5v-4c0-2.761-7.163-5-16-5z\"></path>\n",
       "<path d=\"M16 17c-8.837 0-16-2.239-16-5v6c0 2.761 7.163 5 16 5s16-2.239 16-5v-6c0 2.761-7.163 5-16 5z\"></path>\n",
       "<path d=\"M16 26c-8.837 0-16-2.239-16-5v6c0 2.761 7.163 5 16 5s16-2.239 16-5v-6c0 2.761-7.163 5-16 5z\"></path>\n",
       "</symbol>\n",
       "<symbol id=\"icon-file-text2\" viewBox=\"0 0 32 32\">\n",
       "<path d=\"M28.681 7.159c-0.694-0.947-1.662-2.053-2.724-3.116s-2.169-2.030-3.116-2.724c-1.612-1.182-2.393-1.319-2.841-1.319h-15.5c-1.378 0-2.5 1.121-2.5 2.5v27c0 1.378 1.122 2.5 2.5 2.5h23c1.378 0 2.5-1.122 2.5-2.5v-19.5c0-0.448-0.137-1.23-1.319-2.841zM24.543 5.457c0.959 0.959 1.712 1.825 2.268 2.543h-4.811v-4.811c0.718 0.556 1.584 1.309 2.543 2.268zM28 29.5c0 0.271-0.229 0.5-0.5 0.5h-23c-0.271 0-0.5-0.229-0.5-0.5v-27c0-0.271 0.229-0.5 0.5-0.5 0 0 15.499-0 15.5 0v7c0 0.552 0.448 1 1 1h7v19.5z\"></path>\n",
       "<path d=\"M23 26h-14c-0.552 0-1-0.448-1-1s0.448-1 1-1h14c0.552 0 1 0.448 1 1s-0.448 1-1 1z\"></path>\n",
       "<path d=\"M23 22h-14c-0.552 0-1-0.448-1-1s0.448-1 1-1h14c0.552 0 1 0.448 1 1s-0.448 1-1 1z\"></path>\n",
       "<path d=\"M23 18h-14c-0.552 0-1-0.448-1-1s0.448-1 1-1h14c0.552 0 1 0.448 1 1s-0.448 1-1 1z\"></path>\n",
       "</symbol>\n",
       "</defs>\n",
       "</svg>\n",
       "<style>/* CSS stylesheet for displaying xarray objects in jupyterlab.\n",
       " *\n",
       " */\n",
       "\n",
       ":root {\n",
       "  --xr-font-color0: var(--jp-content-font-color0, rgba(0, 0, 0, 1));\n",
       "  --xr-font-color2: var(--jp-content-font-color2, rgba(0, 0, 0, 0.54));\n",
       "  --xr-font-color3: var(--jp-content-font-color3, rgba(0, 0, 0, 0.38));\n",
       "  --xr-border-color: var(--jp-border-color2, #e0e0e0);\n",
       "  --xr-disabled-color: var(--jp-layout-color3, #bdbdbd);\n",
       "  --xr-background-color: var(--jp-layout-color0, white);\n",
       "  --xr-background-color-row-even: var(--jp-layout-color1, white);\n",
       "  --xr-background-color-row-odd: var(--jp-layout-color2, #eeeeee);\n",
       "}\n",
       "\n",
       "html[theme=dark],\n",
       "html[data-theme=dark],\n",
       "body[data-theme=dark],\n",
       "body.vscode-dark {\n",
       "  --xr-font-color0: rgba(255, 255, 255, 1);\n",
       "  --xr-font-color2: rgba(255, 255, 255, 0.54);\n",
       "  --xr-font-color3: rgba(255, 255, 255, 0.38);\n",
       "  --xr-border-color: #1F1F1F;\n",
       "  --xr-disabled-color: #515151;\n",
       "  --xr-background-color: #111111;\n",
       "  --xr-background-color-row-even: #111111;\n",
       "  --xr-background-color-row-odd: #313131;\n",
       "}\n",
       "\n",
       ".xr-wrap {\n",
       "  display: block !important;\n",
       "  min-width: 300px;\n",
       "  max-width: 700px;\n",
       "}\n",
       "\n",
       ".xr-text-repr-fallback {\n",
       "  /* fallback to plain text repr when CSS is not injected (untrusted notebook) */\n",
       "  display: none;\n",
       "}\n",
       "\n",
       ".xr-header {\n",
       "  padding-top: 6px;\n",
       "  padding-bottom: 6px;\n",
       "  margin-bottom: 4px;\n",
       "  border-bottom: solid 1px var(--xr-border-color);\n",
       "}\n",
       "\n",
       ".xr-header > div,\n",
       ".xr-header > ul {\n",
       "  display: inline;\n",
       "  margin-top: 0;\n",
       "  margin-bottom: 0;\n",
       "}\n",
       "\n",
       ".xr-obj-type,\n",
       ".xr-array-name {\n",
       "  margin-left: 2px;\n",
       "  margin-right: 10px;\n",
       "}\n",
       "\n",
       ".xr-obj-type {\n",
       "  color: var(--xr-font-color2);\n",
       "}\n",
       "\n",
       ".xr-sections {\n",
       "  padding-left: 0 !important;\n",
       "  display: grid;\n",
       "  grid-template-columns: 150px auto auto 1fr 20px 20px;\n",
       "}\n",
       "\n",
       ".xr-section-item {\n",
       "  display: contents;\n",
       "}\n",
       "\n",
       ".xr-section-item input {\n",
       "  display: none;\n",
       "}\n",
       "\n",
       ".xr-section-item input + label {\n",
       "  color: var(--xr-disabled-color);\n",
       "}\n",
       "\n",
       ".xr-section-item input:enabled + label {\n",
       "  cursor: pointer;\n",
       "  color: var(--xr-font-color2);\n",
       "}\n",
       "\n",
       ".xr-section-item input:enabled + label:hover {\n",
       "  color: var(--xr-font-color0);\n",
       "}\n",
       "\n",
       ".xr-section-summary {\n",
       "  grid-column: 1;\n",
       "  color: var(--xr-font-color2);\n",
       "  font-weight: 500;\n",
       "}\n",
       "\n",
       ".xr-section-summary > span {\n",
       "  display: inline-block;\n",
       "  padding-left: 0.5em;\n",
       "}\n",
       "\n",
       ".xr-section-summary-in:disabled + label {\n",
       "  color: var(--xr-font-color2);\n",
       "}\n",
       "\n",
       ".xr-section-summary-in + label:before {\n",
       "  display: inline-block;\n",
       "  content: '►';\n",
       "  font-size: 11px;\n",
       "  width: 15px;\n",
       "  text-align: center;\n",
       "}\n",
       "\n",
       ".xr-section-summary-in:disabled + label:before {\n",
       "  color: var(--xr-disabled-color);\n",
       "}\n",
       "\n",
       ".xr-section-summary-in:checked + label:before {\n",
       "  content: '▼';\n",
       "}\n",
       "\n",
       ".xr-section-summary-in:checked + label > span {\n",
       "  display: none;\n",
       "}\n",
       "\n",
       ".xr-section-summary,\n",
       ".xr-section-inline-details {\n",
       "  padding-top: 4px;\n",
       "  padding-bottom: 4px;\n",
       "}\n",
       "\n",
       ".xr-section-inline-details {\n",
       "  grid-column: 2 / -1;\n",
       "}\n",
       "\n",
       ".xr-section-details {\n",
       "  display: none;\n",
       "  grid-column: 1 / -1;\n",
       "  margin-bottom: 5px;\n",
       "}\n",
       "\n",
       ".xr-section-summary-in:checked ~ .xr-section-details {\n",
       "  display: contents;\n",
       "}\n",
       "\n",
       ".xr-array-wrap {\n",
       "  grid-column: 1 / -1;\n",
       "  display: grid;\n",
       "  grid-template-columns: 20px auto;\n",
       "}\n",
       "\n",
       ".xr-array-wrap > label {\n",
       "  grid-column: 1;\n",
       "  vertical-align: top;\n",
       "}\n",
       "\n",
       ".xr-preview {\n",
       "  color: var(--xr-font-color3);\n",
       "}\n",
       "\n",
       ".xr-array-preview,\n",
       ".xr-array-data {\n",
       "  padding: 0 5px !important;\n",
       "  grid-column: 2;\n",
       "}\n",
       "\n",
       ".xr-array-data,\n",
       ".xr-array-in:checked ~ .xr-array-preview {\n",
       "  display: none;\n",
       "}\n",
       "\n",
       ".xr-array-in:checked ~ .xr-array-data,\n",
       ".xr-array-preview {\n",
       "  display: inline-block;\n",
       "}\n",
       "\n",
       ".xr-dim-list {\n",
       "  display: inline-block !important;\n",
       "  list-style: none;\n",
       "  padding: 0 !important;\n",
       "  margin: 0;\n",
       "}\n",
       "\n",
       ".xr-dim-list li {\n",
       "  display: inline-block;\n",
       "  padding: 0;\n",
       "  margin: 0;\n",
       "}\n",
       "\n",
       ".xr-dim-list:before {\n",
       "  content: '(';\n",
       "}\n",
       "\n",
       ".xr-dim-list:after {\n",
       "  content: ')';\n",
       "}\n",
       "\n",
       ".xr-dim-list li:not(:last-child):after {\n",
       "  content: ',';\n",
       "  padding-right: 5px;\n",
       "}\n",
       "\n",
       ".xr-has-index {\n",
       "  font-weight: bold;\n",
       "}\n",
       "\n",
       ".xr-var-list,\n",
       ".xr-var-item {\n",
       "  display: contents;\n",
       "}\n",
       "\n",
       ".xr-var-item > div,\n",
       ".xr-var-item label,\n",
       ".xr-var-item > .xr-var-name span {\n",
       "  background-color: var(--xr-background-color-row-even);\n",
       "  margin-bottom: 0;\n",
       "}\n",
       "\n",
       ".xr-var-item > .xr-var-name:hover span {\n",
       "  padding-right: 5px;\n",
       "}\n",
       "\n",
       ".xr-var-list > li:nth-child(odd) > div,\n",
       ".xr-var-list > li:nth-child(odd) > label,\n",
       ".xr-var-list > li:nth-child(odd) > .xr-var-name span {\n",
       "  background-color: var(--xr-background-color-row-odd);\n",
       "}\n",
       "\n",
       ".xr-var-name {\n",
       "  grid-column: 1;\n",
       "}\n",
       "\n",
       ".xr-var-dims {\n",
       "  grid-column: 2;\n",
       "}\n",
       "\n",
       ".xr-var-dtype {\n",
       "  grid-column: 3;\n",
       "  text-align: right;\n",
       "  color: var(--xr-font-color2);\n",
       "}\n",
       "\n",
       ".xr-var-preview {\n",
       "  grid-column: 4;\n",
       "}\n",
       "\n",
       ".xr-index-preview {\n",
       "  grid-column: 2 / 5;\n",
       "  color: var(--xr-font-color2);\n",
       "}\n",
       "\n",
       ".xr-var-name,\n",
       ".xr-var-dims,\n",
       ".xr-var-dtype,\n",
       ".xr-preview,\n",
       ".xr-attrs dt {\n",
       "  white-space: nowrap;\n",
       "  overflow: hidden;\n",
       "  text-overflow: ellipsis;\n",
       "  padding-right: 10px;\n",
       "}\n",
       "\n",
       ".xr-var-name:hover,\n",
       ".xr-var-dims:hover,\n",
       ".xr-var-dtype:hover,\n",
       ".xr-attrs dt:hover {\n",
       "  overflow: visible;\n",
       "  width: auto;\n",
       "  z-index: 1;\n",
       "}\n",
       "\n",
       ".xr-var-attrs,\n",
       ".xr-var-data,\n",
       ".xr-index-data {\n",
       "  display: none;\n",
       "  background-color: var(--xr-background-color) !important;\n",
       "  padding-bottom: 5px !important;\n",
       "}\n",
       "\n",
       ".xr-var-attrs-in:checked ~ .xr-var-attrs,\n",
       ".xr-var-data-in:checked ~ .xr-var-data,\n",
       ".xr-index-data-in:checked ~ .xr-index-data {\n",
       "  display: block;\n",
       "}\n",
       "\n",
       ".xr-var-data > table {\n",
       "  float: right;\n",
       "}\n",
       "\n",
       ".xr-var-name span,\n",
       ".xr-var-data,\n",
       ".xr-index-name div,\n",
       ".xr-index-data,\n",
       ".xr-attrs {\n",
       "  padding-left: 25px !important;\n",
       "}\n",
       "\n",
       ".xr-attrs,\n",
       ".xr-var-attrs,\n",
       ".xr-var-data,\n",
       ".xr-index-data {\n",
       "  grid-column: 1 / -1;\n",
       "}\n",
       "\n",
       "dl.xr-attrs {\n",
       "  padding: 0;\n",
       "  margin: 0;\n",
       "  display: grid;\n",
       "  grid-template-columns: 125px auto;\n",
       "}\n",
       "\n",
       ".xr-attrs dt,\n",
       ".xr-attrs dd {\n",
       "  padding: 0;\n",
       "  margin: 0;\n",
       "  float: left;\n",
       "  padding-right: 10px;\n",
       "  width: auto;\n",
       "}\n",
       "\n",
       ".xr-attrs dt {\n",
       "  font-weight: normal;\n",
       "  grid-column: 1;\n",
       "}\n",
       "\n",
       ".xr-attrs dt:hover span {\n",
       "  display: inline-block;\n",
       "  background: var(--xr-background-color);\n",
       "  padding-right: 10px;\n",
       "}\n",
       "\n",
       ".xr-attrs dd {\n",
       "  grid-column: 2;\n",
       "  white-space: pre-wrap;\n",
       "  word-break: break-all;\n",
       "}\n",
       "\n",
       ".xr-icon-database,\n",
       ".xr-icon-file-text2,\n",
       ".xr-no-icon {\n",
       "  display: inline-block;\n",
       "  vertical-align: middle;\n",
       "  width: 1em;\n",
       "  height: 1.5em !important;\n",
       "  stroke-width: 0;\n",
       "  stroke: currentColor;\n",
       "  fill: currentColor;\n",
       "}\n",
       "</style><pre class='xr-text-repr-fallback'>&lt;TimeSeries (DataArray) (FiscalYear: 1, component: 1, sample: 1)&gt; Size: 8B\n",
       "array([[[0.02777978]]])\n",
       "Coordinates:\n",
       "  * FiscalYear  (FiscalYear) int64 8B 2024\n",
       "  * component   (component) object 8B &#x27;Armstrong, Brooke&#x27;\n",
       "Dimensions without coordinates: sample\n",
       "Attributes:\n",
       "    static_covariates:  None\n",
       "    hierarchy:          None</pre><div class='xr-wrap' style='display:none'><div class='xr-header'><div class='xr-obj-type'>TimeSeries (DataArray)</div><div class='xr-array-name'></div><ul class='xr-dim-list'><li><span class='xr-has-index'>FiscalYear</span>: 1</li><li><span class='xr-has-index'>component</span>: 1</li><li><span>sample</span>: 1</li></ul></div><ul class='xr-sections'><li class='xr-section-item'><div class='xr-array-wrap'><input id='section-85440c5e-b037-4909-9c58-ee3ce3ebc432' class='xr-array-in' type='checkbox' checked><label for='section-85440c5e-b037-4909-9c58-ee3ce3ebc432' title='Show/hide data repr'><svg class='icon xr-icon-database'><use xlink:href='#icon-database'></use></svg></label><div class='xr-array-preview xr-preview'><span>0.02778</span></div><div class='xr-array-data'><pre>array([[[0.02777978]]])</pre></div></div></li><li class='xr-section-item'><input id='section-56ddbe81-0e3e-4855-9eb9-83ddab0a211a' class='xr-section-summary-in' type='checkbox'  checked><label for='section-56ddbe81-0e3e-4855-9eb9-83ddab0a211a' class='xr-section-summary' >Coordinates: <span>(2)</span></label><div class='xr-section-inline-details'></div><div class='xr-section-details'><ul class='xr-var-list'><li class='xr-var-item'><div class='xr-var-name'><span class='xr-has-index'>FiscalYear</span></div><div class='xr-var-dims'>(FiscalYear)</div><div class='xr-var-dtype'>int64</div><div class='xr-var-preview xr-preview'>2024</div><input id='attrs-c849439a-ed27-47a1-9095-674d3ee83807' class='xr-var-attrs-in' type='checkbox' disabled><label for='attrs-c849439a-ed27-47a1-9095-674d3ee83807' title='Show/Hide attributes'><svg class='icon xr-icon-file-text2'><use xlink:href='#icon-file-text2'></use></svg></label><input id='data-40294496-e281-4808-8583-448f20c4e2ef' class='xr-var-data-in' type='checkbox'><label for='data-40294496-e281-4808-8583-448f20c4e2ef' title='Show/Hide data repr'><svg class='icon xr-icon-database'><use xlink:href='#icon-database'></use></svg></label><div class='xr-var-attrs'><dl class='xr-attrs'></dl></div><div class='xr-var-data'><pre>array([2024])</pre></div></li><li class='xr-var-item'><div class='xr-var-name'><span class='xr-has-index'>component</span></div><div class='xr-var-dims'>(component)</div><div class='xr-var-dtype'>object</div><div class='xr-var-preview xr-preview'>&#x27;Armstrong, Brooke&#x27;</div><input id='attrs-b8dd5318-587c-497a-9bf0-990445e06878' class='xr-var-attrs-in' type='checkbox' disabled><label for='attrs-b8dd5318-587c-497a-9bf0-990445e06878' title='Show/Hide attributes'><svg class='icon xr-icon-file-text2'><use xlink:href='#icon-file-text2'></use></svg></label><input id='data-c4af1bdc-1622-41bd-a855-7e973a4aaf82' class='xr-var-data-in' type='checkbox'><label for='data-c4af1bdc-1622-41bd-a855-7e973a4aaf82' title='Show/Hide data repr'><svg class='icon xr-icon-database'><use xlink:href='#icon-database'></use></svg></label><div class='xr-var-attrs'><dl class='xr-attrs'></dl></div><div class='xr-var-data'><pre>array([&#x27;Armstrong, Brooke&#x27;], dtype=object)</pre></div></li></ul></div></li><li class='xr-section-item'><input id='section-20130885-d47e-49e0-a724-b6cffaefe15b' class='xr-section-summary-in' type='checkbox'  ><label for='section-20130885-d47e-49e0-a724-b6cffaefe15b' class='xr-section-summary' >Indexes: <span>(2)</span></label><div class='xr-section-inline-details'></div><div class='xr-section-details'><ul class='xr-var-list'><li class='xr-var-item'><div class='xr-index-name'><div>FiscalYear</div></div><div class='xr-index-preview'>PandasIndex</div><div></div><input id='index-b541175c-b3d1-4624-bf75-0266fbd6e49a' class='xr-index-data-in' type='checkbox'/><label for='index-b541175c-b3d1-4624-bf75-0266fbd6e49a' title='Show/Hide index repr'><svg class='icon xr-icon-database'><use xlink:href='#icon-database'></use></svg></label><div class='xr-index-data'><pre>PandasIndex(RangeIndex(start=2024, stop=2025, step=1, name=&#x27;FiscalYear&#x27;))</pre></div></li><li class='xr-var-item'><div class='xr-index-name'><div>component</div></div><div class='xr-index-preview'>PandasIndex</div><div></div><input id='index-59688d64-ce2a-4d16-a971-5ef3c52f93b8' class='xr-index-data-in' type='checkbox'/><label for='index-59688d64-ce2a-4d16-a971-5ef3c52f93b8' title='Show/Hide index repr'><svg class='icon xr-icon-database'><use xlink:href='#icon-database'></use></svg></label><div class='xr-index-data'><pre>PandasIndex(Index([&#x27;Armstrong, Brooke&#x27;], dtype=&#x27;object&#x27;, name=&#x27;component&#x27;))</pre></div></li></ul></div></li><li class='xr-section-item'><input id='section-78dd0d78-ae34-4b62-8aee-e616de052356' class='xr-section-summary-in' type='checkbox'  checked><label for='section-78dd0d78-ae34-4b62-8aee-e616de052356' class='xr-section-summary' >Attributes: <span>(2)</span></label><div class='xr-section-inline-details'></div><div class='xr-section-details'><dl class='xr-attrs'><dt><span>static_covariates :</span></dt><dd>None</dd><dt><span>hierarchy :</span></dt><dd>None</dd></dl></div></li></ul></div></div>"
      ],
      "text/plain": [
       "<TimeSeries (DataArray) (FiscalYear: 1, component: 1, sample: 1)> Size: 8B\n",
       "array([[[0.02777978]]])\n",
       "Coordinates:\n",
       "  * FiscalYear  (FiscalYear) int64 8B 2024\n",
       "  * component   (component) object 8B 'Armstrong, Brooke'\n",
       "Dimensions without coordinates: sample\n",
       "Attributes:\n",
       "    static_covariates:  None\n",
       "    hierarchy:          None"
      ]
     },
     "execution_count": 20,
     "metadata": {},
     "output_type": "execute_result"
    }
   ],
   "source": [
    "predicted"
   ]
  },
  {
   "cell_type": "code",
   "execution_count": null,
   "metadata": {},
   "outputs": [
    {
     "ename": "TypeError",
     "evalue": "InvertibleDataTransformer.inverse_transform() missing 1 required positional argument: 'series'",
     "output_type": "error",
     "traceback": [
      "\u001b[0;31m---------------------------------------------------------------------------\u001b[0m",
      "\u001b[0;31mTypeError\u001b[0m                                 Traceback (most recent call last)",
      "Cell \u001b[0;32mIn[21], line 1\u001b[0m\n\u001b[0;32m----> 1\u001b[0m \u001b[43mScaler\u001b[49m\u001b[38;5;241;43m.\u001b[39;49m\u001b[43minverse_transform\u001b[49m\u001b[43m(\u001b[49m\u001b[43mpredicted\u001b[49m\u001b[43m)\u001b[49m\n",
      "\u001b[0;31mTypeError\u001b[0m: InvertibleDataTransformer.inverse_transform() missing 1 required positional argument: 'series'"
     ]
    }
   ],
   "source": [
    "Scaler.inverse_transform(predicted)"
   ]
  },
  {
   "cell_type": "code",
   "execution_count": null,
   "metadata": {},
   "outputs": [
    {
     "ename": "IndexingError",
     "evalue": "Unalignable boolean Series provided as indexer (index of the boolean Series and of the indexed object do not match).",
     "output_type": "error",
     "traceback": [
      "\u001b[0;31m---------------------------------------------------------------------------\u001b[0m",
      "\u001b[0;31mIndexingError\u001b[0m                             Traceback (most recent call last)",
      "Cell \u001b[0;32mIn[13], line 13\u001b[0m\n\u001b[1;32m      7\u001b[0m beta \u001b[38;5;241m=\u001b[39m \u001b[38;5;28msum\u001b[39m(no_of_lesser_value\u001b[38;5;241m.\u001b[39mvalues)\n\u001b[1;32m     10\u001b[0m confidence \u001b[38;5;241m=\u001b[39m (\u001b[38;5;28mlen\u001b[39m(adjusted_values[name]) \u001b[38;5;241m-\u001b[39m beta)\u001b[38;5;241m/\u001b[39m\u001b[38;5;28mlen\u001b[39m(adjusted_values[name])\n\u001b[0;32m---> 13\u001b[0m filter_broker_target \u001b[38;5;241m=\u001b[39m \u001b[43mbroker_target\u001b[49m\u001b[43m[\u001b[49m\u001b[43mname\u001b[49m\u001b[43m]\u001b[49m\u001b[43m[\u001b[49m\u001b[43mno_of_lesser_value\u001b[49m\u001b[43m]\u001b[49m\n\u001b[1;32m     15\u001b[0m filter_adjust_values \u001b[38;5;241m=\u001b[39m adjusted_values[name][no_of_lesser_value]\n\u001b[1;32m     17\u001b[0m broker_target_individual \u001b[38;5;241m=\u001b[39m filter_broker_target\u001b[38;5;241m.\u001b[39mdropna()\n",
      "File \u001b[0;32m~/.local/lib/python3.12/site-packages/pandas/core/series.py:1149\u001b[0m, in \u001b[0;36mSeries.__getitem__\u001b[0;34m(self, key)\u001b[0m\n\u001b[1;32m   1146\u001b[0m     \u001b[38;5;28;01mreturn\u001b[39;00m \u001b[38;5;28mself\u001b[39m\u001b[38;5;241m.\u001b[39m_getitem_slice(key)\n\u001b[1;32m   1148\u001b[0m \u001b[38;5;28;01mif\u001b[39;00m com\u001b[38;5;241m.\u001b[39mis_bool_indexer(key):\n\u001b[0;32m-> 1149\u001b[0m     key \u001b[38;5;241m=\u001b[39m \u001b[43mcheck_bool_indexer\u001b[49m\u001b[43m(\u001b[49m\u001b[38;5;28;43mself\u001b[39;49m\u001b[38;5;241;43m.\u001b[39;49m\u001b[43mindex\u001b[49m\u001b[43m,\u001b[49m\u001b[43m \u001b[49m\u001b[43mkey\u001b[49m\u001b[43m)\u001b[49m\n\u001b[1;32m   1150\u001b[0m     key \u001b[38;5;241m=\u001b[39m np\u001b[38;5;241m.\u001b[39masarray(key, dtype\u001b[38;5;241m=\u001b[39m\u001b[38;5;28mbool\u001b[39m)\n\u001b[1;32m   1151\u001b[0m     \u001b[38;5;28;01mreturn\u001b[39;00m \u001b[38;5;28mself\u001b[39m\u001b[38;5;241m.\u001b[39m_get_rows_with_mask(key)\n",
      "File \u001b[0;32m~/.local/lib/python3.12/site-packages/pandas/core/indexing.py:2662\u001b[0m, in \u001b[0;36mcheck_bool_indexer\u001b[0;34m(index, key)\u001b[0m\n\u001b[1;32m   2660\u001b[0m indexer \u001b[38;5;241m=\u001b[39m result\u001b[38;5;241m.\u001b[39mindex\u001b[38;5;241m.\u001b[39mget_indexer_for(index)\n\u001b[1;32m   2661\u001b[0m \u001b[38;5;28;01mif\u001b[39;00m \u001b[38;5;241m-\u001b[39m\u001b[38;5;241m1\u001b[39m \u001b[38;5;129;01min\u001b[39;00m indexer:\n\u001b[0;32m-> 2662\u001b[0m     \u001b[38;5;28;01mraise\u001b[39;00m IndexingError(\n\u001b[1;32m   2663\u001b[0m         \u001b[38;5;124m\"\u001b[39m\u001b[38;5;124mUnalignable boolean Series provided as \u001b[39m\u001b[38;5;124m\"\u001b[39m\n\u001b[1;32m   2664\u001b[0m         \u001b[38;5;124m\"\u001b[39m\u001b[38;5;124mindexer (index of the boolean Series and of \u001b[39m\u001b[38;5;124m\"\u001b[39m\n\u001b[1;32m   2665\u001b[0m         \u001b[38;5;124m\"\u001b[39m\u001b[38;5;124mthe indexed object do not match).\u001b[39m\u001b[38;5;124m\"\u001b[39m\n\u001b[1;32m   2666\u001b[0m     )\n\u001b[1;32m   2668\u001b[0m result \u001b[38;5;241m=\u001b[39m result\u001b[38;5;241m.\u001b[39mtake(indexer)\n\u001b[1;32m   2670\u001b[0m \u001b[38;5;66;03m# fall through for boolean\u001b[39;00m\n",
      "\u001b[0;31mIndexingError\u001b[0m: Unalignable boolean Series provided as indexer (index of the boolean Series and of the indexed object do not match)."
     ]
    }
   ],
   "source": [
    "meta_data = {}\n",
    "\n",
    "for name in adjusted_values.columns:\n",
    "\n",
    "    no_of_lesser_value = adjusted_values[name] < 0\n",
    "\n",
    "    beta = sum(no_of_lesser_value.values)\n",
    "\n",
    "\n",
    "    confidence = (len(adjusted_values[name]) - beta)/len(adjusted_values[name])\n",
    "    \n",
    "\n",
    "    filter_broker_target = broker_target[name][no_of_lesser_value]\n",
    "\n",
    "    filter_adjust_values = adjusted_values[name][no_of_lesser_value]\n",
    "\n",
    "    broker_target_individual = filter_broker_target.dropna()\n",
    "    \n",
    "    filter_adjust_values_individual = filter_adjust_values.dropna()\n",
    "    \n",
    "\n",
    "    abs_filter_adjust_values_individual = abs(filter_adjust_values_individual)\n",
    "\n",
    "    average = abs_filter_adjust_values_individual.div(broker_target_individual)\n",
    "\n",
    "    sum_average = sum(average.values)\n",
    "\n",
    "    confidence = confidence * (1 - 0.001*beta*(sum_average))\n",
    "\n",
    "    meta_data[name] = [confidence]\n",
    "\n",
    "\n",
    "    "
   ]
  },
  {
   "cell_type": "code",
   "execution_count": null,
   "metadata": {},
   "outputs": [],
   "source": [
    "confidence_score= pd.DataFrame(meta_data)"
   ]
  },
  {
   "cell_type": "code",
   "execution_count": null,
   "metadata": {},
   "outputs": [],
   "source": [
    "confidence_score.to_excel('../data/confidence_score.xlsx', index=False)"
   ]
  },
  {
   "cell_type": "code",
   "execution_count": null,
   "metadata": {},
   "outputs": [],
   "source": [
    "no_of_lesser_value = adjusted_values[name] < 0"
   ]
  },
  {
   "cell_type": "code",
   "execution_count": null,
   "metadata": {},
   "outputs": [
    {
     "data": {
      "text/plain": [
       "4"
      ]
     },
     "execution_count": 125,
     "metadata": {},
     "output_type": "execute_result"
    }
   ],
   "source": [
    "sum(no_of_lesser_value)"
   ]
  },
  {
   "cell_type": "code",
   "execution_count": null,
   "metadata": {},
   "outputs": [],
   "source": [
    "adjusted_values.reset_index(inplace=True)"
   ]
  },
  {
   "cell_type": "code",
   "execution_count": null,
   "metadata": {},
   "outputs": [
    {
     "ename": "TypeError",
     "evalue": "unsupported operand type(s) for +: 'int' and 'str'",
     "output_type": "error",
     "traceback": [
      "\u001b[0;31m---------------------------------------------------------------------------\u001b[0m",
      "\u001b[0;31mTypeError\u001b[0m                                 Traceback (most recent call last)",
      "Cell \u001b[0;32mIn[89], line 1\u001b[0m\n\u001b[0;32m----> 1\u001b[0m \u001b[38;5;28;43msum\u001b[39;49m\u001b[43m(\u001b[49m\u001b[43madjusted_values\u001b[49m\u001b[43m[\u001b[49m\u001b[43mname\u001b[49m\u001b[43m]\u001b[49m\u001b[43m \u001b[49m\u001b[38;5;241;43m<\u001b[39;49m\u001b[43m \u001b[49m\u001b[38;5;241;43m0\u001b[39;49m\u001b[43m)\u001b[49m\n",
      "\u001b[0;31mTypeError\u001b[0m: unsupported operand type(s) for +: 'int' and 'str'"
     ]
    }
   ],
   "source": [
    "sum(adjusted_values[name] < 0)"
   ]
  },
  {
   "cell_type": "code",
   "execution_count": null,
   "metadata": {},
   "outputs": [],
   "source": [
    "filter = adjusted_values[name] < 0"
   ]
  },
  {
   "cell_type": "code",
   "execution_count": null,
   "metadata": {},
   "outputs": [],
   "source": [
    "beta = sum(filter.values)[0]"
   ]
  },
  {
   "cell_type": "code",
   "execution_count": null,
   "metadata": {},
   "outputs": [],
   "source": [
    "filter_broker_target = broker_target[name][adjusted_values[name] < 0]"
   ]
  },
  {
   "cell_type": "code",
   "execution_count": null,
   "metadata": {},
   "outputs": [],
   "source": [
    "filter_adjust_values = adjusted_values[name][adjusted_values[name] < 0]"
   ]
  },
  {
   "cell_type": "code",
   "execution_count": null,
   "metadata": {},
   "outputs": [],
   "source": [
    "broker_target_individual = filter_broker_target.dropna()\n",
    "filter_adjust_values_individual = filter_adjust_values.dropna()"
   ]
  },
  {
   "cell_type": "code",
   "execution_count": null,
   "metadata": {},
   "outputs": [],
   "source": [
    "abs_filter_adjust_values_individual = abs(filter_adjust_values_individual)"
   ]
  },
  {
   "cell_type": "code",
   "execution_count": null,
   "metadata": {},
   "outputs": [],
   "source": [
    "average = abs_filter_adjust_values_individual.div(broker_target_individual)"
   ]
  },
  {
   "cell_type": "code",
   "execution_count": null,
   "metadata": {},
   "outputs": [
    {
     "data": {
      "text/html": [
       "<div>\n",
       "<style scoped>\n",
       "    .dataframe tbody tr th:only-of-type {\n",
       "        vertical-align: middle;\n",
       "    }\n",
       "\n",
       "    .dataframe tbody tr th {\n",
       "        vertical-align: top;\n",
       "    }\n",
       "\n",
       "    .dataframe thead th {\n",
       "        text-align: right;\n",
       "    }\n",
       "</style>\n",
       "<table border=\"1\" class=\"dataframe\">\n",
       "  <thead>\n",
       "    <tr style=\"text-align: right;\">\n",
       "      <th></th>\n",
       "      <th>Armstrong, Brooke</th>\n",
       "    </tr>\n",
       "  </thead>\n",
       "  <tbody>\n",
       "    <tr>\n",
       "      <th>1</th>\n",
       "      <td>6.184559e+05</td>\n",
       "    </tr>\n",
       "    <tr>\n",
       "      <th>7</th>\n",
       "      <td>6.019366e+05</td>\n",
       "    </tr>\n",
       "    <tr>\n",
       "      <th>8</th>\n",
       "      <td>1.495171e+06</td>\n",
       "    </tr>\n",
       "    <tr>\n",
       "      <th>9</th>\n",
       "      <td>1.708113e+06</td>\n",
       "    </tr>\n",
       "  </tbody>\n",
       "</table>\n",
       "</div>"
      ],
      "text/plain": [
       "   Armstrong, Brooke\n",
       "1       6.184559e+05\n",
       "7       6.019366e+05\n",
       "8       1.495171e+06\n",
       "9       1.708113e+06"
      ]
     },
     "execution_count": 116,
     "metadata": {},
     "output_type": "execute_result"
    }
   ],
   "source": [
    "abs_filter_adjust_values_individual"
   ]
  },
  {
   "cell_type": "code",
   "execution_count": null,
   "metadata": {},
   "outputs": [
    {
     "data": {
      "text/html": [
       "<div>\n",
       "<style scoped>\n",
       "    .dataframe tbody tr th:only-of-type {\n",
       "        vertical-align: middle;\n",
       "    }\n",
       "\n",
       "    .dataframe tbody tr th {\n",
       "        vertical-align: top;\n",
       "    }\n",
       "\n",
       "    .dataframe thead th {\n",
       "        text-align: right;\n",
       "    }\n",
       "</style>\n",
       "<table border=\"1\" class=\"dataframe\">\n",
       "  <thead>\n",
       "    <tr style=\"text-align: right;\">\n",
       "      <th></th>\n",
       "      <th>Armstrong, Brooke</th>\n",
       "    </tr>\n",
       "  </thead>\n",
       "  <tbody>\n",
       "    <tr>\n",
       "      <th>1</th>\n",
       "      <td>1.250000e+06</td>\n",
       "    </tr>\n",
       "    <tr>\n",
       "      <th>7</th>\n",
       "      <td>2.122976e+06</td>\n",
       "    </tr>\n",
       "    <tr>\n",
       "      <th>8</th>\n",
       "      <td>1.633932e+06</td>\n",
       "    </tr>\n",
       "    <tr>\n",
       "      <th>9</th>\n",
       "      <td>1.697376e+06</td>\n",
       "    </tr>\n",
       "  </tbody>\n",
       "</table>\n",
       "</div>"
      ],
      "text/plain": [
       "   Armstrong, Brooke\n",
       "1       1.250000e+06\n",
       "7       2.122976e+06\n",
       "8       1.633932e+06\n",
       "9       1.697376e+06"
      ]
     },
     "execution_count": 115,
     "metadata": {},
     "output_type": "execute_result"
    }
   ],
   "source": [
    "broker_target_individual"
   ]
  },
  {
   "cell_type": "code",
   "execution_count": null,
   "metadata": {},
   "outputs": [
    {
     "data": {
      "text/html": [
       "<div>\n",
       "<style scoped>\n",
       "    .dataframe tbody tr th:only-of-type {\n",
       "        vertical-align: middle;\n",
       "    }\n",
       "\n",
       "    .dataframe tbody tr th {\n",
       "        vertical-align: top;\n",
       "    }\n",
       "\n",
       "    .dataframe thead th {\n",
       "        text-align: right;\n",
       "    }\n",
       "</style>\n",
       "<table border=\"1\" class=\"dataframe\">\n",
       "  <thead>\n",
       "    <tr style=\"text-align: right;\">\n",
       "      <th></th>\n",
       "      <th>Armstrong, Brooke</th>\n",
       "    </tr>\n",
       "  </thead>\n",
       "  <tbody>\n",
       "    <tr>\n",
       "      <th>1</th>\n",
       "      <td>0.494765</td>\n",
       "    </tr>\n",
       "    <tr>\n",
       "      <th>7</th>\n",
       "      <td>0.283534</td>\n",
       "    </tr>\n",
       "    <tr>\n",
       "      <th>8</th>\n",
       "      <td>0.915075</td>\n",
       "    </tr>\n",
       "    <tr>\n",
       "      <th>9</th>\n",
       "      <td>1.006326</td>\n",
       "    </tr>\n",
       "  </tbody>\n",
       "</table>\n",
       "</div>"
      ],
      "text/plain": [
       "   Armstrong, Brooke\n",
       "1           0.494765\n",
       "7           0.283534\n",
       "8           0.915075\n",
       "9           1.006326"
      ]
     },
     "execution_count": 114,
     "metadata": {},
     "output_type": "execute_result"
    }
   ],
   "source": [
    "average"
   ]
  },
  {
   "cell_type": "code",
   "execution_count": null,
   "metadata": {},
   "outputs": [
    {
     "data": {
      "text/plain": [
       "array([2.69970015])"
      ]
     },
     "execution_count": 113,
     "metadata": {},
     "output_type": "execute_result"
    }
   ],
   "source": [
    "sum(average.values)"
   ]
  },
  {
   "cell_type": "code",
   "execution_count": null,
   "metadata": {},
   "outputs": [
    {
     "data": {
      "text/plain": [
       "0.5352071964727098"
      ]
     },
     "execution_count": 118,
     "metadata": {},
     "output_type": "execute_result"
    }
   ],
   "source": [
    "0.6*(1 - 0.01*beta*(sum(average.values)[0]))"
   ]
  },
  {
   "cell_type": "code",
   "execution_count": null,
   "metadata": {},
   "outputs": [],
   "source": [
    "for name in actuals.columns[1:]:\n",
    "\n",
    "    \n"
   ]
  },
  {
   "cell_type": "code",
   "execution_count": null,
   "metadata": {},
   "outputs": [
    {
     "data": {
      "text/plain": [
       "Index(['Armstrong, Brooke', 'Breen, Daniel', 'Cosby, Russell', 'Curry, Ashley',\n",
       "       'Darrow, Terry', 'Eckert, Jeff', 'Esquivel, James', 'Forkner, Fiona',\n",
       "       'Haggar, James', 'Halstedt, Lauren', 'Holcomb, Curtis',\n",
       "       'Holland, Melissa', 'Hoobler, Howard', 'Hull, Calvin',\n",
       "       'Jones, Elizabeth', 'Kackley, Kelley', 'Leatherman, Andrew',\n",
       "       'Littlejohn, Torrey', 'McCarthy, Conor', 'McCarthy, Thomas',\n",
       "       'McGown, Jeremy', 'McNeil, Jon', 'Mullin, Daryl', 'Selner, Bradley',\n",
       "       'Sheehy, Ahnie', 'Shipley, Christopher', 'Smith, Jubal',\n",
       "       'Stout, Christopher', 'Taguwa, Andrew', 'Toon, Larry',\n",
       "       'Weatherby, Samuel', 'Whitman, Paul', 'Wood, Alan'],\n",
       "      dtype='object')"
      ]
     },
     "execution_count": 120,
     "metadata": {},
     "output_type": "execute_result"
    }
   ],
   "source": [
    "actuals.columns[1:]"
   ]
  },
  {
   "cell_type": "code",
   "execution_count": null,
   "metadata": {},
   "outputs": [
    {
     "data": {
      "text/html": [
       "<div>\n",
       "<style scoped>\n",
       "    .dataframe tbody tr th:only-of-type {\n",
       "        vertical-align: middle;\n",
       "    }\n",
       "\n",
       "    .dataframe tbody tr th {\n",
       "        vertical-align: top;\n",
       "    }\n",
       "\n",
       "    .dataframe thead th {\n",
       "        text-align: right;\n",
       "    }\n",
       "</style>\n",
       "<table border=\"1\" class=\"dataframe\">\n",
       "  <thead>\n",
       "    <tr style=\"text-align: right;\">\n",
       "      <th></th>\n",
       "      <th>Armstrong, Brooke</th>\n",
       "    </tr>\n",
       "  </thead>\n",
       "  <tbody>\n",
       "    <tr>\n",
       "      <th>0</th>\n",
       "      <td>1.200000e+06</td>\n",
       "    </tr>\n",
       "    <tr>\n",
       "      <th>1</th>\n",
       "      <td>1.250000e+06</td>\n",
       "    </tr>\n",
       "    <tr>\n",
       "      <th>2</th>\n",
       "      <td>1.000000e+06</td>\n",
       "    </tr>\n",
       "    <tr>\n",
       "      <th>3</th>\n",
       "      <td>7.500000e+05</td>\n",
       "    </tr>\n",
       "    <tr>\n",
       "      <th>4</th>\n",
       "      <td>1.250000e+06</td>\n",
       "    </tr>\n",
       "    <tr>\n",
       "      <th>5</th>\n",
       "      <td>1.797766e+06</td>\n",
       "    </tr>\n",
       "    <tr>\n",
       "      <th>6</th>\n",
       "      <td>2.500000e+06</td>\n",
       "    </tr>\n",
       "    <tr>\n",
       "      <th>7</th>\n",
       "      <td>2.122976e+06</td>\n",
       "    </tr>\n",
       "    <tr>\n",
       "      <th>8</th>\n",
       "      <td>1.633932e+06</td>\n",
       "    </tr>\n",
       "    <tr>\n",
       "      <th>9</th>\n",
       "      <td>1.697376e+06</td>\n",
       "    </tr>\n",
       "  </tbody>\n",
       "</table>\n",
       "</div>"
      ],
      "text/plain": [
       "   Armstrong, Brooke\n",
       "0       1.200000e+06\n",
       "1       1.250000e+06\n",
       "2       1.000000e+06\n",
       "3       7.500000e+05\n",
       "4       1.250000e+06\n",
       "5       1.797766e+06\n",
       "6       2.500000e+06\n",
       "7       2.122976e+06\n",
       "8       1.633932e+06\n",
       "9       1.697376e+06"
      ]
     },
     "execution_count": 84,
     "metadata": {},
     "output_type": "execute_result"
    }
   ],
   "source": [
    "broker_target[name]"
   ]
  }
 ],
 "metadata": {
  "kernelspec": {
   "display_name": "Python 3",
   "language": "python",
   "name": "python3"
  },
  "language_info": {
   "codemirror_mode": {
    "name": "ipython",
    "version": 3
   },
   "file_extension": ".py",
   "mimetype": "text/x-python",
   "name": "python",
   "nbconvert_exporter": "python",
   "pygments_lexer": "ipython3",
   "version": "3.12.1"
  }
 },
 "nbformat": 4,
 "nbformat_minor": 2
}
